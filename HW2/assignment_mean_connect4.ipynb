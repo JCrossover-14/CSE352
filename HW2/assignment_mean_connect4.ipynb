{
 "cells": [
  {
   "cell_type": "markdown",
   "metadata": {
    "id": "WyISr3c6L8cY"
   },
   "source": [
    "# Adversarial Search: Playing \"Mean\" Connect 4\n",
    "\n",
    "\n",
    "## Instructions\n",
    "\n",
    "All student names in group: Safwan Kader, Jerry Xiao, Dylan Lai\n",
    "\n",
    "I understand that my submission needs to be my own group's work: SK, JX, DL\n",
    "\n",
    "I understand that ChatGPT / Copilot / other AI tools are not allowed: SK, JX, DL\n",
    "\n",
    "Points: 10\n",
    "\n",
    "Complete this notebook and submit it (save/print as pdf). The notebook needs to be a complete project report with your implementation, documentation including a short discussion of how your implementation works and your design choices, and experimental results (e.g., tables and charts with simulation results) with a short discussion of what they mean. Use the provided notebook cells and insert additional code and markdown cells as needed.\n",
    "\n",
    "## Introduction\n",
    "\n",
    "You will implement different versions of agents that play \"Mean\" Connect 4:\n",
    "\n",
    "> \"Connect 4 is a two-player connection board game, in which the players choose a color and then take turns dropping colored discs into a seven-column, six-row vertically suspended grid. The pieces fall straight down, occupying the lowest available space within the column. The objective of the game is to be the first to form a horizontal, vertical, or diagonal line of four of one's own discs.\" (see [Connect Four on Wikipedia](https://en.wikipedia.org/wiki/Connect_Four))\n",
    "\n",
    "> **The mean part:** This game has an additional rule. Every time it is a player's turn, the player can decide to instead of playing a new disk, take a bottom row disk of the opponent and place it back in the top of the same column. All disks above the removed disk will fall down one position and the removed one will be placed on top. Note that a player can only move an _opponent's disc_ that is in the _bottom row_ of the board. **Further, you are not allowed to play a mean move if your opponent just played one.** This ensures the game will end at some point. This also may affect the definition of a board, compared with standard Connect 4.\n",
    "\n",
    "If a mean move causes both players to win, the game immediately ends and it is a tie, even if one player has more connect-4s than the other one. If a mean move causes one player to win, then the game also ends and the player with the connect-4 is the winner.\n",
    "\n",
    "Note that normal [Connect-4 has been solved](https://en.wikipedia.org/wiki/Connect_Four#Mathematical_solution)\n",
    "in 1988. A connect-4 solver with a discussion of how to solve different parts of the problem can be found here: https://connect4.gamesolver.org/en/"
   ]
  },
  {
   "cell_type": "markdown",
   "metadata": {
    "id": "zuWbcK6gL8cZ"
   },
   "source": [
    "## Task 1: Defining the Search Problem [1 point]\n",
    "\n",
    "**Define the components of the search problem associated with this game:**\n",
    "\n",
    "* Initial state\n",
    "* Actions\n",
    "* Transition model\n",
    "* Test for the terminal state\n",
    "* Utility for terminal states"
   ]
  },
  {
   "cell_type": "markdown",
   "metadata": {
    "id": "uzLitKOdL8cf"
   },
   "source": [
    "- **Initial State (S₀):** \n",
    "  - The initial state is an empty Connect 4 board with no discs placed.\n",
    "  \n",
    "- **Actions (A):** \n",
    "  - Actions include dropping a disc in one of the seven columns or performing a mean move in one of the columns where the opponent has a disc in the bottom row.\n",
    "  \n",
    "- **Transition Model (Result function):** \n",
    "  - The transition model defines how the state changes based on the action taken. It returns the new state after applying the action. In this case, the transition model will show how the board will change after a mean move or regular move. \n",
    "  \n",
    "  - *Result(s,a) -> a'* where s is the current state and a is the action taken. a' is the new state. \n",
    "  \n",
    "- **Test for the terminal state:** \n",
    "  - We can define a function ```check_board``` which checks whether the game has reached a terminal state. This includes checking for a winner or a tie (full board). Terminal states only require at least one winner or ties. If multiple wins are detected, they will be ignored.\n",
    "  \n",
    "- **Utility for terminal states:** \n",
    "  - The utility function assigns utility values based on the outcome of the game. It returns a positive value if Max wins, a negative value if Min wins, and 0 for a tie.\n",
    " "
   ]
  },
  {
   "cell_type": "markdown",
   "metadata": {
    "id": "cHDORt8_L8cg"
   },
   "source": [
    "**How big is the state space? Give an estimate and explain it.**"
   ]
  },
  {
   "cell_type": "markdown",
   "metadata": {
    "id": "D_GIsO80L8cg"
   },
   "source": [
    "The state space is estimated as 3^(6*7) since each cell can have three states (empty, player 1, player 2) on a 6x7 board.\n",
    "\n"
   ]
  },
  {
   "cell_type": "markdown",
   "metadata": {
    "id": "7ci9AS2QL8ch"
   },
   "source": [
    "**How big is the game tree that minimax search will go through? Give an estimate and explain it.**"
   ]
  },
  {
   "cell_type": "markdown",
   "metadata": {
    "id": "iTkWu4ZiL8ci"
   },
   "source": [
    "The game tree is estimated based on the branching factor (number of possible actions) raised to the depth of the tree. The depth is the maximum number of moves until the end of the game, which is typically less than 42 (6 rows * 7 columns)."
   ]
  },
  {
   "cell_type": "markdown",
   "metadata": {
    "id": "u66LNfUEL8ci"
   },
   "source": [
    "## Task 2: Game Environment and Random Agent [3 point]\n",
    "\n",
    "You can use a numpy character array as the board. Note that the following function can create boards of different sizes."
   ]
  },
  {
   "cell_type": "code",
   "execution_count": 4,
   "metadata": {
    "id": "gFoRCZefL8cj",
    "outputId": "00cf5cf5-25c4-407c-8ce4-c0a215ce24ca"
   },
   "outputs": [
    {
     "name": "stdout",
     "output_type": "stream",
     "text": [
      "[[0 0 0 0 0 0 0]\n",
      " [0 0 0 0 0 0 0]\n",
      " [0 0 0 0 0 0 0]\n",
      " [0 0 0 0 0 0 0]\n",
      " [0 0 0 0 0 0 0]\n",
      " [0 0 0 0 0 0 0]]\n"
     ]
    }
   ],
   "source": [
    "import numpy as np\n",
    "\n",
    "def empty_board(shape=(6, 7)):\n",
    "    return np.full(shape=shape, fill_value=0)\n",
    "\n",
    "print(empty_board())"
   ]
  },
  {
   "cell_type": "markdown",
   "metadata": {
    "id": "GCCwVya8L8cj"
   },
   "source": [
    "Instead of colors (red and yellow), you can use 1 and -1 to represent the players Max and Min. Make sure that your agent functions all have the from: `agent_type(state, player = 1)`, where board is the current board position and player is the player (1, -1) whose next move it is and who the agent should play."
   ]
  },
  {
   "cell_type": "markdown",
   "metadata": {
    "id": "DtsGKQPsL8ck"
   },
   "source": [
    "Visualization code by Randolph Rankin:"
   ]
  },
  {
   "cell_type": "code",
   "execution_count": 89,
   "metadata": {
    "id": "dRChZkdZL8ck",
    "outputId": "93cf152b-5e40-4a66-b68f-a3ba69d0a94e",
    "scrolled": true
   },
   "outputs": [
    {
     "data": {
      "image/png": "[encoded data removed]",
      "text/plain": [
       "<Figure size 640x480 with 1 Axes>"
      ]
     },
     "metadata": {},
     "output_type": "display_data"
    }
   ],
   "source": [
    "import matplotlib.pyplot as plt\n",
    "\n",
    "def visualize(board):\n",
    "    plt.axes()\n",
    "    rectangle=plt.Rectangle((-0.5,len(board)*-1+0.5),len(board[0]),len(board),fc='blue')\n",
    "    circles=[]\n",
    "    for i,row in enumerate(board):\n",
    "        for j,val in enumerate(row):\n",
    "            color='white' if val==0 else 'red' if val==1 else 'yellow'\n",
    "            circles.append(plt.Circle((j,i*-1),0.4,fc=color))\n",
    "\n",
    "    plt.gca().add_patch(rectangle)\n",
    "    for circle in circles:\n",
    "        plt.gca().add_patch(circle)\n",
    "\n",
    "    plt.axis('scaled')\n",
    "    plt.show()\n",
    "\n",
    "board = [[0, 0, 0, 0, 0, 0, 0],\n",
    "         [0, 0, 0, 0, 0, 0, 0],\n",
    "         [0, 0, 0, 0, 0, 0, 0],\n",
    "         [0, 0, 0, 1, 0, 0, 0],\n",
    "         [0, 0, 0, 1, 0, 0, 0],\n",
    "         [0,-1,-1, 1,-1, 0, 0]]\n",
    "\n",
    "visualize(board)"
   ]
  },
  {
   "cell_type": "markdown",
   "metadata": {
    "id": "ZOa_fihRL8ck"
   },
   "source": [
    "Implement helper functions for:\n",
    "\n",
    "* The transition model $result(s, a)$.\n",
    "* The utility function $utility(s)$.\n",
    "* Check for terminal states $terminal(s)$.\n",
    "* A check for available actions in each state $actions(s)$.\n",
    "\n",
    "Make sure that all these functions work with boards of different sizes (number of columns and rows)."
   ]
  },
  {
   "cell_type": "code",
   "execution_count": 186,
   "metadata": {
    "id": "8sDMBWFtL8ck"
   },
   "outputs": [],
   "source": [
    "import itertools\n",
    "mean_allowed = True\n",
    "def action(board, move, player):\n",
    "    new_board = [row.copy() for row in board]\n",
    "    if move[0] == 'drop':\n",
    "        column = move[1]\n",
    "        for row in range(len(new_board) - 1, -1, -1):\n",
    "            if new_board[row][column] == 0:\n",
    "                new_board[row][column] = player \n",
    "                break\n",
    "    elif move[0] == 'mean':\n",
    "        column = move[1]\n",
    "        row = len(new_board) - 1\n",
    "        while new_board[row][column] != 0 and row > 0:\n",
    "            new_board[row][column] = new_board[row - 1][column]\n",
    "            row -= 1\n",
    "        new_board[row + 1][column] = player * -1\n",
    "    return new_board\n",
    "\n",
    "def utility(board):\n",
    "    winner = check_board(board)\n",
    "    if winner == 1:\n",
    "        return 100  # player 1 wins\n",
    "    elif winner == -1:\n",
    "        return -100  # player 2 wins\n",
    "    # elif winner == 0:\n",
    "    #     return 0  # It's a draw\n",
    "    \n",
    "    rows = len(board)\n",
    "    cols = len(board[0])\n",
    "\n",
    "    # evaluate the board based on the number of connected pieces for the player\n",
    "    player_count = count_connected_pieces(board, 1, rows, cols)\n",
    "    opponent_count = count_connected_pieces(board, -1, rows, cols)\n",
    "    \n",
    "\n",
    "    return player_count - opponent_count\n",
    "\n",
    "def count_connected_pieces(board, player, rows, cols):\n",
    "    # sourcery skip: sum-comprehension, use-itertools-product\n",
    "    count = 0\n",
    "    \n",
    "    # check horizontally\n",
    "    for row in range(rows):\n",
    "        for col in range(cols - 1):\n",
    "            if board[row][col] == player and board[row][col + 1] == player:\n",
    "                count += 1\n",
    "                   \n",
    "    # check vertically\n",
    "    for row in range(rows - 1):\n",
    "        for col in range(cols):\n",
    "            if board[row][col] == player and board[row + 1][col] == player:\n",
    "                count += 1\n",
    "             \n",
    "    # check diagonally (from bottom-left to top-right)\n",
    "    for row in range(rows - 1):\n",
    "        for col in range(cols - 1):\n",
    "            if board[row][col] == player and board[row + 1][col + 1] == player:\n",
    "                count += 1\n",
    "            \n",
    "    # check diagonally (from top-left to bottom-right)\n",
    "    for row in range(rows - 1):\n",
    "        for col in range(1, cols):\n",
    "            if board[row][col] == player and board[row + 1][col - 1] == player:\n",
    "                count += 1\n",
    "               \n",
    "    return count\n",
    "\n",
    "def is_winning_sequence(sequence):\n",
    "    winning_sequences = [[1, 1, 1, 1], [-1, -1, -1, -1]]\n",
    "def is_winning_sequence(sequence):\n",
    "    winning_sequences = [[1, 1, 1, 1], [-1, -1, -1, -1]]\n",
    "    return next(\n",
    "        (\n",
    "            seq[0]\n",
    "            for i, seq in itertools.product(\n",
    "                range(len(sequence) - 3), winning_sequences\n",
    "            )\n",
    "            if all(sequence[i + j] == seq[j] for j in range(4))\n",
    "        ),\n",
    "        None,\n",
    "    )\n",
    "\n",
    "\n",
    "def check_board(board):\n",
    "    # check rows\n",
    "    for row in board:\n",
    "        winner = is_winning_sequence(row)\n",
    "        if winner is not None:\n",
    "            return winner\n",
    "\n",
    "    # check columns\n",
    "    for col in range(len(board[0])):\n",
    "        column_values = [board[row][col] for row in range(len(board))]\n",
    "        winner = is_winning_sequence(column_values)\n",
    "        if winner is not None:\n",
    "            return winner\n",
    "\n",
    "    # check diagonals\n",
    "    for row in range(len(board) - 3):\n",
    "        for col in range(len(board[0]) - 3):\n",
    "            diagonal_values = [board[row + i][col + i] for i in range(4)]\n",
    "            anti_diagonal_values = [board[row + 3 - i][col + i] for i in range(4)]\n",
    "\n",
    "            winner = is_winning_sequence(diagonal_values)\n",
    "            if winner is not None:\n",
    "                return winner\n",
    "\n",
    "            winner = is_winning_sequence(anti_diagonal_values)\n",
    "            if winner is not None:\n",
    "                return winner\n",
    "\n",
    "    # check ties\n",
    "    return 0 if all(cell != 0 for row in board for cell in row) else None\n",
    "\n",
    " \n",
    "\n",
    "\n",
    "def available_actions(board, player, mean_allowed = True):\n",
    "    actions = []\n",
    "    \n",
    "    for column in range(len(board[0])):\n",
    "        if board[0][column] == 0: \n",
    "            actions.append(('drop', column))\n",
    "            \n",
    "        last_row = len(board) - 1\n",
    "        \n",
    "        if mean_allowed:\n",
    "            if board[last_row][column] == (player * -1) and board[last_row - 1][column] != 0:\n",
    "                actions.append(('mean', column))\n",
    "                \n",
    "    return actions\n"
   ]
  },
  {
   "cell_type": "markdown",
   "metadata": {
    "id": "8T7SYQM4L8cl"
   },
   "source": [
    "Implement an agent that plays randomly. Make sure the agent function receives as the percept the game state and returns a valid action. Use an agent function definition with the following signature (arguments):\n",
    "\n",
    "`def random_player(state, player = None): ...`\n",
    "\n",
    "The argument `player` is used for agents that do not store what side they are playing. The value passed on by the environment should be 1 ot -1 for playerred and yellow, respectively.  See [Experiments section for tic-tac-toe](https://nbviewer.org/github/mhahsler/CS7320-AI/blob/master/Games/tictactoe_and_or_tree_search.ipynb#Experiments) for an example."
   ]
  },
  {
   "cell_type": "code",
   "execution_count": 187,
   "metadata": {
    "id": "g0uUKNKNL8cl"
   },
   "outputs": [],
   "source": [
    "import random\n",
    "\n",
    "def random_player(board, player = None, mean_allowed = True):\n",
    "    action = available_actions(board, player, mean_allowed)\n",
    "    return random.choice(action) if action else None"
   ]
  },
  {
   "cell_type": "markdown",
   "metadata": {
    "id": "rS3yOFlbL8cl"
   },
   "source": [
    "Let two random agents play against each other 1000 times. Look at the [Experiments section for tic-tac-toe](https://nbviewer.org/github/mhahsler/CS7320-AI/blob/master/Games/tictactoe_and_or_tree_search.ipynb#Experiments) to see how the environment uses the agent functions to play against each other.\n",
    "\n",
    "How often does each player win? Is the result expected?"
   ]
  },
  {
   "cell_type": "code",
   "execution_count": 191,
   "metadata": {
    "id": "55tvNH3vL8cl",
    "tags": []
   },
   "outputs": [
    {
     "data": {
      "text/plain": [
       "{'1': 594, '-1': 406, '0': 0}"
      ]
     },
     "execution_count": 191,
     "metadata": {},
     "output_type": "execute_result"
    }
   ],
   "source": [
    "def switch_player(player):\n",
    "    return -1 if player == 1 else 1\n",
    "\n",
    "def play(N = 1000):\n",
    "    \"\"\"Let two agents play each other N times. x starts. x and y are agent functions that \n",
    "    get the board as the percept and return their next action.\"\"\"\n",
    "    \n",
    "    results = {'1': 0, '-1': 0, '0': 0}\n",
    "    \n",
    "    mean_allowed = True\n",
    "    \n",
    "    for _ in range(N):\n",
    "        \n",
    "        board = empty_board()\n",
    "        player = 1\n",
    "        \n",
    "        while True:\n",
    "            \n",
    "            if move := random_player(board, player, mean_allowed):\n",
    "                mean_allowed = move[0] != 'mean'\n",
    "                board = action(board, move, player)\n",
    "                \n",
    "            if win := check_board(board):\n",
    "                results[str(win)] += 1\n",
    "                break\n",
    "            \n",
    "            player = switch_player(player)   \n",
    "        \n",
    "    return results\n",
    "\n",
    "play()"
   ]
  },
  {
   "cell_type": "markdown",
   "metadata": {
    "id": "DvzOxRDpL8cm"
   },
   "source": [
    "## Task 3: Minimax Search with Alpha-Beta Pruning [3 points]\n",
    "\n",
    "### Implement the search starting.\n",
    "\n",
    "Implement the search starting from a given state and specifying the player and put it into an agent function.\n",
    "You can use code from the [tic-tac-toe example](https://nbviewer.org/github/mhahsler/CS7320-AI/blob/master/Games/tictactoe_alpha_beta_tree_search.ipynb).\n",
    "\n",
    "__Notes:__\n",
    "* Make sure that all your agent functions have a signature consistent with the random agent above.\n",
    "* The search space for a $6 \\times 7$ board is large. You can experiment with smaller boards (the smallest is $4 \\times 4$) and/or changing the winning rule to connect 3 instead of 4."
   ]
  },
  {
   "cell_type": "code",
   "execution_count": 197,
   "metadata": {
    "id": "GJ2xQLrWL8cm"
   },
   "outputs": [],
   "source": [
    "import math\n",
    "\n",
    "# global variables\n",
    "DEBUG = 1 # 1 ... count nodes, 2 ... debug each node\n",
    "COUNT = 0\n",
    "\n",
    "def alpha_beta_search(board, player = 1):  # sourcery skip: move-assign\n",
    "    \"\"\"start the search.\"\"\"\n",
    "    global DEBUG, COUNT\n",
    "    COUNT = 0\n",
    "    \n",
    "    print('calling alpha-beta pruning function')\n",
    "    value, move = max_value_ab(board, player, -math.inf, +math.inf)\n",
    "    \n",
    "    if DEBUG >= 1: print(f\"Number of nodes searched: {COUNT}\") \n",
    "    \n",
    "    return { \"move\": move, \"value\": value }\n",
    "\n",
    "def max_value_ab(state, player, alpha, beta):\n",
    "    \"\"\"player's best move.\"\"\"\n",
    "    global DEBUG, COUNT\n",
    "    COUNT += 1\n",
    "\n",
    "    # return utility of state is a terminal state\n",
    "    print(\"checking utility\")\n",
    "    v = utility(state)\n",
    "    print(\"utility of current state :\",v)\n",
    "    if DEBUG >= 2: print(f\"max: {state} [alpha,beta]=[{alpha},{beta}] v={v}\")\n",
    "    if v in [100, -100]: \n",
    "        if DEBUG >= 2:\n",
    "            print(\"     found terminal state. backtracking.\")\n",
    "        return v, None\n",
    "\n",
    "    \n",
    "    v, move = -math.inf, None\n",
    "\n",
    "    # check all possible actions in the state, update alpha and return move with the largest value\n",
    "    for a in available_actions(state,player):\n",
    "        v2, a2 = min_value_ab(action(state, a, player), player, alpha, beta)\n",
    "        if DEBUG >= 2: print(f\"max: {state} (backtracked) [alpha,beta]=[{alpha},{beta}] v={v2}\")\n",
    "\n",
    "        if v2 > v:\n",
    "            v, move = v2, a\n",
    "            alpha = max(alpha, v)\n",
    "        if v >= beta:\n",
    "            if DEBUG >= 2: print(f\"     v>=beta ({v}>={beta}): pruning remaining subtree (actions). backtracking.\")\n",
    "            return v, move\n",
    "\n",
    "    return v, move\n",
    "\n",
    "def min_value_ab(state, player, alpha, beta):\n",
    "    \"\"\"opponent's best response.\"\"\"\n",
    "    global DEBUG, COUNT\n",
    "    COUNT += 1\n",
    "\n",
    "    # return utility of state is a terminal state\n",
    "    v = utility(state)\n",
    "    if DEBUG >= 2: print(f\"min: {state} [alpha,beta]=[{alpha},{beta}] v={v}\")\n",
    "    if v is not None: \n",
    "        if DEBUG >= 2:\n",
    "            print(\"     found terminal state. backtracking.\")\n",
    "        return v, None\n",
    "\n",
    "    v, move = +math.inf, None\n",
    "\n",
    "    # check all possible actions in the state, update beta and return move with the smallest value\n",
    "    for a in available_actions(state, player):\n",
    "        v2, a2 = max_value_ab(action(state, a, switch_player(player)), player, alpha, beta)\n",
    "        if DEBUG >= 2: print(f\"min: {state} (backtracked) [alpha,beta]=[{alpha},{beta}] v={v2}\")\n",
    "\n",
    "        if v2 < v:\n",
    "            v, move = v2, a\n",
    "            beta = min(beta, v)\n",
    "        if v <= alpha: \n",
    "            if DEBUG >= 2: print(f\"     v<=alpha ({v}<={alpha}): pruning remaining subtree (actions). backtracking.\")\n",
    "            return v, move\n",
    "\n",
    "    return v, move"
   ]
  },
  {
   "cell_type": "markdown",
   "metadata": {
    "id": "XQeK9qFXL8cm"
   },
   "source": [
    "Experiment with some manually created boards (at least 5) to check if the agent spots winning opportunities."
   ]
  },
  {
   "cell_type": "code",
   "execution_count": 198,
   "metadata": {
    "id": "ECcMh7WTL8cm"
   },
   "outputs": [
    {
     "name": "stdout",
     "output_type": "stream",
     "text": [
      "Board:\n"
     ]
    },
    {
     "data": {
      "image/png": "[encoded data removed]",
      "text/plain": [
       "<Figure size 640x480 with 1 Axes>"
      ]
     },
     "metadata": {},
     "output_type": "display_data"
    },
    {
     "name": "stdout",
     "output_type": "stream",
     "text": [
      "\n",
      "calling alpha-beta pruning function\n",
      "checking utility\n",
      "utility of current state : 1\n",
      "Number of nodes searched: 8\n"
     ]
    },
    {
     "data": {
      "text/plain": [
       "{'move': ('drop', 3), 'value': 100}"
      ]
     },
     "metadata": {},
     "output_type": "display_data"
    },
    {
     "name": "stdout",
     "output_type": "stream",
     "text": [
      "CPU times: user 4.56 ms, sys: 131 µs, total: 4.69 ms\n",
      "Wall time: 1.44 ms\n"
     ]
    }
   ],
   "source": [
    "# win in column 2\n",
    "board1 = [[0, 0, 0, 0, 0, 0, 0],\n",
    "          [0, 0, 0, 0, 0, 0, 0],\n",
    "          [0, 0, 1, 0, 0, 0, 0],\n",
    "          [0, 0, 1, 1, 0, 0, 0],\n",
    "          [0, 0, 1, 1, 0, 0, 0],\n",
    "          [0, 0,-1,-1,-1, 0, 0]]\n",
    "\n",
    "print(\"Board:\")\n",
    "visualize(board)\n",
    "\n",
    "print()\n",
    "%time display(alpha_beta_search(board))\n",
    "# win in column 1\n",
    "board2 = [[0, 0, 0, 0, 0, 0, 0],\n",
    "          [0, 0, 0, 0, 0, 0, 0],\n",
    "          [0, 1, 0, 0, 0, 0, 0],\n",
    "          [0, 1, 0, 0, 0, 0, 0],\n",
    "          [0, 1, 0, 0, 0, 0, 0],\n",
    "          [0,-1,-1,-1, 0, 0, 0]]\n",
    "\n",
    "# win in diagonal\n",
    "board3 = [[0, 0, 0, 0, 0, 0, 0],\n",
    "          [0, 0, 0, 0, 0, 0, 0],\n",
    "          [0, 0, 0, 0, 0, 0, 0],\n",
    "          [0, -1, 1, 0, 0, 0, 0],\n",
    "          [0, -1, 1, 1, 0, 0, 0],\n",
    "          [0,-1, -1,-1, 1, 0, 0]]\n",
    "\n",
    "# win in anti-diagonal\n",
    "board4 = [[0, 0, 0, 0, 0, 0, 0],\n",
    "          [0, 0, 0, 0, 0, 0, 0],\n",
    "          [0, 0, 0, 0, 0, 0, 0],\n",
    "          [0, -1, -1, 1, 1, 0, 0],\n",
    "          [0, -1, 1, 1, -1, 0, 0],\n",
    "          [0, 1, -1, -1, 1, 0, 0]]\n",
    "\n",
    "# win in row 4\n",
    "board5 = [[0, 0, 0, 0, 0, 0, 0],\n",
    "          [0, 0, 0, 0, 0, 0, 0],\n",
    "          [0, 0, 0, 0, 0, 0, 0],\n",
    "          [0, 0, 1, 1, 1, 0, 0],\n",
    "          [0, 0, 1,-1, 1, -1, 0],\n",
    "          [0,-1,-1, 1,-1, -1, 0]]\n"
   ]
  },
  {
   "cell_type": "markdown",
   "metadata": {
    "id": "8ByI_b2VL8cm"
   },
   "source": [
    "How long does it take to make a move? Start with a smaller board with 4 columns and make the board larger by adding columns."
   ]
  },
  {
   "cell_type": "code",
   "execution_count": null,
   "metadata": {
    "id": "1kG2qLFIL8cm"
   },
   "outputs": [],
   "source": [
    "# Your code/ answer goes here."
   ]
  },
  {
   "cell_type": "markdown",
   "metadata": {
    "id": "XDHTe0LcL8cn"
   },
   "source": [
    "### Move ordering\n",
    "\n",
    "Starting the search with better moves will increase the efficiency of alpha-beta pruning. Describe and implement a simple move ordering strategy. Make a table that shows how the ordering strategies influence the time it takes to make a move."
   ]
  },
  {
   "cell_type": "code",
   "execution_count": null,
   "metadata": {
    "id": "omeYo7HyL8cn"
   },
   "outputs": [],
   "source": [
    "# Your code/ answer goes here."
   ]
  },
  {
   "cell_type": "markdown",
   "metadata": {
    "id": "n_ZJDd9nL8cn"
   },
   "source": [
    "### The first few moves\n",
    "\n",
    "Start with an empty board. This is the worst case scenario for minimax search with alpha-beta pruning since it needs solve all possible games that can be played (minus some pruning) before making the decision. What can you do?"
   ]
  },
  {
   "cell_type": "code",
   "execution_count": null,
   "metadata": {
    "id": "Ip9dbCRgL8cn"
   },
   "outputs": [],
   "source": [
    "# Your code/ answer goes here."
   ]
  },
  {
   "cell_type": "markdown",
   "metadata": {
    "id": "Uhk1YRnDL8cn"
   },
   "source": [
    "### Playtime\n",
    "\n",
    "Let the Minimax Search agent play a random agent on a small board. Analyze wins, losses and draws."
   ]
  },
  {
   "cell_type": "code",
   "execution_count": null,
   "metadata": {
    "id": "Kx1qffv2L8co"
   },
   "outputs": [],
   "source": [
    "# Your code/ answer goes here."
   ]
  },
  {
   "cell_type": "markdown",
   "metadata": {
    "id": "LXE2i58iL8co"
   },
   "source": [
    "## Task 4: Heuristic Alpha-Beta Tree Search [3 points]\n",
    "\n",
    "### Heuristic evaluation function\n",
    "\n",
    "Define and implement a heuristic evaluation function."
   ]
  },
  {
   "cell_type": "code",
   "execution_count": null,
   "metadata": {
    "id": "qoCQIXw_L8co"
   },
   "outputs": [],
   "source": [
    "# Your code/ answer goes here."
   ]
  },
  {
   "cell_type": "markdown",
   "metadata": {
    "id": "QbIviqR6L8co"
   },
   "source": [
    "### Cutting off search\n",
    "\n",
    "Modify your Minimax Search with Alpha-Beta Pruning to cut off search at a specified depth and use the heuristic evaluation function. Experiment with different cutoff values."
   ]
  },
  {
   "cell_type": "code",
   "execution_count": null,
   "metadata": {
    "id": "IhKCwDTPL8co"
   },
   "outputs": [],
   "source": [
    "# Your code/ answer goes here."
   ]
  },
  {
   "cell_type": "markdown",
   "metadata": {
    "id": "NBpYGvxBL8co"
   },
   "source": [
    "Experiment with the same manually created boards as above to check if the agent spots winning opportunities."
   ]
  },
  {
   "cell_type": "code",
   "execution_count": null,
   "metadata": {
    "id": "KHqb_K5YL8co"
   },
   "outputs": [],
   "source": [
    "# Your code/ answer goes here."
   ]
  },
  {
   "cell_type": "markdown",
   "metadata": {
    "id": "ZaBC7W7VL8cp"
   },
   "source": [
    "How long does it take to make a move? Start with a smaller board with 4 columns and make the board larger by adding columns."
   ]
  },
  {
   "cell_type": "code",
   "execution_count": null,
   "metadata": {
    "id": "yb303vWbL8cp"
   },
   "outputs": [],
   "source": [
    "# Your code/ answer goes here."
   ]
  },
  {
   "cell_type": "markdown",
   "metadata": {
    "id": "bokyrXrkL8cp"
   },
   "source": [
    "### Playtime\n",
    "\n",
    "Let two heuristic search agents (different cutoff depth, different heuristic evaluation function) compete against each other on a reasonably sized board. Since there is no randomness, you only need to let them play once."
   ]
  },
  {
   "cell_type": "code",
   "execution_count": null,
   "metadata": {
    "id": "hUILjLbdL8cp"
   },
   "outputs": [],
   "source": [
    "# Your code/ answer goes here."
   ]
  },
  {
   "cell_type": "markdown",
   "metadata": {
    "id": "UFhDH9M_L8cp"
   },
   "source": [
    "---\n",
    "Assignment adapted from [Michael Hahsler](https://github.com/mhahsler/CS7320-AI) under [CC BY-SA](https://creativecommons.org/licenses/by-sa/4.0/deed.en) license.\n"
   ]
  }
 ],
 "metadata": {
  "colab": {
   "provenance": []
  },
  "kernelspec": {
   "display_name": "Python 3 (ipykernel)",
   "language": "python",
   "name": "python3"
  },
  "language_info": {
   "codemirror_mode": {
    "name": "ipython",
    "version": 3
   },
   "file_extension": ".py",
   "mimetype": "text/x-python",
   "name": "python",
   "nbconvert_exporter": "python",
   "pygments_lexer": "ipython3",
   "version": "3.9.6"
  }
 },
 "nbformat": 4,
 "nbformat_minor": 1
}
