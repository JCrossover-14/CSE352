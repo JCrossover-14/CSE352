{
  "cells": [
    {
      "cell_type": "markdown",
      "metadata": {
        "id": "-rnkCP9R2o_Z"
      },
      "source": [
        "# Introduction\n",
        "\n",
        "All student names in group: [Add your name]\n",
        "\n",
        "I understand that my submission needs to be my own group's work: [all group member's initials]\n",
        "\n",
        "I understand that ChatGPT / Copilot / other AI tools are not allowed: [all group member's initials]\n",
        "\n",
        "Points: 10\n",
        "\n",
        "Complete this notebook and submit it (save/print as pdf). Make sure all output is correct in the pdf before submitting (it sometimes gets cut off). The notebook needs to be a complete project report with your implementation, documentation including a short discussion of how your implementation works and your design choices, and experimental results (e.g., tables and charts with simulation results) with a short discussion of what they mean. Use the provided notebook cells and insert additional code and markdown cells as needed."
      ]
    },
    {
      "cell_type": "markdown",
      "metadata": {
        "id": "wdtvm8lB2o_b"
      },
      "source": [
        "## Z3 and Z3py resources\n",
        "\n",
        "For this problem you will be solving constraint satisfaction and logic problems using the Z3 SMT solver via the z3py python library.\n",
        "\n",
        "The demo code using z3py we went over in class is here: [link](https://drive.google.com/drive/folders/16HQXiwdcaman1IpC7H6vSJ71QQQ-aL2z?usp=sharing)\n",
        "\n",
        "Online help for z3py is here: [link](https://ericpony.github.io/z3py-tutorial/guide-examples.htm)"
      ]
    },
    {
      "cell_type": "markdown",
      "metadata": {
        "id": "F6mYrFaM2o_b"
      },
      "source": [
        "## Installation\n",
        "\n",
        "We first install to get the z3solver library using pip and test that works."
      ]
    },
    {
      "cell_type": "code",
      "source": [
        "!pip install z3-solver"
      ],
      "metadata": {
        "id": "EoLs1AWw38Tj",
        "outputId": "8319d3ab-dab8-4b44-ac77-089ecebd3f70",
        "colab": {
          "base_uri": "https://localhost:8080/"
        }
      },
      "execution_count": null,
      "outputs": [
        {
          "output_type": "stream",
          "name": "stdout",
          "text": [
            "Collecting z3-solver\n",
            "  Downloading z3_solver-4.13.0.0-py2.py3-none-manylinux2014_x86_64.whl (57.3 MB)\n",
            "\u001b[2K     \u001b[90m━━━━━━━━━━━━━━━━━━━━━━━━━━━━━━━━━━━━━━━━\u001b[0m \u001b[32m57.3/57.3 MB\u001b[0m \u001b[31m13.4 MB/s\u001b[0m eta \u001b[36m0:00:00\u001b[0m\n",
            "\u001b[?25hInstalling collected packages: z3-solver\n"
          ]
        }
      ]
    },
    {
      "cell_type": "code",
      "execution_count": 2,
      "metadata": {
        "id": "xnQTztNX2o_c",
        "outputId": "8e4e28f7-cc1e-4b31-81af-287236303d5a",
        "colab": {
          "base_uri": "https://localhost:8080/"
        }
      },
      "outputs": [
        {
          "output_type": "stream",
          "name": "stdout",
          "text": [
            "[y = 0, x = 7]\n"
          ]
        }
      ],
      "source": [
        "# Run the first example from the z3py guide as a test: https://ericpony.github.io/z3py-tutorial/guide-examples.htm\n",
        "from z3 import *\n",
        "\n",
        "x = Int('x')\n",
        "y = Int('y')\n",
        "solve(x > 2, y < 10, x + 2*y == 7)"
      ]
    },
    {
      "cell_type": "markdown",
      "source": [
        "# Sudoku as a constraint satisfaction problem (CSP)\n",
        "\n",
        "Sudoku is a popular number-placement puzzle that originated in France in the end of the 19th century.  Modern Sudoku was likely invented by Howard Garns from Connersville, Indiana and was first published in 1979 under the name *Number Place*. The objective of the puzzle is to place numbers 1-9 on a 9$\\times$9 grid, such that each number occurs only once in every row, every column, and every of the nine 3$\\times$3 sub-grids that compose the main grid.\n",
        "Sudoku puzzles are grids that have been partially occupied with numbers. The task is then to occupy the remaining fields in such a way that the constraints on rows, columns, and sub-grids are satisfied.\n",
        "For more information about Sudoku refer to its Wikipedia page at http://en.wikipedia.org/wiki/Sudoku.\n",
        "\n",
        "This problem has two parts. In the first part, you will write the boolean constraints in mathematical notation for solving a Sudoku puzzle. In the second part, you will write code and invoke the Z3 solver to solve the Sudoku instance and answer various questions about the solution.\n",
        "\n",
        "## Part 1 (Constraints)\n",
        "In text, define and write constraints over **boolean** variables corresponding to each number being in each cell. For example, you may use $X_{i,j}^k$ as teh variable that is true if and only if the number $k$ is in row $i$ and column $j$ (the variable is true if $k$ is in cell $(i, j)$ and false otherwise). Now write the following boolean constaints over these variables:\n",
        "\n",
        "* Write the boolean formula for the constraints that the number 5 can occur at most once in the first row. **(1 point)**\n",
        "\n",
        "$\\bigvee_{i=1}^{9}X_{1,i}^5 \\bigwedge_{j=1 \\: i!=j}^{9} \\neg X_{1,j}^5$\n",
        "\n",
        "* Write the boolean formula for the constraints that the number 6 can occur at most once in the first column. **(1 point)**\n",
        "\n",
        "$\\bigvee_{i=1}^{9}X_{i,1}^6 \\bigwedge_{j=1 \\: i!=j}^{9} \\neg X_{j,1}^6$\n",
        "\n",
        "* Write the boolean formula for the constraints that the number 9 can occur at most once in the top left 3$\\times$3 sub-grid. **(1 point)**\n",
        "\n",
        "$⋁_{i=1}^3⋁_{j=1}^3X_{i,j}^9 ⋀_{k=1}^3 ⋀_{l=1}^3 \\neg X_{i,j}^9 \\: if \\: i!=k \\: or j!=l$"
      ],
      "metadata": {
        "id": "9J3lpQvP52jm"
      }
    },
    {
      "cell_type": "markdown",
      "source": [
        "Solution:\n",
        "\n"
      ],
      "metadata": {
        "id": "ju3Q1ewW7aeu"
      }
    },
    {
      "cell_type": "markdown",
      "source": [
        "## Part 2 (Coding)\n",
        "\n",
        "Encode the above constraints and all the other ones as a CSP using z3py and solve the Sudoku instance given in the figure below. **Use only boolean variables** and do not use the **Distinct** function.\n",
        "\n",
        "* Provide the code to solve that solves the given problem instance using z3py and only boolean variables. The code should output a reasonable visualization of the solution, for example printed in text. **(1 points)**\n",
        "\n",
        "<img src=\"https://raw.githubusercontent.com/stanleybak/CS7320-AI/master/Knowledge-based/sudoku1.jpg\" width=\"400\"/>\n",
        "\n"
      ],
      "metadata": {
        "id": "y7kArKLH7eOR"
      }
    },
    {
      "cell_type": "code",
      "source": [
        "# z3py code to solve above Sudoku goes here. Do not use Int(*), only Bool(*)\n",
        "from z3 import *\n",
        "\n",
        "\n"
      ],
      "metadata": {
        "id": "UghnVSTS-kJi",
        "colab": {
          "base_uri": "https://localhost:8080/",
          "height": 366
        },
        "outputId": "d04ba8a7-8e7a-4101-c98f-feeacad93d5e"
      },
      "execution_count": 1,
      "outputs": [
        {
          "output_type": "error",
          "ename": "ModuleNotFoundError",
          "evalue": "No module named 'z3'",
          "traceback": [
            "\u001b[0;31m---------------------------------------------------------------------------\u001b[0m",
            "\u001b[0;31mModuleNotFoundError\u001b[0m                       Traceback (most recent call last)",
            "\u001b[0;32m<ipython-input-1-1faa6f4e4ca6>\u001b[0m in \u001b[0;36m<cell line: 2>\u001b[0;34m()\u001b[0m\n\u001b[1;32m      1\u001b[0m \u001b[0;31m# z3py code to solve above Sudoku goes here. Do not use Int(*), only Bool(*)\u001b[0m\u001b[0;34m\u001b[0m\u001b[0;34m\u001b[0m\u001b[0m\n\u001b[0;32m----> 2\u001b[0;31m \u001b[0;32mfrom\u001b[0m \u001b[0mz3\u001b[0m \u001b[0;32mimport\u001b[0m \u001b[0;34m*\u001b[0m\u001b[0;34m\u001b[0m\u001b[0;34m\u001b[0m\u001b[0m\n\u001b[0m\u001b[1;32m      3\u001b[0m \u001b[0;34m\u001b[0m\u001b[0m\n\u001b[1;32m      4\u001b[0m \u001b[0;34m\u001b[0m\u001b[0m\n",
            "\u001b[0;31mModuleNotFoundError\u001b[0m: No module named 'z3'",
            "",
            "\u001b[0;31m---------------------------------------------------------------------------\u001b[0;32m\nNOTE: If your import is failing due to a missing package, you can\nmanually install dependencies using either !pip or !apt.\n\nTo view examples of installing some common dependencies, click the\n\"Open Examples\" button below.\n\u001b[0;31m---------------------------------------------------------------------------\u001b[0m\n"
          ],
          "errorDetails": {
            "actions": [
              {
                "action": "open_url",
                "actionText": "Open Examples",
                "url": "/notebooks/snippets/importing_libraries.ipynb"
              }
            ]
          }
        }
      ]
    },
    {
      "cell_type": "markdown",
      "source": [
        "### Uniqueness\n",
        "Is your solution unique? Prove it with a Z3py solver or provide a second solution. **(1 point)**"
      ],
      "metadata": {
        "id": "FIkg9eI38VMG"
      }
    },
    {
      "cell_type": "code",
      "source": [
        "# Code goes here"
      ],
      "metadata": {
        "id": "-ZacX6gz-4os"
      },
      "execution_count": null,
      "outputs": []
    },
    {
      "cell_type": "markdown",
      "source": [
        "### More Uniqueness\n",
        "If you delete the 1 in the top left box of the Sudoku problem above, how many unique solutions are there? Hint: should be less than 5000. **(1 point)**"
      ],
      "metadata": {
        "id": "Z6a18s5x-5Hw"
      }
    },
    {
      "cell_type": "code",
      "source": [],
      "metadata": {
        "id": "5_2fNgND_CB4"
      },
      "execution_count": null,
      "outputs": []
    },
    {
      "cell_type": "markdown",
      "source": [
        "# Miracle Sudoku\n",
        "\n",
        "Using z3py and only boolean variables, solve the Miracle Sudoku ([spoiler](https://www.youtube.com/watch?v=yKf9aUIxdb4)).\n",
        "In this puzzle normal Sudoku rules apply in addition to the following rules:\n",
        "* Any two cells separated by a knight's move from chess (moving forward two boxes and over one, in any direction) cannot contain the same digit (see image below).\n",
        "* Any two cells separated by a king's move from chess (one box in any direction including diagonals) cannot contain the same digit.\n",
        "* Any two orthogonally adjacent (up, down, left, or right) cells cannot contain consecutive digits."
      ],
      "metadata": {
        "id": "6nF9g7Ca_SJ1"
      }
    },
    {
      "cell_type": "markdown",
      "source": [
        "### Knight's move constraint image\n",
        "<img src=\"https://raw.githubusercontent.com/stanleybak/CS7320-AI/master/Knowledge-based/knights.jpg\" width=\"400\"/>\n",
        "\n",
        "The knight's move constraint would mean the yellow boxes cannot contain a 1.\n"
      ],
      "metadata": {
        "id": "wwjCVYCiAKXq"
      }
    },
    {
      "cell_type": "markdown",
      "source": [
        "## Miracle Sudoku Starting Information\n",
        "Provide the code to solve the puzzle given below. The code should output a reasonable visualization of the solution, for example using text. **(2 points)**\n",
        "\n",
        "<img src=\"https://raw.githubusercontent.com/stanleybak/CS7320-AI/master/Knowledge-based/miracle.jpg\" width=\"400\"/>"
      ],
      "metadata": {
        "id": "S9P6BThtAMv3"
      }
    },
    {
      "cell_type": "code",
      "source": [
        "# Solution code for Miracle Sudoku using z3py\n",
        "from z3 import *\n",
        "\n"
      ],
      "metadata": {
        "id": "E56fFoT7CqpY"
      },
      "execution_count": null,
      "outputs": []
    },
    {
      "cell_type": "markdown",
      "source": [
        "\n",
        "\n",
        "---\n",
        "\n",
        "\n",
        "# Propositional Logic\n",
        "\n",
        "Next, we will use truth tables and z3py to prove logical entailment.\n",
        "\n",
        "## Truth Tables\n",
        "\n",
        "Using markdown tables and bold to show relevant rows, use the truth table method to show logical truths.\n",
        "\n",
        "\n",
        "### Example\n",
        "\n",
        "Here's an example that shows $p, p \\rightarrow q \\models q$.  \n",
        "\n",
        "| p | q | p -> q |\n",
        "|-------|-------|---------------------|\n",
        "| **T**     | **T**     | **T**                   |\n",
        "| T     | F     | F                   |\n",
        "| F     | T     | T                   |\n",
        "| F     | F     | T                   |\n",
        "\n",
        "Since $q$ is true whenever $p$ and $p \\rightarrow q$ are true, the expression is true.\n",
        "\n",
        "### Questions\n",
        "\n",
        "Prove that the following semantic entailment expressions are true by using the truth table approach.  Bold the appropriate rows **(1 point)**\n",
        "\n",
        " * $(p\\rightarrow q)\\rightarrow r, s \\rightarrow \\neg p, t, \\neg s, t \\rightarrow q \\models r$\n",
        " * $\\emptyset \\models q \\rightarrow (p \\rightarrow (p \\rightarrow (q \\rightarrow p)))$"
      ],
      "metadata": {
        "id": "sy985abkCrfR"
      }
    },
    {
      "cell_type": "markdown",
      "source": [
        "(add markdown tables here)"
      ],
      "metadata": {
        "id": "wyZsntivFueN"
      }
    },
    {
      "cell_type": "markdown",
      "source": [
        "\n",
        "\n",
        "---\n",
        "\n",
        "\n",
        " ## Logical Entailment using z3py\n",
        "\n",
        " Use Z3py to prove the above two entailments are true using satisfiability. See section 7.5 in the book for details. **(1 point)**"
      ],
      "metadata": {
        "id": "q7le6n2jFu4l"
      }
    },
    {
      "cell_type": "code",
      "source": [
        "# answer code here"
      ],
      "metadata": {
        "id": "Z80-O6FGDtjp"
      },
      "execution_count": null,
      "outputs": []
    }
  ],
  "metadata": {
    "kernelspec": {
      "display_name": "Python 3",
      "language": "python",
      "name": "python3"
    },
    "language_info": {
      "codemirror_mode": {
        "name": "ipython",
        "version": 3
      },
      "file_extension": ".py",
      "mimetype": "text/x-python",
      "name": "python",
      "nbconvert_exporter": "python",
      "pygments_lexer": "ipython3",
      "version": "3.8.5"
    },
    "colab": {
      "provenance": []
    }
  },
  "nbformat": 4,
  "nbformat_minor": 0
}