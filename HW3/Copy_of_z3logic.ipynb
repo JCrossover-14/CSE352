{
 "cells": [
  {
   "cell_type": "markdown",
   "metadata": {
    "id": "-rnkCP9R2o_Z"
   },
   "source": [
    "# Introduction\n",
    "\n",
    "All student names in group: [Add your name]\n",
    "\n",
    "I understand that my submission needs to be my own group's work: [all group member's initials]\n",
    "\n",
    "I understand that ChatGPT / Copilot / other AI tools are not allowed: [all group member's initials]\n",
    "\n",
    "Points: 10\n",
    "\n",
    "Complete this notebook and submit it (save/print as pdf). Make sure all output is correct in the pdf before submitting (it sometimes gets cut off). The notebook needs to be a complete project report with your implementation, documentation including a short discussion of how your implementation works and your design choices, and experimental results (e.g., tables and charts with simulation results) with a short discussion of what they mean. Use the provided notebook cells and insert additional code and markdown cells as needed."
   ]
  },
  {
   "cell_type": "markdown",
   "metadata": {
    "id": "wdtvm8lB2o_b"
   },
   "source": [
    "## Z3 and Z3py resources\n",
    "\n",
    "For this problem you will be solving constraint satisfaction and logic problems using the Z3 SMT solver via the z3py python library.\n",
    "\n",
    "The demo code using z3py we went over in class is here: [link](https://drive.google.com/drive/folders/16HQXiwdcaman1IpC7H6vSJ71QQQ-aL2z?usp=sharing)\n",
    "\n",
    "Online help for z3py is here: [link](https://ericpony.github.io/z3py-tutorial/guide-examples.htm)"
   ]
  },
  {
   "cell_type": "markdown",
   "metadata": {
    "id": "F6mYrFaM2o_b"
   },
   "source": [
    "## Installation\n",
    "\n",
    "We first install to get the z3solver library using pip and test that works."
   ]
  },
  {
   "cell_type": "code",
   "execution_count": 1,
   "metadata": {
    "colab": {
     "base_uri": "https://localhost:8080/"
    },
    "id": "EoLs1AWw38Tj",
    "outputId": "8319d3ab-dab8-4b44-ac77-089ecebd3f70"
   },
   "outputs": [
    {
     "name": "stdout",
     "output_type": "stream",
     "text": [
      "Collecting z3-solver\n",
      "  Downloading z3_solver-4.13.0.0-py2.py3-none-win_amd64.whl (58.4 MB)\n",
      "     ---------------------------------------- 58.4/58.4 MB 6.3 MB/s eta 0:00:00\n",
      "Installing collected packages: z3-solver\n",
      "Successfully installed z3-solver-4.13.0.0\n"
     ]
    }
   ],
   "source": [
    "!pip install z3-solver"
   ]
  },
  {
   "cell_type": "code",
   "execution_count": 3,
   "metadata": {
    "colab": {
     "base_uri": "https://localhost:8080/"
    },
    "id": "xnQTztNX2o_c",
    "outputId": "8e4e28f7-cc1e-4b31-81af-287236303d5a"
   },
   "outputs": [
    {
     "name": "stdout",
     "output_type": "stream",
     "text": [
      "[y = 0, x = 7]\n"
     ]
    }
   ],
   "source": [
    "# Run the first example from the z3py guide as a test: https://ericpony.github.io/z3py-tutorial/guide-examples.htm\n",
    "from z3 import *\n",
    "\n",
    "x = Int('x')\n",
    "y = Int('y')\n",
    "solve(x > 2, y < 10, x + 2*y == 7)"
   ]
  },
  {
   "cell_type": "markdown",
   "metadata": {
    "id": "9J3lpQvP52jm"
   },
   "source": [
    "# Sudoku as a constraint satisfaction problem (CSP)\n",
    "\n",
    "Sudoku is a popular number-placement puzzle that originated in France in the end of the 19th century.  Modern Sudoku was likely invented by Howard Garns from Connersville, Indiana and was first published in 1979 under the name *Number Place*. The objective of the puzzle is to place numbers 1-9 on a 9$\\times$9 grid, such that each number occurs only once in every row, every column, and every of the nine 3$\\times$3 sub-grids that compose the main grid.\n",
    "Sudoku puzzles are grids that have been partially occupied with numbers. The task is then to occupy the remaining fields in such a way that the constraints on rows, columns, and sub-grids are satisfied.\n",
    "For more information about Sudoku refer to its Wikipedia page at http://en.wikipedia.org/wiki/Sudoku.\n",
    "\n",
    "This problem has two parts. In the first part, you will write the boolean constraints in mathematical notation for solving a Sudoku puzzle. In the second part, you will write code and invoke the Z3 solver to solve the Sudoku instance and answer various questions about the solution.\n",
    "\n",
    "## Part 1 (Constraints)\n",
    "In text, define and write constraints over **boolean** variables corresponding to each number being in each cell. For example, you may use $X_{i,j}^k$ as teh variable that is true if and only if the number $k$ is in row $i$ and column $j$ (the variable is true if $k$ is in cell $(i, j)$ and false otherwise). Now write the following boolean constaints over these variables:\n",
    "\n",
    "* Write the boolean formula for the constraints that the number 5 can occur at most once in the first row. **(1 point)**\n",
    "\n",
    "$\\bigvee_{i=1}^{9}X_{1,i}^5 \\bigwedge_{j=1 \\: i!=j}^{9} \\neg X_{1,j}^5$\n",
    "\n",
    "* Write the boolean formula for the constraints that the number 6 can occur at most once in the first column. **(1 point)**\n",
    "\n",
    "$\\bigvee_{i=1}^{9}X_{i,1}^6 \\bigwedge_{j=1 \\: i!=j}^{9} \\neg X_{j,1}^6$\n",
    "\n",
    "* Write the boolean formula for the constraints that the number 9 can occur at most once in the top left 3$\\times$3 sub-grid. **(1 point)**\n",
    "\n",
    "$⋁_{i=1}^3⋁_{j=1}^3X_{i,j}^9 ⋀_{k=1}^3 ⋀_{l=1}^3 \\neg X_{i,j}^9 \\: if \\: i!=k \\: or j!=l$"
   ]
  },
  {
   "cell_type": "markdown",
   "metadata": {
    "id": "ju3Q1ewW7aeu"
   },
   "source": [
    "Solution:\n",
    "\n"
   ]
  },
  {
   "cell_type": "markdown",
   "metadata": {
    "id": "y7kArKLH7eOR"
   },
   "source": [
    "## Part 2 (Coding)\n",
    "\n",
    "Encode the above constraints and all the other ones as a CSP using z3py and solve the Sudoku instance given in the figure below. **Use only boolean variables** and do not use the **Distinct** function.\n",
    "\n",
    "* Provide the code to solve that solves the given problem instance using z3py and only boolean variables. The code should output a reasonable visualization of the solution, for example printed in text. **(1 points)**\n",
    "\n",
    "<img src=\"https://raw.githubusercontent.com/stanleybak/CS7320-AI/master/Knowledge-based/sudoku1.jpg\" width=\"400\"/>\n",
    "\n"
   ]
  },
  {
   "cell_type": "code",
   "execution_count": 22,
   "metadata": {
    "colab": {
     "base_uri": "https://localhost:8080/",
     "height": 366
    },
    "id": "UghnVSTS-kJi",
    "outputId": "d04ba8a7-8e7a-4101-c98f-feeacad93d5e"
   },
   "outputs": [
    {
     "name": "stdout",
     "output_type": "stream",
     "text": [
      "3 1 9 4 6 2 8 5 7\n",
      "5 2 4 7 9 8 1 3 6\n",
      "8 6 7 3 5 1 9 2 4\n",
      "7 3 5 2 1 9 4 6 8\n",
      "1 9 6 8 4 5 3 7 2\n",
      "2 4 8 6 3 7 5 1 9\n",
      "4 5 3 9 7 6 2 8 1\n",
      "6 8 1 5 2 4 7 9 3\n",
      "9 7 2 1 8 3 6 4 5\n"
     ]
    }
   ],
   "source": [
    "# z3py code to solve above Sudoku goes here. Do not use Int(*), only Bool(*)\n",
    "from z3 import *\n",
    "\n",
    "# In form X[row][column][number]\n",
    "X = [[[Bool(f'X_({i},{j})^{k+1}') for k in range(9)]for j in range(9)]for i in range(9)]\n",
    "\n",
    "solve = Solver()\n",
    "#Encode starting conditions\n",
    "\n",
    "starting_condition = [X[0][1][0],X[0][3][3],X[0][5][1],X[0][7][4],X[1][0][4],X[1][8][5],X[2][3][2],X[2][5][0],X[3][0][6]\n",
    "                      ,X[3][2][4],X[3][6][3],X[3][8][7],X[5][0][1],X[5][2][7],X[5][6][4],X[5][8][8],X[6][3][8],X[6][5][5]\n",
    "                     ,X[7][0][5],X[7][8][2],X[8][1][6],X[8][3][0],X[8][5][2],X[8][7][3]]\n",
    "for start in starting_condition:\n",
    "    solve.add(start)\n",
    "    \n",
    "    \n",
    "# Encode that for every number, it must uniquely exist in a row\n",
    "for x in range(1,10):\n",
    "    # for every row:\n",
    "    for row in range(0,9):\n",
    "        ors = []\n",
    "        for i in range(9):\n",
    "            ands = []\n",
    "            ands.append(X[row][i][x-1])\n",
    "            for j in range(9):\n",
    "                if j!=i:\n",
    "                    ands.append(Not(X[row][j][x-1]))\n",
    "            ors.append(And(*ands))\n",
    "        solve.add(Or(*ors))        \n",
    "\n",
    "# Encode that for every column it must uniquely exist in a column:\n",
    "for x in range(1,10):\n",
    "    for col in range(0,9):\n",
    "        ors = []\n",
    "        for i in range(9):\n",
    "            ands = []\n",
    "            ands.append(X[i][col][x-1])\n",
    "            for j in range(9):\n",
    "                if j!=i:\n",
    "                    ands.append(Not(X[j][col][x-1]))\n",
    "            ors.append(And(*ands))\n",
    "        solve.add(Or(*ors))\n",
    "\n",
    "# Encode that every number must exist uniquely in a box\n",
    "for x in range(1,10):\n",
    "    for boxRow in range(0,9,3):\n",
    "        for boxCol in range(0,9,3):\n",
    "            ors = []\n",
    "            for row in range(boxRow,boxRow+3):\n",
    "                for col in range(boxCol,boxCol+3):\n",
    "                    ands = []\n",
    "                    ands.append(X[row][col][x-1])\n",
    "                    for row1 in range(boxRow,boxRow+3):\n",
    "                        for col1 in range(boxCol,boxCol+3):\n",
    "                            if row1!=row or col1!=col:\n",
    "                                ands.append(Not(X[row1][col1][x-1]))\n",
    "                    ors.append(And(*ands))\n",
    "            solve.add(Or(*ors))\n",
    "\n",
    "# Encode that every entry has a unique number\n",
    "for row in range(9):\n",
    "    for col in range(9):\n",
    "        ors = []\n",
    "        for val in range(1,10):\n",
    "            ands = []\n",
    "            ands.append(X[row][col][val-1])\n",
    "            for i in range(1,10):\n",
    "                if i!=val:\n",
    "                    ands.append(Not(X[row][col][i-1]))\n",
    "            ors.append(And(*ands))\n",
    "        solve.add(Or(*ors))\n",
    "\n",
    "        \n",
    "if solve.check()==sat:\n",
    "    model = solve.model()\n",
    "    solution = [[0 for _ in range(9)] for _ in range(9)]\n",
    "    \n",
    "    for row in range(9):\n",
    "        for col in range(9):\n",
    "            for val in range(1,10):\n",
    "                if is_true(model[X[row][col][val-1]]):\n",
    "                    solution[row][col]=val\n",
    "                    break\n",
    "    for row in solution:\n",
    "        print(\" \".join(str(val) for val in row))\n",
    "else:\n",
    "    print(\"failed to solve sudoku \")\n",
    "        \n",
    "            \n",
    "    \n",
    "\n"
   ]
  },
  {
   "cell_type": "markdown",
   "metadata": {
    "id": "FIkg9eI38VMG"
   },
   "source": [
    "### Uniqueness\n",
    "Is your solution unique? Prove it with a Z3py solver or provide a second solution. **(1 point)**"
   ]
  },
  {
   "cell_type": "code",
   "execution_count": 23,
   "metadata": {
    "id": "-ZacX6gz-4os"
   },
   "outputs": [
    {
     "name": "stdout",
     "output_type": "stream",
     "text": [
      "failed to solve sudoku \n"
     ]
    }
   ],
   "source": [
    "# Code goes here\n",
    "model = solve.model()\n",
    "ors = []\n",
    "solveunique = solve\n",
    "for row in range(9):\n",
    "    for cols in range(9):\n",
    "        for val in range(1,10):\n",
    "            if is_true(model[X[row][col][val-1]]):\n",
    "                ors.append(Not(X[row][col][val-1]))\n",
    "                break\n",
    "solveunique.add(Or(*ors))\n",
    "\n",
    "if solveunique.check()==sat:\n",
    "    model = solveunique.model()\n",
    "    solution = [[0 for _ in range(9)] for _ in range(9)]\n",
    "    \n",
    "    for row in range(9):\n",
    "        for col in range(9):\n",
    "            for val in range(1,10):\n",
    "                if is_true(model[X[row][col][val-1]]):\n",
    "                    solution[row][col]=val\n",
    "                    break\n",
    "    for row in solution:\n",
    "        print(\" \".join(str(val) for val in row))\n",
    "else:\n",
    "    print(\"failed to solve sudoku \")"
   ]
  },
  {
   "cell_type": "markdown",
   "metadata": {
    "id": "Z6a18s5x-5Hw"
   },
   "source": [
    "### More Uniqueness\n",
    "If you delete the 1 in the top left box of the Sudoku problem above, how many unique solutions are there? Hint: should be less than 5000. **(1 point)**"
   ]
  },
  {
   "cell_type": "code",
   "execution_count": null,
   "metadata": {
    "id": "5_2fNgND_CB4"
   },
   "outputs": [],
   "source": [
    "#Redeclare a new solver\n",
    "\n",
    "solveuniques = Solver()\n",
    "#Encode starting conditions\n",
    "\n",
    "#Now starting condition doesn't have that 1 in the corner\n",
    "starting_condition = [X[0][3][3],X[0][5][1],X[0][7][4],X[1][0][4],X[1][8][5],X[2][3][2],X[2][5][0],X[3][0][6]\n",
    "                      ,X[3][2][4],X[3][6][3],X[3][8][7],X[5][0][1],X[5][2][7],X[5][6][4],X[5][8][8],X[6][3][8],X[6][5][5]\n",
    "                     ,X[7][0][5],X[7][8][2],X[8][1][6],X[8][3][0],X[8][5][2],X[8][7][3]]\n",
    "for start in starting_condition:\n",
    "    solveuniques.add(start)\n",
    "    \n",
    "    \n",
    "# Encode that for every number, it must uniquely exist in a row\n",
    "for x in range(1,10):\n",
    "    # for every row:\n",
    "    for row in range(0,9):\n",
    "        ors = []\n",
    "        for i in range(9):\n",
    "            ands = []\n",
    "            ands.append(X[row][i][x-1])\n",
    "            for j in range(9):\n",
    "                if j!=i:\n",
    "                    ands.append(Not(X[row][j][x-1]))\n",
    "            ors.append(And(*ands))\n",
    "        solveuniques.add(Or(*ors))        \n",
    "\n",
    "# Encode that for every column it must uniquely exist in a column:\n",
    "for x in range(1,10):\n",
    "    for col in range(0,9):\n",
    "        ors = []\n",
    "        for i in range(9):\n",
    "            ands = []\n",
    "            ands.append(X[i][col][x-1])\n",
    "            for j in range(9):\n",
    "                if j!=i:\n",
    "                    ands.append(Not(X[j][col][x-1]))\n",
    "            ors.append(And(*ands))\n",
    "        solveuniques.add(Or(*ors))\n",
    "\n",
    "# Encode that every number must exist uniquely in a box\n",
    "for x in range(1,10):\n",
    "    for boxRow in range(0,9,3):\n",
    "        for boxCol in range(0,9,3):\n",
    "            ors = []\n",
    "            for row in range(boxRow,boxRow+3):\n",
    "                for col in range(boxCol,boxCol+3):\n",
    "                    ands = []\n",
    "                    ands.append(X[row][col][x-1])\n",
    "                    for row1 in range(boxRow,boxRow+3):\n",
    "                        for col1 in range(boxCol,boxCol+3):\n",
    "                            if row1!=row or col1!=col:\n",
    "                                ands.append(Not(X[row1][col1][x-1]))\n",
    "                    ors.append(And(*ands))\n",
    "            solveuniques.add(Or(*ors))\n",
    "\n",
    "# Encode that every entry has a unique number\n",
    "for row in range(9):\n",
    "    for col in range(9):\n",
    "        ors = []\n",
    "        for val in range(1,10):\n",
    "            ands = []\n",
    "            ands.append(X[row][col][val-1])\n",
    "            for i in range(1,10):\n",
    "                if i!=val:\n",
    "                    ands.append(Not(X[row][col][i-1]))\n",
    "            ors.append(And(*ands))\n",
    "        solveuniques.add(Or(*ors))\n",
    "\n",
    "uniqueCount = 0\n",
    "while solveuniques.check()==sat:\n",
    "    uniqueCount+=1\n",
    "    ors = []\n",
    "    model1 = solveuniques.model()\n",
    "    for row in range(9):\n",
    "        for col in range(9):\n",
    "            for val in range(9):\n",
    "                if is_true(model1[X[row][col][val]])"
   ]
  },
  {
   "cell_type": "markdown",
   "metadata": {
    "id": "6nF9g7Ca_SJ1"
   },
   "source": [
    "# Miracle Sudoku\n",
    "\n",
    "Using z3py and only boolean variables, solve the Miracle Sudoku ([spoiler](https://www.youtube.com/watch?v=yKf9aUIxdb4)).\n",
    "In this puzzle normal Sudoku rules apply in addition to the following rules:\n",
    "* Any two cells separated by a knight's move from chess (moving forward two boxes and over one, in any direction) cannot contain the same digit (see image below).\n",
    "* Any two cells separated by a king's move from chess (one box in any direction including diagonals) cannot contain the same digit.\n",
    "* Any two orthogonally adjacent (up, down, left, or right) cells cannot contain consecutive digits."
   ]
  },
  {
   "cell_type": "markdown",
   "metadata": {
    "id": "wwjCVYCiAKXq"
   },
   "source": [
    "### Knight's move constraint image\n",
    "<img src=\"https://raw.githubusercontent.com/stanleybak/CS7320-AI/master/Knowledge-based/knights.jpg\" width=\"400\"/>\n",
    "\n",
    "The knight's move constraint would mean the yellow boxes cannot contain a 1.\n"
   ]
  },
  {
   "cell_type": "markdown",
   "metadata": {
    "id": "S9P6BThtAMv3"
   },
   "source": [
    "## Miracle Sudoku Starting Information\n",
    "Provide the code to solve the puzzle given below. The code should output a reasonable visualization of the solution, for example using text. **(2 points)**\n",
    "\n",
    "<img src=\"https://raw.githubusercontent.com/stanleybak/CS7320-AI/master/Knowledge-based/miracle.jpg\" width=\"400\"/>"
   ]
  },
  {
   "cell_type": "code",
   "execution_count": null,
   "metadata": {
    "id": "E56fFoT7CqpY"
   },
   "outputs": [],
   "source": [
    "# Solution code for Miracle Sudoku using z3py\n",
    "from z3 import *\n",
    "\n"
   ]
  },
  {
   "cell_type": "markdown",
   "metadata": {
    "id": "sy985abkCrfR"
   },
   "source": [
    "\n",
    "\n",
    "---\n",
    "\n",
    "\n",
    "# Propositional Logic\n",
    "\n",
    "Next, we will use truth tables and z3py to prove logical entailment.\n",
    "\n",
    "## Truth Tables\n",
    "\n",
    "Using markdown tables and bold to show relevant rows, use the truth table method to show logical truths.\n",
    "\n",
    "\n",
    "### Example\n",
    "\n",
    "Here's an example that shows $p, p \\rightarrow q \\models q$.  \n",
    "\n",
    "| p | q | p -> q |\n",
    "|-------|-------|---------------------|\n",
    "| **T**     | **T**     | **T**                   |\n",
    "| T     | F     | F                   |\n",
    "| F     | T     | T                   |\n",
    "| F     | F     | T                   |\n",
    "\n",
    "Since $q$ is true whenever $p$ and $p \\rightarrow q$ are true, the expression is true.\n",
    "\n",
    "### Questions\n",
    "\n",
    "Prove that the following semantic entailment expressions are true by using the truth table approach.  Bold the appropriate rows **(1 point)**\n",
    "\n",
    " * $(p\\rightarrow q)\\rightarrow r, s \\rightarrow \\neg p, t, \\neg s, t \\rightarrow q \\models r$\n",
    " * $\\emptyset \\models q \\rightarrow (p \\rightarrow (p \\rightarrow (q \\rightarrow p)))$"
   ]
  },
  {
   "cell_type": "markdown",
   "metadata": {
    "id": "wyZsntivFueN"
   },
   "source": [
    "(add markdown tables here)"
   ]
  },
  {
   "cell_type": "markdown",
   "metadata": {
    "id": "q7le6n2jFu4l"
   },
   "source": [
    "\n",
    "\n",
    "---\n",
    "\n",
    "\n",
    " ## Logical Entailment using z3py\n",
    "\n",
    " Use Z3py to prove the above two entailments are true using satisfiability. See section 7.5 in the book for details. **(1 point)**"
   ]
  },
  {
   "cell_type": "code",
   "execution_count": null,
   "metadata": {
    "id": "Z80-O6FGDtjp"
   },
   "outputs": [],
   "source": [
    "# answer code here"
   ]
  }
 ],
 "metadata": {
  "colab": {
   "provenance": []
  },
  "kernelspec": {
   "display_name": "Python 3 (ipykernel)",
   "language": "python",
   "name": "python3"
  },
  "language_info": {
   "codemirror_mode": {
    "name": "ipython",
    "version": 3
   },
   "file_extension": ".py",
   "mimetype": "text/x-python",
   "name": "python",
   "nbconvert_exporter": "python",
   "pygments_lexer": "ipython3",
   "version": "3.10.9"
  }
 },
 "nbformat": 4,
 "nbformat_minor": 1
}
