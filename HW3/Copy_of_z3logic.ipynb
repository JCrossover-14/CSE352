{
 "cells": [
  {
   "cell_type": "markdown",
   "metadata": {
    "id": "-rnkCP9R2o_Z"
   },
   "source": [
    "# Introduction\n",
    "\n",
    "All student names in group: [Add your name]\n",
    "\n",
    "I understand that my submission needs to be my own group's work: [all group member's initials]\n",
    "\n",
    "I understand that ChatGPT / Copilot / other AI tools are not allowed: [all group member's initials]\n",
    "\n",
    "Points: 10\n",
    "\n",
    "Complete this notebook and submit it (save/print as pdf). Make sure all output is correct in the pdf before submitting (it sometimes gets cut off). The notebook needs to be a complete project report with your implementation, documentation including a short discussion of how your implementation works and your design choices, and experimental results (e.g., tables and charts with simulation results) with a short discussion of what they mean. Use the provided notebook cells and insert additional code and markdown cells as needed."
   ]
  },
  {
   "cell_type": "markdown",
   "metadata": {
    "id": "wdtvm8lB2o_b"
   },
   "source": [
    "## Z3 and Z3py resources\n",
    "\n",
    "For this problem you will be solving constraint satisfaction and logic problems using the Z3 SMT solver via the z3py python library.\n",
    "\n",
    "The demo code using z3py we went over in class is here: [link](https://drive.google.com/drive/folders/16HQXiwdcaman1IpC7H6vSJ71QQQ-aL2z?usp=sharing)\n",
    "\n",
    "Online help for z3py is here: [link](https://ericpony.github.io/z3py-tutorial/guide-examples.htm)"
   ]
  },
  {
   "cell_type": "markdown",
   "metadata": {
    "id": "F6mYrFaM2o_b"
   },
   "source": [
    "## Installation\n",
    "\n",
    "We first install to get the z3solver library using pip and test that works."
   ]
  },
  {
   "cell_type": "code",
   "execution_count": 1,
   "metadata": {
    "colab": {
     "base_uri": "https://localhost:8080/"
    },
    "id": "EoLs1AWw38Tj",
    "outputId": "8319d3ab-dab8-4b44-ac77-089ecebd3f70"
   },
   "outputs": [
    {
     "name": "stdout",
     "output_type": "stream",
     "text": [
      "Collecting z3-solver\n",
      "  Obtaining dependency information for z3-solver from https://files.pythonhosted.org/packages/25/c0/dd978c813288f6860bcfb9e4d2d1d3b311a42a2237a4766e5a0adbcaa79b/z3_solver-4.13.0.0-py2.py3-none-win_amd64.whl.metadata\n",
      "  Downloading z3_solver-4.13.0.0-py2.py3-none-win_amd64.whl.metadata (757 bytes)\n",
      "Downloading z3_solver-4.13.0.0-py2.py3-none-win_amd64.whl (58.4 MB)\n",
      "   ---------------------------------------- 0.0/58.4 MB ? eta -:--:--\n",
      "   ---------------------------------------- 0.0/58.4 MB ? eta -:--:--\n",
      "   ---------------------------------------- 0.1/58.4 MB 812.7 kB/s eta 0:01:12\n",
      "   ---------------------------------------- 0.7/58.4 MB 6.3 MB/s eta 0:00:10\n",
      "   - -------------------------------------- 1.6/58.4 MB 11.6 MB/s eta 0:00:05\n",
      "   - -------------------------------------- 2.5/58.4 MB 12.1 MB/s eta 0:00:05\n",
      "   -- ------------------------------------- 3.7/58.4 MB 14.7 MB/s eta 0:00:04\n",
      "   --- ------------------------------------ 5.3/58.4 MB 17.8 MB/s eta 0:00:03\n",
      "   ---- ----------------------------------- 7.0/58.4 MB 20.3 MB/s eta 0:00:03\n",
      "   ----- ---------------------------------- 8.5/58.4 MB 21.6 MB/s eta 0:00:03\n",
      "   ------ --------------------------------- 10.2/58.4 MB 23.2 MB/s eta 0:00:03\n",
      "   -------- ------------------------------- 11.8/58.4 MB 29.7 MB/s eta 0:00:02\n",
      "   --------- ------------------------------ 13.4/58.4 MB 34.6 MB/s eta 0:00:02\n",
      "   ---------- ----------------------------- 15.1/58.4 MB 34.4 MB/s eta 0:00:02\n",
      "   ----------- ---------------------------- 16.8/58.4 MB 34.4 MB/s eta 0:00:02\n",
      "   ------------ --------------------------- 18.2/58.4 MB 34.4 MB/s eta 0:00:02\n",
      "   ------------- -------------------------- 19.9/58.4 MB 34.4 MB/s eta 0:00:02\n",
      "   -------------- ------------------------- 21.4/58.4 MB 34.4 MB/s eta 0:00:02\n",
      "   --------------- ------------------------ 23.3/58.4 MB 34.4 MB/s eta 0:00:02\n",
      "   ---------------- ----------------------- 23.9/58.4 MB 36.4 MB/s eta 0:00:01\n",
      "   ---------------- ----------------------- 23.9/58.4 MB 36.4 MB/s eta 0:00:01\n",
      "   ----------------- ---------------------- 25.0/58.4 MB 27.3 MB/s eta 0:00:02\n",
      "   ----------------- ---------------------- 26.1/58.4 MB 25.2 MB/s eta 0:00:02\n",
      "   ------------------ --------------------- 27.0/58.4 MB 24.2 MB/s eta 0:00:02\n",
      "   ------------------- -------------------- 27.9/58.4 MB 23.4 MB/s eta 0:00:02\n",
      "   ------------------- -------------------- 28.7/58.4 MB 23.4 MB/s eta 0:00:02\n",
      "   -------------------- ------------------- 29.4/58.4 MB 22.6 MB/s eta 0:00:02\n",
      "   -------------------- ------------------- 29.4/58.4 MB 22.6 MB/s eta 0:00:02\n",
      "   -------------------- ------------------- 29.4/58.4 MB 22.6 MB/s eta 0:00:02\n",
      "   -------------------- ------------------- 29.4/58.4 MB 22.6 MB/s eta 0:00:02\n",
      "   -------------------- ------------------- 29.4/58.4 MB 22.6 MB/s eta 0:00:02\n",
      "   -------------------- ------------------- 29.4/58.4 MB 22.6 MB/s eta 0:00:02\n",
      "   -------------------- ------------------- 29.4/58.4 MB 22.6 MB/s eta 0:00:02\n",
      "   -------------------- ------------------- 29.4/58.4 MB 22.6 MB/s eta 0:00:02\n",
      "   -------------------- ------------------- 29.4/58.4 MB 22.6 MB/s eta 0:00:02\n",
      "   -------------------- ------------------- 29.5/58.4 MB 11.3 MB/s eta 0:00:03\n",
      "   -------------------- ------------------- 30.5/58.4 MB 11.1 MB/s eta 0:00:03\n",
      "   --------------------- ------------------ 31.7/58.4 MB 10.9 MB/s eta 0:00:03\n",
      "   ---------------------- ----------------- 32.9/58.4 MB 10.7 MB/s eta 0:00:03\n",
      "   ----------------------- ---------------- 33.9/58.4 MB 10.6 MB/s eta 0:00:03\n",
      "   ------------------------ --------------- 35.1/58.4 MB 11.5 MB/s eta 0:00:03\n",
      "   ------------------------ --------------- 36.3/58.4 MB 11.5 MB/s eta 0:00:02\n",
      "   ------------------------- -------------- 37.7/58.4 MB 11.7 MB/s eta 0:00:02\n",
      "   -------------------------- ------------- 39.3/58.4 MB 12.3 MB/s eta 0:00:02\n",
      "   --------------------------- ------------ 40.8/58.4 MB 28.5 MB/s eta 0:00:01\n",
      "   ---------------------------- ----------- 42.3/58.4 MB 28.5 MB/s eta 0:00:01\n",
      "   ------------------------------ --------- 43.9/58.4 MB 31.2 MB/s eta 0:00:01\n",
      "   ------------------------------- -------- 45.6/58.4 MB 32.8 MB/s eta 0:00:01\n",
      "   -------------------------------- ------- 47.3/58.4 MB 34.4 MB/s eta 0:00:01\n",
      "   --------------------------------- ------ 48.6/58.4 MB 34.4 MB/s eta 0:00:01\n",
      "   ---------------------------------- ----- 50.3/58.4 MB 34.4 MB/s eta 0:00:01\n",
      "   ----------------------------------- ---- 51.8/58.4 MB 36.4 MB/s eta 0:00:01\n",
      "   ------------------------------------ --- 53.4/58.4 MB 36.4 MB/s eta 0:00:01\n",
      "   ------------------------------------- -- 55.0/58.4 MB 36.3 MB/s eta 0:00:01\n",
      "   -------------------------------------- - 56.5/58.4 MB 32.8 MB/s eta 0:00:01\n",
      "   ---------------------------------------  58.0/58.4 MB 34.6 MB/s eta 0:00:01\n",
      "   ---------------------------------------  58.4/58.4 MB 34.4 MB/s eta 0:00:01\n",
      "   ---------------------------------------  58.4/58.4 MB 34.4 MB/s eta 0:00:01\n",
      "   ---------------------------------------  58.4/58.4 MB 34.4 MB/s eta 0:00:01\n",
      "   ---------------------------------------- 58.4/58.4 MB 20.4 MB/s eta 0:00:00\n",
      "Installing collected packages: z3-solver\n",
      "Successfully installed z3-solver-4.13.0.0\n"
     ]
    }
   ],
   "source": [
    "!pip install z3-solver"
   ]
  },
  {
   "cell_type": "code",
   "execution_count": 2,
   "metadata": {
    "colab": {
     "base_uri": "https://localhost:8080/"
    },
    "id": "xnQTztNX2o_c",
    "outputId": "8e4e28f7-cc1e-4b31-81af-287236303d5a"
   },
   "outputs": [
    {
     "name": "stdout",
     "output_type": "stream",
     "text": [
      "[y = 0, x = 7]\n"
     ]
    }
   ],
   "source": [
    "# Run the first example from the z3py guide as a test: https://ericpony.github.io/z3py-tutorial/guide-examples.htm\n",
    "from z3 import *\n",
    "\n",
    "x = Int('x')\n",
    "y = Int('y')\n",
    "solve(x > 2, y < 10, x + 2*y == 7)"
   ]
  },
  {
   "cell_type": "markdown",
   "metadata": {
    "id": "9J3lpQvP52jm"
   },
   "source": [
    "# Sudoku as a constraint satisfaction problem (CSP)\n",
    "\n",
    "Sudoku is a popular number-placement puzzle that originated in France in the end of the 19th century.  Modern Sudoku was likely invented by Howard Garns from Connersville, Indiana and was first published in 1979 under the name *Number Place*. The objective of the puzzle is to place numbers 1-9 on a 9$\\times$9 grid, such that each number occurs only once in every row, every column, and every of the nine 3$\\times$3 sub-grids that compose the main grid.\n",
    "Sudoku puzzles are grids that have been partially occupied with numbers. The task is then to occupy the remaining fields in such a way that the constraints on rows, columns, and sub-grids are satisfied.\n",
    "For more information about Sudoku refer to its Wikipedia page at http://en.wikipedia.org/wiki/Sudoku.\n",
    "\n",
    "This problem has two parts. In the first part, you will write the boolean constraints in mathematical notation for solving a Sudoku puzzle. In the second part, you will write code and invoke the Z3 solver to solve the Sudoku instance and answer various questions about the solution.\n",
    "\n",
    "## Part 1 (Constraints)\n",
    "In text, define and write constraints over **boolean** variables corresponding to each number being in each cell. For example, you may use $X_{i,j}^k$ as teh variable that is true if and only if the number $k$ is in row $i$ and column $j$ (the variable is true if $k$ is in cell $(i, j)$ and false otherwise). Now write the following boolean constaints over these variables:\n",
    "\n",
    "* Write the boolean formula for the constraints that the number 5 can occur at most once in the first row. **(1 point)**\n",
    "\n",
    "$\\bigvee_{i=0}^{9}((X_{1,i;\\:i>0}^5) \\bigwedge_{j=1;\\: i!=j}^{9} \\neg X_{1,j}^5)$\n",
    "\n",
    "* Write the boolean formula for the constraints that the number 6 can occur at most once in the first column. **(1 point)**\n",
    "\n",
    "$\\bigvee_{i=0}^{9}((X_{i,1;\\:i>0}^6) \\bigwedge_{j=1;\\: i!=j}^{9} \\neg X_{j,1}^6)$\n",
    "\n",
    "* Write the boolean formula for the constraints that the number 9 can occur at most once in the top left 3$\\times$3 sub-grid. **(1 point)**\n",
    "\n",
    "$⋁_{i=1}^3⋁_{j=1}^3((X_{i,j;\\:i>0\\bigwedge\\:j>0}^9) ⋀_{k=1}^3 ⋀_{l=1}^3 \\neg X_{i,j}^9 \\: if \\: i!=k \\: or j!=l)$"
   ]
  },
  {
   "cell_type": "markdown",
   "metadata": {
    "id": "ju3Q1ewW7aeu"
   },
   "source": [
    "Solution:\n",
    "\n"
   ]
  },
  {
   "cell_type": "markdown",
   "metadata": {
    "id": "y7kArKLH7eOR"
   },
   "source": [
    "## Part 2 (Coding)\n",
    "\n",
    "Encode the above constraints and all the other ones as a CSP using z3py and solve the Sudoku instance given in the figure below. **Use only boolean variables** and do not use the **Distinct** function.\n",
    "\n",
    "* Provide the code to solve that solves the given problem instance using z3py and only boolean variables. The code should output a reasonable visualization of the solution, for example printed in text. **(1 points)**\n",
    "\n",
    "<img src=\"https://raw.githubusercontent.com/stanleybak/CS7320-AI/master/Knowledge-based/sudoku1.jpg\" width=\"400\"/>\n",
    "\n"
   ]
  },
  {
   "cell_type": "code",
   "execution_count": 29,
   "metadata": {
    "colab": {
     "base_uri": "https://localhost:8080/",
     "height": 366
    },
    "id": "UghnVSTS-kJi",
    "outputId": "d04ba8a7-8e7a-4101-c98f-feeacad93d5e"
   },
   "outputs": [
    {
     "name": "stdout",
     "output_type": "stream",
     "text": [
      "3 1 9 4 6 2 8 5 7\n",
      "5 2 4 7 9 8 1 3 6\n",
      "8 6 7 3 5 1 9 2 4\n",
      "7 3 5 2 1 9 4 6 8\n",
      "1 9 6 8 4 5 3 7 2\n",
      "2 4 8 6 3 7 5 1 9\n",
      "4 5 3 9 7 6 2 8 1\n",
      "6 8 1 5 2 4 7 9 3\n",
      "9 7 2 1 8 3 6 4 5\n"
     ]
    }
   ],
   "source": [
    "# z3py code to solve above Sudoku goes here. Do not use Int(*), only Bool(*)\n",
    "from z3 import *\n",
    "\n",
    "# In form X[row][column][number]\n",
    "X = [[[Bool(f'X_({i},{j})^{k+1}') for k in range(9)]for j in range(9)]for i in range(9)]\n",
    "\n",
    "solve = Solver()\n",
    "#Encode starting conditions\n",
    "\n",
    "starting_condition = [X[0][1][0],X[0][3][3],X[0][5][1],X[0][7][4],X[1][0][4],X[1][8][5],X[2][3][2],X[2][5][0],X[3][0][6]\n",
    "                      ,X[3][2][4],X[3][6][3],X[3][8][7],X[5][0][1],X[5][2][7],X[5][6][4],X[5][8][8],X[6][3][8],X[6][5][5]\n",
    "                     ,X[7][0][5],X[7][8][2],X[8][1][6],X[8][3][0],X[8][5][2],X[8][7][3]]\n",
    "for start in starting_condition:\n",
    "    solve.add(start)\n",
    "    \n",
    "    \n",
    "# Encode that for every number, it must uniquely exist in a row\n",
    "for x in range(1,10):\n",
    "    # for every row:\n",
    "    for row in range(0,9):\n",
    "        ors = []\n",
    "        for i in range(9):\n",
    "            ands = []\n",
    "            ands.append(X[row][i][x-1])\n",
    "            for j in range(9):\n",
    "                if j!=i:\n",
    "                    ands.append(Not(X[row][j][x-1]))\n",
    "            ors.append(And(*ands))\n",
    "        solve.add(Or(*ors))        \n",
    "\n",
    "# Encode that for every column it must uniquely exist in a column:\n",
    "for x in range(1,10):\n",
    "    for col in range(0,9):\n",
    "        ors = []\n",
    "        for i in range(9):\n",
    "            ands = []\n",
    "            ands.append(X[i][col][x-1])\n",
    "            for j in range(9):\n",
    "                if j!=i:\n",
    "                    ands.append(Not(X[j][col][x-1]))\n",
    "            ors.append(And(*ands))\n",
    "        solve.add(Or(*ors))\n",
    "\n",
    "# Encode that every number must exist uniquely in a box\n",
    "for x in range(1,10):\n",
    "    for boxRow in range(0,9,3):\n",
    "        for boxCol in range(0,9,3):\n",
    "            ors = []\n",
    "            for row in range(boxRow,boxRow+3):\n",
    "                for col in range(boxCol,boxCol+3):\n",
    "                    ands = []\n",
    "                    ands.append(X[row][col][x-1])\n",
    "                    for row1 in range(boxRow,boxRow+3):\n",
    "                        for col1 in range(boxCol,boxCol+3):\n",
    "                            if row1!=row or col1!=col:\n",
    "                                ands.append(Not(X[row1][col1][x-1]))\n",
    "                    ors.append(And(*ands))\n",
    "            solve.add(Or(*ors))\n",
    "\n",
    "# Encode that every entry has a unique number\n",
    "for row in range(9):\n",
    "    for col in range(9):\n",
    "        ors = []\n",
    "        for val in range(1,10):\n",
    "            ands = []\n",
    "            ands.append(X[row][col][val-1])\n",
    "            for i in range(1,10):\n",
    "                if i!=val:\n",
    "                    ands.append(Not(X[row][col][i-1]))\n",
    "            ors.append(And(*ands))\n",
    "        solve.add(Or(*ors))\n",
    "\n",
    "        \n",
    "if solve.check()==sat:\n",
    "    model = solve.model()\n",
    "    solution = [[0 for _ in range(9)] for _ in range(9)]\n",
    "    \n",
    "    for row in range(9):\n",
    "        for col in range(9):\n",
    "            for val in range(1,10):\n",
    "                if is_true(model[X[row][col][val-1]]):\n",
    "                    solution[row][col]=val\n",
    "                    break\n",
    "    for row in solution:\n",
    "        print(\" \".join(str(val) for val in row))\n",
    "else:\n",
    "    print(\"failed to solve sudoku \")\n",
    "        \n",
    "            \n",
    "    \n",
    "\n"
   ]
  },
  {
   "cell_type": "markdown",
   "metadata": {
    "id": "FIkg9eI38VMG"
   },
   "source": [
    "### Uniqueness\n",
    "Is your solution unique? Prove it with a Z3py solver or provide a second solution. **(1 point)**"
   ]
  },
  {
   "cell_type": "code",
   "execution_count": 30,
   "metadata": {
    "id": "-ZacX6gz-4os"
   },
   "outputs": [
    {
     "name": "stdout",
     "output_type": "stream",
     "text": [
      "failed to solve sudoku\n",
      "implies solution is unique\n"
     ]
    }
   ],
   "source": [
    "# Code goes here\n",
    "model = solve.model()\n",
    "ors = []\n",
    "solveunique = solve\n",
    "for row in range(9):\n",
    "    for cols in range(9):\n",
    "        for val in range(1,10):\n",
    "            if is_true(model[X[row][col][val-1]]):\n",
    "                ors.append(Not(X[row][col][val-1]))\n",
    "                break\n",
    "solveunique.add(Or(*ors))\n",
    "\n",
    "if solveunique.check()==sat:\n",
    "    model = solveunique.model()\n",
    "    solution = [[0 for _ in range(9)] for _ in range(9)]\n",
    "    \n",
    "    for row in range(9):\n",
    "        for col in range(9):\n",
    "            for val in range(1,10):\n",
    "                if is_true(model[X[row][col][val-1]]):\n",
    "                    solution[row][col]=val\n",
    "                    break\n",
    "    for row in solution:\n",
    "        print(\" \".join(str(val) for val in row))\n",
    "else:\n",
    "    print(\"failed to solve sudoku\")\n",
    "    print(\"implies solution is unique\")"
   ]
  },
  {
   "cell_type": "markdown",
   "metadata": {
    "id": "Z6a18s5x-5Hw"
   },
   "source": [
    "### More Uniqueness\n",
    "If you delete the 1 in the top left box of the Sudoku problem above, how many unique solutions are there? Hint: should be less than 5000. **(1 point)**"
   ]
  },
  {
   "cell_type": "code",
   "execution_count": 4,
   "metadata": {
    "id": "5_2fNgND_CB4"
   },
   "outputs": [
    {
     "name": "stdout",
     "output_type": "stream",
     "text": [
      "Number of unique solutions is 275\n"
     ]
    }
   ],
   "source": [
    "#Redeclare a new solver\n",
    "\n",
    "solveuniques = Solver()\n",
    "#Encode starting conditions\n",
    "\n",
    "#Now starting condition doesn't have that 1 in the corner\n",
    "starting_condition = [X[0][3][3],X[0][5][1],X[0][7][4],X[1][0][4],X[1][8][5],X[2][3][2],X[2][5][0],X[3][0][6]\n",
    "                      ,X[3][2][4],X[3][6][3],X[3][8][7],X[5][0][1],X[5][2][7],X[5][6][4],X[5][8][8],X[6][3][8],X[6][5][5]\n",
    "                     ,X[7][0][5],X[7][8][2],X[8][1][6],X[8][3][0],X[8][5][2],X[8][7][3]]\n",
    "for start in starting_condition:\n",
    "    solveuniques.add(start)\n",
    "    \n",
    "    \n",
    "# Encode that for every number, it must uniquely exist in a row\n",
    "for x in range(1,10):\n",
    "    # for every row:\n",
    "    for row in range(0,9):\n",
    "        ors = []\n",
    "        for i in range(9):\n",
    "            ands = []\n",
    "            ands.append(X[row][i][x-1])\n",
    "            for j in range(9):\n",
    "                if j!=i:\n",
    "                    ands.append(Not(X[row][j][x-1]))\n",
    "            ors.append(And(*ands))\n",
    "        solveuniques.add(Or(*ors))        \n",
    "\n",
    "# Encode that for every column it must uniquely exist in a column:\n",
    "for x in range(1,10):\n",
    "    for col in range(0,9):\n",
    "        ors = []\n",
    "        for i in range(9):\n",
    "            ands = []\n",
    "            ands.append(X[i][col][x-1])\n",
    "            for j in range(9):\n",
    "                if j!=i:\n",
    "                    ands.append(Not(X[j][col][x-1]))\n",
    "            ors.append(And(*ands))\n",
    "        solveuniques.add(Or(*ors))\n",
    "\n",
    "# Encode that every number must exist uniquely in a box\n",
    "for x in range(1,10):\n",
    "    for boxRow in range(0,9,3):\n",
    "        for boxCol in range(0,9,3):\n",
    "            ors = []\n",
    "            for row in range(boxRow,boxRow+3):\n",
    "                for col in range(boxCol,boxCol+3):\n",
    "                    ands = []\n",
    "                    ands.append(X[row][col][x-1])\n",
    "                    for row1 in range(boxRow,boxRow+3):\n",
    "                        for col1 in range(boxCol,boxCol+3):\n",
    "                            if row1!=row or col1!=col:\n",
    "                                ands.append(Not(X[row1][col1][x-1]))\n",
    "                    ors.append(And(*ands))\n",
    "            solveuniques.add(Or(*ors))\n",
    "\n",
    "# Encode that every entry has a unique number\n",
    "for row in range(9):\n",
    "    for col in range(9):\n",
    "        ors = []\n",
    "        for val in range(1,10):\n",
    "            ands = []\n",
    "            ands.append(X[row][col][val-1])\n",
    "            for i in range(1,10):\n",
    "                if i!=val:\n",
    "                    ands.append(Not(X[row][col][i-1]))\n",
    "            ors.append(And(*ands))\n",
    "        solveuniques.add(Or(*ors))\n",
    "\n",
    "uniqueCount = 0\n",
    "while solveuniques.check()==sat:\n",
    "    uniqueCount+=1\n",
    "    ors = []\n",
    "    model1 = solveuniques.model()\n",
    "    for row in range(9):\n",
    "        for col in range(9):\n",
    "            for val in range(9):\n",
    "                if is_true(model1[X[row][col][val]]):\n",
    "                    ors.append(Not(X[row][col][val]))\n",
    "    solveuniques.add(Or(*ors))\n",
    "\n",
    "print(f'Number of unique solutions is {uniqueCount}')"
   ]
  },
  {
   "cell_type": "markdown",
   "metadata": {
    "id": "6nF9g7Ca_SJ1"
   },
   "source": [
    "# Miracle Sudoku\n",
    "\n",
    "Using z3py and only boolean variables, solve the Miracle Sudoku ([spoiler](https://www.youtube.com/watch?v=yKf9aUIxdb4)).\n",
    "In this puzzle normal Sudoku rules apply in addition to the following rules:\n",
    "* Any two cells separated by a knight's move from chess (moving forward two boxes and over one, in any direction) cannot contain the same digit (see image below).\n",
    "* Any two cells separated by a king's move from chess (one box in any direction including diagonals) cannot contain the same digit.\n",
    "* Any two orthogonally adjacent (up, down, left, or right) cells cannot contain consecutive digits."
   ]
  },
  {
   "cell_type": "markdown",
   "metadata": {
    "id": "wwjCVYCiAKXq"
   },
   "source": [
    "### Knight's move constraint image\n",
    "<img src=\"https://raw.githubusercontent.com/stanleybak/CS7320-AI/master/Knowledge-based/knights.jpg\" width=\"400\"/>\n",
    "\n",
    "The knight's move constraint would mean the yellow boxes cannot contain a 1.\n"
   ]
  },
  {
   "cell_type": "markdown",
   "metadata": {
    "id": "S9P6BThtAMv3"
   },
   "source": [
    "## Miracle Sudoku Starting Information\n",
    "Provide the code to solve the puzzle given below. The code should output a reasonable visualization of the solution, for example using text. **(2 points)**\n",
    "\n",
    "<img src=\"https://raw.githubusercontent.com/stanleybak/CS7320-AI/master/Knowledge-based/miracle.jpg\" width=\"400\"/>"
   ]
  },
  {
   "cell_type": "code",
   "execution_count": 25,
   "metadata": {
    "id": "E56fFoT7CqpY"
   },
   "outputs": [
    {
     "name": "stdout",
     "output_type": "stream",
     "text": [
      "9 3 2 5 1 7 6 4 8\n",
      "5 1 8 6 4 2 9 3 7\n",
      "6 4 7 8 3 9 5 1 2\n",
      "2 7 4 3 9 5 8 6 1\n",
      "8 9 1 2 6 4 3 7 5\n",
      "3 6 5 7 8 1 2 9 4\n",
      "4 5 6 9 7 8 1 2 3\n",
      "7 8 9 1 2 3 4 5 6\n",
      "1 2 3 4 5 6 7 8 9\n"
     ]
    }
   ],
   "source": [
    "# Solution code for Miracle Sudoku using z3py\n",
    "from z3 import *\n",
    "\n",
    "X = [[[Bool(f'X_({i},{j})^{k+1}') for k in range(9)]for j in range(9)]for i in range(9)]\n",
    "\n",
    "miraclesolve = Solver()\n",
    "#Encode starting conditions\n",
    "\n",
    "starting_condition = [X[4][2][0],X[5][6][1]]\n",
    "for start in starting_condition:\n",
    "    miraclesolve.add(start)\n",
    "    \n",
    "    \n",
    "# Encode that for every number, it must uniquely exist in a row\n",
    "for x in range(1,10):\n",
    "    # for every row:\n",
    "    for row in range(0,9):\n",
    "        ors = []\n",
    "        for i in range(9):\n",
    "            ands = []\n",
    "            ands.append(X[row][i][x-1])\n",
    "            for j in range(9):\n",
    "                if j!=i:\n",
    "                    ands.append(Not(X[row][j][x-1]))\n",
    "            ors.append(And(*ands))\n",
    "        miraclesolve.add(Or(*ors))        \n",
    "\n",
    "# Encode that for every column it must uniquely exist in a column:\n",
    "for x in range(1,10):\n",
    "    for col in range(0,9):\n",
    "        ors = []\n",
    "        for i in range(9):\n",
    "            ands = []\n",
    "            ands.append(X[i][col][x-1])\n",
    "            for j in range(9):\n",
    "                if j!=i:\n",
    "                    ands.append(Not(X[j][col][x-1]))\n",
    "            ors.append(And(*ands))\n",
    "        miraclesolve.add(Or(*ors))\n",
    "\n",
    "# Encode that every number must exist uniquely in a box\n",
    "for x in range(1,10):\n",
    "    for boxRow in range(0,9,3):\n",
    "        for boxCol in range(0,9,3):\n",
    "            ors = []\n",
    "            for row in range(boxRow,boxRow+3):\n",
    "                for col in range(boxCol,boxCol+3):\n",
    "                    ands = []\n",
    "                    ands.append(X[row][col][x-1])\n",
    "                    for row1 in range(boxRow,boxRow+3):\n",
    "                        for col1 in range(boxCol,boxCol+3):\n",
    "                            if row1!=row or col1!=col:\n",
    "                                ands.append(Not(X[row1][col1][x-1]))\n",
    "                    ors.append(And(*ands))\n",
    "            miraclesolve.add(Or(*ors))\n",
    "\n",
    "# Encode that every entry has a unique number\n",
    "for row in range(9):\n",
    "    for col in range(9):\n",
    "        ors = []\n",
    "        for val in range(1,10):\n",
    "            ands = []\n",
    "            ands.append(X[row][col][val-1])\n",
    "            for i in range(1,10):\n",
    "                if i!=val:\n",
    "                    ands.append(Not(X[row][col][i-1]))\n",
    "            ors.append(And(*ands))\n",
    "        miraclesolve.add(Or(*ors))\n",
    "        \n",
    "# Now encode that knights move away cannot have same numbers\n",
    "\n",
    "def valid(x,y):\n",
    "    if x<9 and x>=0 and y<9 and y>=0:\n",
    "        return True\n",
    "    return False\n",
    "\n",
    "knight_moves = [(-2,-1),(-2,1),(-1,2),(1,2),(2,1),(2,-1),(1,-2),(-1,-2),(-2,-1)]\n",
    "\n",
    "\n",
    "for row in range(9):\n",
    "    for col in range(9):\n",
    "        ors = []\n",
    "        for val in range(9):\n",
    "            ands = []\n",
    "            ands.append(X[row][col][val])\n",
    "            for move in knight_moves:\n",
    "                if valid(row+move[0],col+move[1]) is True:\n",
    "                    ands.append(Not(X[row+move[0]][col+move[1]][val]))\n",
    "            ors.append(And(*ands))\n",
    "        miraclesolve.add(Or(*ors))\n",
    "\n",
    "\n",
    "if miraclesolve.check()==sat:\n",
    "    model = miraclesolve.model()\n",
    "    solution = [[0 for _ in range(9)] for _ in range(9)]\n",
    "    \n",
    "    for row in range(9):\n",
    "        for col in range(9):\n",
    "            for val in range(1,10):\n",
    "                if is_true(model[X[row][col][val-1]]):\n",
    "                    solution[row][col]=val\n",
    "                    break\n",
    "    for row in solution:\n",
    "        print(\" \".join(str(val) for val in row))\n",
    "else:\n",
    "    print(\"failed to solve sudoku \")\n"
   ]
  },
  {
   "cell_type": "markdown",
   "metadata": {
    "id": "sy985abkCrfR"
   },
   "source": [
    "\n",
    "\n",
    "---\n",
    "\n",
    "\n",
    "# Propositional Logic\n",
    "\n",
    "Next, we will use truth tables and z3py to prove logical entailment.\n",
    "\n",
    "## Truth Tables\n",
    "\n",
    "Using markdown tables and bold to show relevant rows, use the truth table method to show logical truths.\n",
    "\n",
    "\n",
    "### Example\n",
    "\n",
    "Here's an example that shows $p, p \\rightarrow q \\models q$.  \n",
    "\n",
    "| p | q | p -> q |\n",
    "|-------|-------|---------------------|\n",
    "| **T**     | **T**     | **T**                   |\n",
    "| T     | F     | F                   |\n",
    "| F     | T     | T                   |\n",
    "| F     | F     | T                   |\n",
    "\n",
    "Since $q$ is true whenever $p$ and $p \\rightarrow q$ are true, the expression is true.\n",
    "\n",
    "### Questions\n",
    "\n",
    "Prove that the following semantic entailment expressions are true by using the truth table approach.  Bold the appropriate rows **(1 point)**\n",
    "\n",
    " * $(p\\rightarrow q)\\rightarrow r, s \\rightarrow \\neg p, t, \\neg s, t \\rightarrow q \\models r$\n",
    " * $\\emptyset \\models q \\rightarrow (p \\rightarrow (p \\rightarrow (q \\rightarrow p)))$"
   ]
  },
  {
   "cell_type": "markdown",
   "metadata": {
    "id": "wyZsntivFueN"
   },
   "source": [
    "(add markdown tables here)\n",
    "\n",
    "Since $q$ is true whenever $p$ and $p \\rightarrow q$ are true, the expression is true.\n",
    " p    |-p   |q    |r    |s    |**-s**|**t**| **s -> -p** |**t -> q**| p -> q |**(p -> q) -> r**|\n",
    "|-----|-----|-----|-----|-----|------|-----|-------------|----------|--------|-----------------|\n",
    "|  T  |  F  |  T  |  T  |  F  |  T   |  T  |    F        |   T      |    T   |        T        |\n",
    "| T   |  F  | F   |T    |F    |T     |T    |T            |F         | F      |T                |\n",
    "|**F**|**T**|**T**|**T**|**F**|**T** |**T**|**T**        |**T**     | **T**  |**T**            | \n",
    "| F   |  T  | F   |T    |F    |T     |T    |T            |F         | T      |T                |\n",
    "| T   |  F  | T   |F    |F    |T     |T    |T            |T         | T      |F                |\n",
    "| T   |  F  | F   |F    |F    |T     |T    |T            |F         | F      |T                |\n",
    "| F   |  T  | T   |F    |F    |T     |T    |T            |T         | T      |F                | \n",
    "| F   |  T  | F   |F    |F    |T     |T    |T            |F         | T      |F                |\n",
    "| T   |  F  | T   |T    |T    |F     |T    |F            |T         | T      |T                |\n",
    "| T   |  F  | F   |T    |T    |F     |T    |F            |F         | F      |T                |\n",
    "| F   |  T  | T   |T    |T    |F     |T    |T            |T         | T      |T                | \n",
    "| F   |  T  | F   |T    |T    |F     |T    |T            |F         | T      |T                |\n",
    "| T   |  F  | T   |F    |T    |F     |T    |F            |T         | T      |F                |\n",
    "| T   |  F  | F   |F    |T    |F     |T    |F            |F         | F      |T                |\n",
    "| F   |  T  | T   |F    |T    |F     |T    |T            |T         | T      |F                | \n",
    "| F   |  T  | F   |F    |T    |F     |T    |T            |F         | T      |F                |\n",
    "| T   |  F  | T   |T    |F    |T     |F    |T            |T         | T      |T                |\n",
    "| T   |  F  | F   |T    |F    |T     |F    |T            |T         | F      |T                |\n",
    "| F   |  T  | T   |T    |F    |T     |F    |T            |T         | T      |T                | \n",
    "| F   |  T  | F   |T    |F    |T     |F    |T            |T         | T      |T                |\n",
    "| T   |  F  | T   |F    |F    |T     |F    |T            |T         | T      |F                |\n",
    "| T   |  F  | F   |F    |F    |T     |F    |T            |T         | F      |T                |\n",
    "| F   |  T  | T   |F    |F    |T     |F    |T            |T         | T      |F                | \n",
    "| F   |  T  | F   |F    |F    |T     |F    |T            |T         | T      |F                |\n",
    "| T   |  F  | T   |T    |T    |F     |F    |F            |T         | T      |T                |\n",
    "| T   |  F  | F   |T    |T    |F     |F    |F            |T         | F      |T                |\n",
    "| F   |  T  | T   |T    |T    |F     |F    |T            |T         | T      |T                | \n",
    "| F   |  T  | F   |T    |T    |F     |F    |T            |T         | T      |T                |\n",
    "| T   |  F  | T   |F    |T    |F     |F    |F            |T         | T      |F                |\n",
    "| T   |  F  | F   |F    |T    |F     |F    |F            |T         | F      |T                |\n",
    "| F   |  T  | T   |F    |T    |F     |F    |T            |T         | T      |F                | \n",
    "| F   |  T  | F   |F    |T    |F     |F    |T            |T         | T      |F                |\n",
    "\n",
    "\n",
    "| 0     | p     | q      | q -> p | p -> (q -> p)| p -> (p -> (q -> p))|**q -> (p -> (p -> (q -> p)))**\n",
    "|-------|-------|--------|--------|--------------|---------------------|-------------------------------\n",
    "| **T** | **T** | **T**  | **T**  | **T**        | **T**               | **T**\n",
    "| **T** | **T** | **F**  | **T**  | **T**        | **T**               | **T**\n",
    "| **T** | **F** | **T**  | **F**  | **T**        | **T**               | **T**\n",
    "| **T** | **F** | **F**  | **T**  | **T**        | **T**               | **T**\n",
    "|   F   |   T   |   T    |   T    |   T          |   T                 |   T\n",
    "|   F   |   T   |   F    |   T    |   T          |   T                 |   T\n",
    "|   F   |   F   |   T    |   F    |   T          |   T                 |   T\n",
    "|   F   |   F   |   F    |   T    |   T          |   T                 |   T"
   ]
  },
  {
   "cell_type": "markdown",
   "metadata": {
    "id": "q7le6n2jFu4l"
   },
   "source": [
    "\n",
    "\n",
    "---\n",
    "\n",
    "\n",
    " ## Logical Entailment using z3py\n",
    "\n",
    " Use Z3py to prove the above two entailments are true using satisfiability. See section 7.5 in the book for details. **(1 point)**"
   ]
  },
  {
   "cell_type": "code",
   "execution_count": 42,
   "metadata": {
    "id": "Z80-O6FGDtjp"
   },
   "outputs": [
    {
     "name": "stdout",
     "output_type": "stream",
     "text": [
      "(p->q)-> r, s -> - p, t, - s, t -> q entails r\n",
      "empty set entails q -> ( p -> ( p -> (q -> p)))\n"
     ]
    }
   ],
   "source": [
    "# answer code here\n",
    "validSolve1 = Solver()\n",
    "unsatSolve1 = Solver()\n",
    "p = Bool('p')\n",
    "q = Bool('q')\n",
    "r = Bool('r')\n",
    "s = Bool('s')\n",
    "t = Bool('t')\n",
    "validSolve1.add(Implies(And(Implies(Implies(p,q),r),Implies(s,Not(p)),t,Not(s),Implies(t,q)),r))\n",
    "unsatSolve1.add((And(And(Implies(Implies(p,q),r),Implies(s,Not(p)),t,Not(s),Implies(t,q)),Not(r))))\n",
    "if validSolve1.check() == sat and unsatSolve1.check() == unsat:\n",
    "    print(\"(p->q)-> r, s -> - p, t, - s, t -> q entails r\")\n",
    "\n",
    "validSolve2 = Solver()\n",
    "unsatSolve2 = Solver()\n",
    "p = Bool('p')\n",
    "q = Bool('q')\n",
    "validSolve2.add(Implies(q,Implies(p,Implies(p,Implies(q,p)))))\n",
    "unsatSolve2.add(Not(Implies(q,Implies(p,Implies(p,Implies(q,p))))))\n",
    "if validSolve2.check() == sat and unsatSolve2.check() == unsat:\n",
    "    print(\"empty set entails q -> ( p -> ( p -> (q -> p)))\")"
   ]
  }
 ],
 "metadata": {
  "colab": {
   "provenance": []
  },
  "kernelspec": {
   "display_name": "Python 3 (ipykernel)",
   "language": "python",
   "name": "python3"
  },
  "language_info": {
   "codemirror_mode": {
    "name": "ipython",
    "version": 3
   },
   "file_extension": ".py",
   "mimetype": "text/x-python",
   "name": "python",
   "nbconvert_exporter": "python",
   "pygments_lexer": "ipython3",
   "version": "3.11.5"
  }
 },
 "nbformat": 4,
 "nbformat_minor": 1
}
