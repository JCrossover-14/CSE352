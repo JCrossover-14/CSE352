{
 "cells": [
  {
   "cell_type": "code",
   "execution_count": 8,
   "id": "3d793f48",
   "metadata": {},
   "outputs": [
    {
     "name": "stdout",
     "output_type": "stream",
     "text": [
      "tensor([-0.1000, 21.7000, -5.0000], grad_fn=<SqueezeBackward4>)\n"
     ]
    }
   ],
   "source": [
    "import torch\n",
    "\n",
    "A = torch.tensor([1.0, 2.0, 3.0])\n",
    "B = torch.tensor([[0.1, 0.2, 0.5],\n",
    "                  [-0.1, -0.5, -1.1],\n",
    "                  [0, 7.5, -1.1]], requires_grad=True)\n",
    "\n",
    "result = torch.matmul(A, B)\n",
    "print(result)"
   ]
  },
  {
   "cell_type": "code",
   "execution_count": null,
   "id": "b32672d2",
   "metadata": {},
   "outputs": [],
   "source": []
  }
 ],
 "metadata": {
  "kernelspec": {
   "display_name": "Python 3 (ipykernel)",
   "language": "python",
   "name": "python3"
  },
  "language_info": {
   "codemirror_mode": {
    "name": "ipython",
    "version": 3
   },
   "file_extension": ".py",
   "mimetype": "text/x-python",
   "name": "python",
   "nbconvert_exporter": "python",
   "pygments_lexer": "ipython3",
   "version": "3.10.9"
  }
 },
 "nbformat": 4,
 "nbformat_minor": 5
}
