{
 "cells": [
  {
   "cell_type": "markdown",
   "metadata": {
    "id": "vEDxGYC_yqTq"
   },
   "source": [
    "# SBU CSE 352 - HW 4 - Machine Learning From Scratch\n",
    "\n",
    "\n",
    "All student names in group: [Add your name]\n",
    "\n",
    "I understand that my submission needs to be my own group's work: [all group member's initials]\n",
    "\n",
    "I understand that ChatGPT / Copilot / other AI tools are not allowed: [all group member's initials]\n",
    "\n",
    "---\n",
    "\n",
    "## Instructions\n",
    "\n",
    "Total Points: 100\n",
    "\n",
    "1. Complete this notebook. Use the provided notebook cells and insert additional code and markdown cells as needed. Only use standard packages (numpy and built-in packages like random). Submit the completely rendered notebook as a HTML file.\n",
    "\n",
    "  **Important:** Do not use scikit-learn or other packages with ML built in. The point of this is to be a learning exercise. Using linear algebra from numpy is okay (things like matrix operations or pseudoinverse, for example, but not lstsq).\n",
    "\n",
    "2. Your notebook needs to be formatted professionally.\n",
    "    - Add additional markdown blocks for your description, comments in the code, add tables and use matplotlib to produce charts where appropriate\n",
    "    - Do not show debugging output or include an excessive amount of output.\n",
    "    - Check that your PDF file is readable. For example, long lines are cut off in the PDF file. You don't have control over page breaks, so do not worry about these.\n",
    "3. Document your code. Add a short discussion of how your implementation works and your design choices.\n",
    "\n",
    "## Introduction\n",
    "\n",
    "You will implement several machine learning algorithms and evaluate their accuracy. This will be done for a downscaled version of the MNIST digit recognition dataset.\n",
    "\n",
    "**Like in real life, some of the tasks you will be asked to do may not be possible, at least directly. In these cases, your job is to figure out why it won't work and either propose a fix (best), or provide a clear explanation why it won't work.**\n",
    "\n",
    "For example, if the problem says to do k-nearest neighbors with a dataset of a billion points, this could require too much time to do each classification so it's infeasible to evaluate its test accuracy. In this case, you could suggest randomly downsample the data to a more manageable size, which will speed things up by may lose some accuracy. In your answer, then, you should describe the problem and how you solved it and the trade-offs.\n",
    "\n",
    "# Data\n",
    "First the code below ensures you have access to the training data (a subset of the MNIST images), consisting of 100 handwritten images of each digit."
   ]
  },
  {
   "cell_type": "code",
   "execution_count": 1,
   "metadata": {
    "colab": {
     "base_uri": "https://localhost:8080/"
    },
    "id": "dTw87RlBzTOi",
    "outputId": "1844abe6-b3b4-408a-92a6-b36b0c86285f"
   },
   "outputs": [
    {
     "name": "stdout",
     "output_type": "stream",
     "text": [
      "C:\\Users\\dilly\\CSE352\\HW4\\CS7320-AI\\ML\n"
     ]
    },
    {
     "name": "stderr",
     "output_type": "stream",
     "text": [
      "fatal: destination path 'CS7320-AI' already exists and is not an empty directory.\n",
      "'ls' is not recognized as an internal or external command,\n",
      "operable program or batch file.\n"
     ]
    }
   ],
   "source": [
    "# First download the repo and change the directory to be the one where the dependencies are.\n",
    "# You should only need to do this once per session. If you want to reset, do Runtime -> Disconnect and Delete Runtime\n",
    "# You can always do !pwd to see the current working directory and !ls to list current files.\n",
    "!git clone https://github.com/stanleybak/CS7320-AI.git\n",
    "%cd CS7320-AI/ML\n",
    "!ls"
   ]
  },
  {
   "cell_type": "code",
   "execution_count": 2,
   "metadata": {
    "colab": {
     "base_uri": "https://localhost:8080/",
     "height": 191
    },
    "id": "ny3IAxVAyqTs",
    "outputId": "04ccd06a-6ac9-4935-e202-b70272e98355"
   },
   "outputs": [
    {
     "data": {
      "image/png": "[encoded data removed]",
      "text/plain": [
       "<Figure size 200x200 with 1 Axes>"
      ]
     },
     "metadata": {},
     "output_type": "display_data"
    }
   ],
   "source": [
    "import matplotlib.pyplot as plt\n",
    "import pickle\n",
    "\n",
    "# if the below fails to open, then the data file is not in the current working directory (see above code block)\n",
    "with open('mini-mnist-1000.pickle', 'rb') as f:\n",
    "  data = pickle.load(f)\n",
    "\n",
    "im3 = data['images'][300] # 100 images of each digit\n",
    "plt.figure(figsize=(2, 2))  # Adjust size as needed\n",
    "plt.imshow(im3, cmap='gray')\n",
    "plt.axis('off')\n",
    "plt.show()"
   ]
  },
  {
   "cell_type": "markdown",
   "metadata": {
    "id": "Kzts6NT5yqTt"
   },
   "source": [
    "# Downscaling Images\n",
    "\n",
    "MNIST images are originally 28x28. We will train our models not just on the original images, but also on downscaled images with the following sizes: 14x14, 7x7, 4x4, 2x2. The next code block shows one way to do downscaling. As you can tell from the output, we cannot expect our model's accuracy will be too high on lower resolution versions, although it's unclear how much better you can do than random chance, which should have a 10% accuracy."
   ]
  },
  {
   "cell_type": "code",
   "execution_count": 3,
   "metadata": {
    "colab": {
     "base_uri": "https://localhost:8080/",
     "height": 459
    },
    "id": "2wTIXhvGyqTt",
    "outputId": "f27bb34d-8ee8-4ec8-8e5e-efc8e4388847",
    "tags": []
   },
   "outputs": [
    {
     "data": {
      "image/png": "[encoded data removed]",
      "text/plain": [
       "<Figure size 1000x200 with 5 Axes>"
      ]
     },
     "metadata": {},
     "output_type": "display_data"
    },
    {
     "data": {
      "image/png": "[encoded data removed]",
      "text/plain": [
       "<Figure size 1000x200 with 5 Axes>"
      ]
     },
     "metadata": {},
     "output_type": "display_data"
    },
    {
     "data": {
      "image/png": "[encoded data removed]",
      "text/plain": [
       "<Figure size 1000x200 with 5 Axes>"
      ]
     },
     "metadata": {},
     "output_type": "display_data"
    }
   ],
   "source": [
    "import numpy as np\n",
    "import pickle\n",
    "import random\n",
    "import matplotlib.pyplot as plt\n",
    "\n",
    "# Function to downscale an image to different sizes\n",
    "def downscale_image(image, downscaled_size):\n",
    "    block_size = 28 // downscaled_size\n",
    "    downscaled = np.zeros((downscaled_size, downscaled_size))\n",
    "    for i in range(downscaled_size):\n",
    "        for j in range(downscaled_size):\n",
    "            # Calculate the average for each block\n",
    "            block = image[i*block_size:(i+1)*block_size, j*block_size:(j+1)*block_size]\n",
    "            downscaled[i, j] = np.mean(block)\n",
    "    return downscaled\n",
    "\n",
    "# Load the dataset (assuming this file is in your working directory)\n",
    "with open('mini-mnist-1000.pickle', 'rb') as f:\n",
    "    data = pickle.load(f)\n",
    "\n",
    "images = data['images']  # a list of 1000 numpy image matrices\n",
    "labels = data['labels']  # a list of 1000 integer labels\n",
    "\n",
    "# Select 3 \"random\" indices from the dataset\n",
    "random_indices = [300, 500, 200]\n",
    "\n",
    "# Downscale the images to multiple sizes and display them\n",
    "sizes = [28, 14, 7, 4, 2]\n",
    "for index in random_indices:\n",
    "    fig, axs = plt.subplots(1, len(sizes), figsize=(10, 2))\n",
    "    for ax, size in zip(axs, sizes):\n",
    "        downscaled_image = downscale_image(images[index], size)\n",
    "        ax.imshow(downscaled_image, cmap='gray', vmin=0, vmax=255)\n",
    "        ax.set_title(f'Size {size}x{size}')\n",
    "        ax.axis('off')\n",
    "    plt.show()"
   ]
  },
  {
   "cell_type": "code",
   "execution_count": 4,
   "metadata": {
    "colab": {
     "base_uri": "https://localhost:8080/"
    },
    "id": "RXSTClGvQGpY",
    "outputId": "cda01e42-219d-431c-ab7d-5b3b1e52bf51"
   },
   "outputs": [
    {
     "name": "stdout",
     "output_type": "stream",
     "text": [
      "<class 'dict'>\n",
      "[[  0   0   0   0   0   0   0   0   0   0   0   0   0   0   0   0   0   0\n",
      "    0   0   0   0   0   0   0   0   0   0]\n",
      " [  0   0   0   0   0   0   0   0   0   0   0   0   0   0   0   0   0   0\n",
      "    0   0   0   0   0   0   0   0   0   0]\n",
      " [  0   0   0   0   0   0   0   0   0   0   0   0   0   0   0   0   0   0\n",
      "    0   0   0   0   0   0   0   0   0   0]\n",
      " [  0   0   0   0   0   0   0   0   0   0   0   0   0   0   0   0   0   0\n",
      "    0   0   0   0   0   0   0   0   0   0]\n",
      " [  0   0   0   0   0   0   0   0   0   0   0   0   0   0   0   0   0   0\n",
      "    0   0   0   0   0   0   0   0   0   0]\n",
      " [  0   0   0   0   0   0   0   0   0   0   0   0   0   0   0  13  25 100\n",
      "  122   7   0   0   0   0   0   0   0   0]\n",
      " [  0   0   0   0   0   0   0   0   0   0   0   0   0  33 151 208 252 252\n",
      "  252 146   0   0   0   0   0   0   0   0]\n",
      " [  0   0   0   0   0   0   0   0   0   0   0  40 152 244 252 253 224 211\n",
      "  252 232  40   0   0   0   0   0   0   0]\n",
      " [  0   0   0   0   0   0   0   0   0  15 152 239 252 252 252 216  31  37\n",
      "  252 252  60   0   0   0   0   0   0   0]\n",
      " [  0   0   0   0   0   0   0   0   0  96 252 252 252 252 217  29   0  37\n",
      "  252 252  60   0   0   0   0   0   0   0]\n",
      " [  0   0   0   0   0   0   0   0   0 181 252 252 220 167  30   0   0  77\n",
      "  252 252  60   0   0   0   0   0   0   0]\n",
      " [  0   0   0   0   0   0   0   0   0  26 128  58  22   0   0   0   0 100\n",
      "  252 252  60   0   0   0   0   0   0   0]\n",
      " [  0   0   0   0   0   0   0   0   0   0   0   0   0   0   0   0   0 157\n",
      "  252 252  60   0   0   0   0   0   0   0]\n",
      " [  0   0   0   0   0   0   0   0   0   0   0   0   0 110 121 122 121 202\n",
      "  252 194   3   0   0   0   0   0   0   0]\n",
      " [  0   0   0   0   0   0   0   0   0   0  10  53 179 253 253 255 253 253\n",
      "  228  35   0   0   0   0   0   0   0   0]\n",
      " [  0   0   0   0   0   0   0   0   5  54 227 252 243 228 170 242 252 252\n",
      "  231 117   6   0   0   0   0   0   0   0]\n",
      " [  0   0   0   0   0   0   0   6  78 252 252 125  59   0  18 208 252 252\n",
      "  252 252  87   7   0   0   0   0   0   0]\n",
      " [  0   0   0   0   0   0   5 135 252 252 180  16   0  21 203 253 247 129\n",
      "  173 252 252 184  66  49  49   0   0   0]\n",
      " [  0   0   0   0   0   3 136 252 241 106  17   0  53 200 252 216  65   0\n",
      "   14  72 163 241 252 252 223   0   0   0]\n",
      " [  0   0   0   0   0 105 252 242  88  18  73 170 244 252 126  29   0   0\n",
      "    0   0   0  89 180 180  37   0   0   0]\n",
      " [  0   0   0   0   0 231 252 245 205 216 252 252 252 124   3   0   0   0\n",
      "    0   0   0   0   0   0   0   0   0   0]\n",
      " [  0   0   0   0   0 207 252 252 252 252 178 116  36   4   0   0   0   0\n",
      "    0   0   0   0   0   0   0   0   0   0]\n",
      " [  0   0   0   0   0  13  93 143 121  23   6   0   0   0   0   0   0   0\n",
      "    0   0   0   0   0   0   0   0   0   0]\n",
      " [  0   0   0   0   0   0   0   0   0   0   0   0   0   0   0   0   0   0\n",
      "    0   0   0   0   0   0   0   0   0   0]\n",
      " [  0   0   0   0   0   0   0   0   0   0   0   0   0   0   0   0   0   0\n",
      "    0   0   0   0   0   0   0   0   0   0]\n",
      " [  0   0   0   0   0   0   0   0   0   0   0   0   0   0   0   0   0   0\n",
      "    0   0   0   0   0   0   0   0   0   0]\n",
      " [  0   0   0   0   0   0   0   0   0   0   0   0   0   0   0   0   0   0\n",
      "    0   0   0   0   0   0   0   0   0   0]\n",
      " [  0   0   0   0   0   0   0   0   0   0   0   0   0   0   0   0   0   0\n",
      "    0   0   0   0   0   0   0   0   0   0]]\n"
     ]
    }
   ],
   "source": [
    "print(f'{type(data)}')\n",
    "print(data['images'][200])"
   ]
  },
  {
   "cell_type": "markdown",
   "metadata": {
    "id": "YePL7s9NyqTw"
   },
   "source": [
    "---\n",
    "# Tasks\n",
    "\n",
    "Your data contains 100 images in each class. When training models, use 80% of training, 10% for validation and 10% for testing. Make sure the data is balanced in each class when splitting.\n",
    "\n",
    "---\n",
    "## Task 1: Linear Classifier [20 points]\n",
    "\n",
    "First, implement a linear classifier. The simplest way to do this is to adapt linear regression approaches that we learned about in class, where the output is a real number. For classification, we can let one category be an output of 1.0 and the other -1.0. Then, after the classifier is trained we can use the sign of the output to determine the predicted class.\n",
    "\n",
    "However, since in MNIST there are multiple classes (10 digits, not just 2), we need to adapt the approach further. We will try both of the following two popular strategies: One-vs-Rest (OvR) and One-vs-One (OvO).\n",
    "\n",
    "**One-vs-Rest (OvR)** is a strategy for using binary classification algorithms for multiclass problems. In this approach, a separate binary classifier is trained for each class, which predicts whether an instance belongs to that class or not, making it the 'one' against all other classes (the 'rest'). For a new input instance, compute the output of all classifiers. The predicted class is the one whose corresponding classifier gives the highest output value.\n",
    "\n",
    "**One-vs-One (OvO)** is another strategy where a binary classifier is trained for every pair of classes. If there are N classes, you will train N(N−1)/2 classifiers. For a new input, evaluate it using all N(N−1)/2​ classifiers. Count the number of times each class is predicted over all binary classifications. The class with the highest count is selected as the final prediction.\n",
    "\n",
    "### Report Results\n",
    "Report the test accuracy for OvR and OvO, for each of the input image sizes, 28x28, 14x14, 7x7, 4x4, 2x2. A table may be helpful. Also report any interesting observations."
   ]
  },
  {
   "cell_type": "code",
   "execution_count": 5,
   "metadata": {
    "id": "ueSohSbyCljy"
   },
   "outputs": [],
   "source": [
    "#we need to first split into training and test sets. \n",
    "\n",
    "# Let's use the convention that the first 80 for each class is training, next 10 for each class is \n",
    "\n",
    "training_data = []\n",
    "training_labels = []\n",
    "val_data=[]\n",
    "val_labels=[]\n",
    "test_data = []\n",
    "test_labels=[]\n",
    "for i in range(0,1000,100):\n",
    "    for x in range(i,i+80):\n",
    "        training_data.append(data['images'][x])\n",
    "        training_labels.append(data['labels'][x])\n",
    "    for x in range(i+80,i+90):\n",
    "        val_data.append(data['images'][x])\n",
    "        val_labels.append(data['labels'][x])\n",
    "    for x in range(i+90,i+100):\n",
    "        test_data.append(data['images'][x])\n",
    "        test_labels.append(data['labels'][x])\n",
    "\n",
    "#Downscale sizes\n",
    "\n",
    "sizes = [28,14,7,4,2]"
   ]
  },
  {
   "cell_type": "code",
   "execution_count": 6,
   "metadata": {},
   "outputs": [],
   "source": [
    "#Now lets define the linear regression function for one vs rest, which will return a vector of weights\n",
    "\n",
    "def linearRegression(train_data, train_labels,num_steps = 100, learning_rate=0.0001):\n",
    "    weights = np.ones(len(train_data[0]))\n",
    "    \n",
    "    #print(f'initialized weights as {weights}')\n",
    "    train_data = np.array(train_data)\n",
    "    train_labels = np.array(train_labels)\n",
    "    #Gradient of Loss function = 2X_t (Xw-y)\n",
    "    for _ in range(num_steps):\n",
    "        left = train_data.T\n",
    "        right = np.dot(train_data,weights)-train_labels\n",
    "        grad = 2*np.dot(left,right)\n",
    "        weights = weights - learning_rate*grad/train_data.size\n",
    "    return weights    \n",
    "\n",
    "def predict(models, data):\n",
    "    predictions = []\n",
    "    for vector in data:\n",
    "        curlabel = -1\n",
    "        maxval = -10000\n",
    "        for label in range(10):\n",
    "            vector = np.array(vector)\n",
    "            models[label] = np.array(models[label])\n",
    "            pred = np.dot(vector,models[label])\n",
    "            if pred>maxval:\n",
    "                maxval = pred\n",
    "                curlabel = label\n",
    "        predictions.append(curlabel)\n",
    "    return predictions\n",
    "                \n",
    "                \n",
    "def accuracy(predictions,actual,istest='val'):\n",
    "    correct = 0\n",
    "    predictArray = [0,0,0,0,0,0,0,0,0,0]\n",
    "    for i in range(len(predictions)):\n",
    "        if predictions[i]==actual[i]:\n",
    "            correct+=1\n",
    "            predictArray[actual[i]]+=1\n",
    "    if istest=='val':\n",
    "        x = [0,1,2,3,4,5,6,7,8,9]\n",
    "        y = predictArray\n",
    "        plt.bar(x, y)\n",
    "        plt.axis([-1,10,0,11])\n",
    "        plt.show()\n",
    "    return correct/len(predictions)\n",
    "    "
   ]
  },
  {
   "cell_type": "code",
   "execution_count": 7,
   "metadata": {
    "scrolled": false
   },
   "outputs": [
    {
     "name": "stdout",
     "output_type": "stream",
     "text": [
      "28\n"
     ]
    },
    {
     "data": {
      "image/png": "[encoded data removed]",
      "text/plain": [
       "<Figure size 640x480 with 1 Axes>"
      ]
     },
     "metadata": {},
     "output_type": "display_data"
    },
    {
     "name": "stdout",
     "output_type": "stream",
     "text": [
      "accuracy for validation set is 0.78\n",
      "accuracy for test set is 0.78\n",
      "14\n"
     ]
    },
    {
     "data": {
      "image/png": "[encoded data removed]",
      "text/plain": [
       "<Figure size 640x480 with 1 Axes>"
      ]
     },
     "metadata": {},
     "output_type": "display_data"
    },
    {
     "name": "stdout",
     "output_type": "stream",
     "text": [
      "accuracy for validation set is 0.79\n",
      "accuracy for test set is 0.77\n",
      "7\n"
     ]
    },
    {
     "data": {
      "image/png": "[encoded data removed]",
      "text/plain": [
       "<Figure size 640x480 with 1 Axes>"
      ]
     },
     "metadata": {},
     "output_type": "display_data"
    },
    {
     "name": "stdout",
     "output_type": "stream",
     "text": [
      "accuracy for validation set is 0.78\n",
      "accuracy for test set is 0.73\n",
      "4\n"
     ]
    },
    {
     "data": {
      "image/png": "[encoded data removed]",
      "text/plain": [
       "<Figure size 640x480 with 1 Axes>"
      ]
     },
     "metadata": {},
     "output_type": "display_data"
    },
    {
     "name": "stdout",
     "output_type": "stream",
     "text": [
      "accuracy for validation set is 0.54\n",
      "accuracy for test set is 0.59\n",
      "2\n"
     ]
    },
    {
     "data": {
      "image/png": "[encoded data removed]",
      "text/plain": [
       "<Figure size 640x480 with 1 Axes>"
      ]
     },
     "metadata": {},
     "output_type": "display_data"
    },
    {
     "name": "stdout",
     "output_type": "stream",
     "text": [
      "accuracy for validation set is 0.29\n",
      "accuracy for test set is 0.26\n"
     ]
    }
   ],
   "source": [
    "#Lets implment the One vs rest approach, where we train a model for each class,\n",
    "#and each dataset is transformed to be 1 if it is the target, and -1 if not.\n",
    "\n",
    "for size in sizes:\n",
    "    print(size)\n",
    "    sized_train_data = [downscale_image(row,size) for row in training_data]\n",
    "    sized_val_data = [downscale_image(row,size) for row in val_data]\n",
    "    sized_test_data = [downscale_image(row,size) for row in test_data]\n",
    "    # Transform each entry from a size x size matrix to a 1 x size*size input vector for linear regression \n",
    "    \n",
    "    vectors = []\n",
    "    val_vectors = []\n",
    "    test_vectors = []\n",
    "    \n",
    "    models = []\n",
    "    for vector in sized_train_data:\n",
    "        # We add a one term as a dummy bias term\n",
    "        vec = [1]\n",
    "        for i in range(len(vector)):\n",
    "            for j in range(len(vector[0])):\n",
    "                vec.append(vector[i][j])\n",
    "        vectors.append(vec)\n",
    "    \n",
    "    for vector in sized_val_data:\n",
    "        # We add a one term as a dummy bias term\n",
    "        vec = [1]\n",
    "        for i in range(len(vector)):\n",
    "            for j in range(len(vector[0])):\n",
    "                vec.append(vector[i][j])\n",
    "        val_vectors.append(vec)\n",
    "    \n",
    "    for vector in sized_test_data:\n",
    "        # We add a one term as a dummy bias term\n",
    "        vec = [1]\n",
    "        for i in range(len(vector)):\n",
    "            for j in range(len(vector[0])):\n",
    "                vec.append(vector[i][j])\n",
    "        test_vectors.append(vec)\n",
    "    for label in range(0,10):\n",
    "        #create new label classes:\n",
    "        sized_train_labels = [1 if label==x else -1 for x in training_labels]\n",
    "        weights = linearRegression(vectors,sized_train_labels)\n",
    "        models.append(weights)\n",
    "    \n",
    "    val_predictions = predict(models,val_vectors)\n",
    "    val_accuracy = accuracy(val_predictions,val_labels)\n",
    "    print(f'accuracy for validation set is {val_accuracy}')\n",
    "    \n",
    "    test_predictions = predict(models,test_vectors)\n",
    "    test_accuracy = accuracy(test_predictions, test_labels,'test')\n",
    "    print(f'accuracy for test set is {test_accuracy}')\n",
    "    \n",
    "        \n"
   ]
  },
  {
   "cell_type": "code",
   "execution_count": 8,
   "metadata": {},
   "outputs": [
    {
     "name": "stdout",
     "output_type": "stream",
     "text": [
      "28\n"
     ]
    },
    {
     "data": {
      "image/png": "[encoded data removed]",
      "text/plain": [
       "<Figure size 640x480 with 1 Axes>"
      ]
     },
     "metadata": {},
     "output_type": "display_data"
    },
    {
     "name": "stdout",
     "output_type": "stream",
     "text": [
      "accuracy for validation set is 0.7\n",
      "accuracy for test set is 0.68\n",
      "14\n"
     ]
    },
    {
     "data": {
      "image/png": "[encoded data removed]",
      "text/plain": [
       "<Figure size 640x480 with 1 Axes>"
      ]
     },
     "metadata": {},
     "output_type": "display_data"
    },
    {
     "name": "stdout",
     "output_type": "stream",
     "text": [
      "accuracy for validation set is 0.71\n",
      "accuracy for test set is 0.67\n",
      "7\n"
     ]
    },
    {
     "data": {
      "image/png": "[encoded data removed]",
      "text/plain": [
       "<Figure size 640x480 with 1 Axes>"
      ]
     },
     "metadata": {},
     "output_type": "display_data"
    },
    {
     "name": "stdout",
     "output_type": "stream",
     "text": [
      "accuracy for validation set is 0.72\n",
      "accuracy for test set is 0.66\n",
      "4\n"
     ]
    },
    {
     "data": {
      "image/png": "[encoded data removed]",
      "text/plain": [
       "<Figure size 640x480 with 1 Axes>"
      ]
     },
     "metadata": {},
     "output_type": "display_data"
    },
    {
     "name": "stdout",
     "output_type": "stream",
     "text": [
      "accuracy for validation set is 0.5\n",
      "accuracy for test set is 0.49\n",
      "2\n"
     ]
    },
    {
     "data": {
      "image/png": "[encoded data removed]",
      "text/plain": [
       "<Figure size 640x480 with 1 Axes>"
      ]
     },
     "metadata": {},
     "output_type": "display_data"
    },
    {
     "name": "stdout",
     "output_type": "stream",
     "text": [
      "accuracy for validation set is 0.19\n",
      "accuracy for test set is 0.18\n"
     ]
    }
   ],
   "source": [
    "#Lets implment the One vs one approach, where we train a model for each pair of classes,\n",
    "#and each dataset is transformed to be 1 if it is the first target\n",
    "#-1 if it is the second target and 0 otherwise.\n",
    "#\n",
    "\n",
    "def predict_OvO(models, data):\n",
    "    predictions = []\n",
    "    for vector in data:\n",
    "        curlabel = -1\n",
    "        maxval = -10000\n",
    "        label = 0\n",
    "        for label_1 in range(10):\n",
    "            for label_2 in range(label_1+1,10):\n",
    "                pred = np.dot(vector,models[label])\n",
    "                if abs(pred)>maxval:\n",
    "                    maxval = abs(pred)\n",
    "                    if pred>0:\n",
    "                        curlabel = label_1\n",
    "                    if pred<0:\n",
    "                        curlabel = label_2\n",
    "                label+=1\n",
    "        predictions.append(curlabel)\n",
    "    return predictions\n",
    "\n",
    "for size in sizes:\n",
    "    print(size)\n",
    "    sized_train_data = [downscale_image(row,size) for row in training_data]\n",
    "    sized_val_data = [downscale_image(row,size) for row in val_data]\n",
    "    sized_test_data = [downscale_image(row,size) for row in test_data]\n",
    "    # Transform each entry from a size x size matrix to a 1 x size*size input vector for linear regression \n",
    "    \n",
    "    vectors = []\n",
    "    val_vectors = []\n",
    "    test_vectors = []\n",
    "    \n",
    "    models = []\n",
    "    for vector in sized_train_data:\n",
    "        # We add a one term as a dummy bias term\n",
    "        vec = [1]\n",
    "        for i in range(len(vector)):\n",
    "            for j in range(len(vector[0])):\n",
    "                vec.append(vector[i][j])\n",
    "        vectors.append(vec)\n",
    "    \n",
    "    for vector in sized_val_data:\n",
    "        # We add a one term as a dummy bias term\n",
    "        vec = [1]\n",
    "        for i in range(len(vector)):\n",
    "            for j in range(len(vector[0])):\n",
    "                vec.append(vector[i][j])\n",
    "        val_vectors.append(vec)\n",
    "    \n",
    "    for vector in sized_test_data:\n",
    "        # We add a one term as a dummy bias term\n",
    "        vec = [1]\n",
    "        for i in range(len(vector)):\n",
    "            for j in range(len(vector[0])):\n",
    "                vec.append(vector[i][j])\n",
    "        test_vectors.append(vec)\n",
    "    for label_1 in range(10):\n",
    "        for label_2 in range(label_1+1,10):\n",
    "            #create new label classes:\n",
    "            sized_train_labels = [1 if label_1==x else -1 if label_2==x else 0 for x in training_labels]\n",
    "            weights = linearRegression(vectors,sized_train_labels)\n",
    "            models.append(weights)\n",
    "\n",
    "    val_predictions = predict_OvO(models,val_vectors)\n",
    "    val_accuracy = accuracy(val_predictions,val_labels)\n",
    "    \n",
    "    test_predictions = predict_OvO(models,test_vectors)\n",
    "    test_accuracy = accuracy(test_predictions, test_labels,'test')\n",
    "    \n",
    "    print(f'accuracy for validation set is {val_accuracy}')\n",
    "    print(f'accuracy for test set is {test_accuracy}')\n",
    "    "
   ]
  },
  {
   "cell_type": "markdown",
   "metadata": {
    "id": "p_6z07BdyqTw"
   },
   "source": [
    "---\n",
    "## Task 2: Data Augmentation [20 points]\n",
    "\n",
    "Your boss was unhappy with the test accuracy, especially of your 2x2 image classifier, and has made some suggestions. The problem, according to your boss, is that there is not enough data in each input $x$. You are told to augment the data with derived features in order to help the classifier.\n",
    "\n",
    "Specifically, given an input $x$, create additional attributes by computing all of the data up to powers of two. For example, in the 2x2 case your example $x$ consists of four pixel values $x_0$, $x_1$, $x_2$, and $x_3$. Your new input data would have:\n",
    "\n",
    "* all power of zero: 1 (constant)\n",
    "* all powers of one: $x_0$, $x_1$, $x_2$, $x_3$\n",
    "* all powers of two:\n",
    "\n",
    "  $x_0^2$, $x_0 x_1$, $x_0 x_2$, $x_0 x_3$,\n",
    "  \n",
    "  $x_1^2$, $x_1 x_2$, $ x_1 x_3$,\n",
    "  \n",
    "  $x_2^2$, $x_2 x_3$,\n",
    "  \n",
    "  $x_3^2$\n",
    "\n",
    "The data would have 15 values, which has the potential to learn nonlinear relationships between the original inputs, which was not possible before.\n",
    "\n",
    "### Report Results\n",
    "\n",
    "Report the test accuracy for OvR only, with the data augmentation approach, for each of the input image sizes, 28x28, 14x14, 7x7, 4x4, 2x2 (again, perhaps incorporating a table). Report any interesting results or observations.\n",
    "\n",
    "Also, explain to your boss what the danger is of looking at a model's final test accuracy and then suggesting changes to improve it. What should be done instead, if you know you will consider different types of models or hyperparameters in the same model class?"
   ]
  },
  {
   "cell_type": "code",
   "execution_count": null,
   "metadata": {
    "id": "jCvHIrBwyqTw"
   },
   "outputs": [
    {
     "name": "stdout",
     "output_type": "stream",
     "text": [
      "14\n"
     ]
    }
   ],
   "source": [
    "# Your answer goes here\n",
    "#Lets implment the One vs rest approach, where we train a model for each class,\n",
    "#and each dataset is transformed to be 1 if it is the target, and -1 if not.\n",
    "def augment_image(data,size):\n",
    "    newImages = []\n",
    "    x=0\n",
    "    for image in data:\n",
    "        x+=1\n",
    "        augmentImage = []\n",
    "        flattenedImage = []\n",
    "        y=0\n",
    "        for row in image:\n",
    "            for col in row:\n",
    "                flattenedImage.append(col)\n",
    "                augmentImage.append(col)\n",
    "        for val1 in range(len(flattenedImage)):\n",
    "            for val2 in range(val1,len(flattenedImage)):\n",
    "                augmentImage.append(np.dot(augmentImage[val1],augmentImage[val2])**0.5)\n",
    "        newImages.append(augmentImage)\n",
    "    return newImages\n",
    "for size in sizes[1:]:\n",
    "    print(size)\n",
    "    sized_train_data = [downscale_image(row,size) for row in training_data]\n",
    "    augmented_train_data = augment_image(sized_train_data,size)\n",
    "    sized_val_data = [downscale_image(row,size) for row in val_data]\n",
    "    augmented_val_data = augment_image(sized_val_data,size)\n",
    "    sized_test_data = [downscale_image(row,size) for row in test_data]\n",
    "    augmented_test_data = augment_image(sized_test_data,size)\n",
    "    # Transform each entry from a size x size matrix to a 1 x size*size input vector for linear regression \n",
    "\n",
    "    vectors = []\n",
    "    val_vectors = []\n",
    "    test_vectors = []\n",
    "    \n",
    "    models = []\n",
    "    for vector in augmented_train_data:\n",
    "        # We add a one term as a dummy bias term\n",
    "        vec = [1]\n",
    "        for i in range(len(vector)):\n",
    "            vec.append(vector[i])\n",
    "        vectors.append(vec)\n",
    "    \n",
    "    for vector in augmented_val_data:\n",
    "        # We add a one term as a dummy bias term\n",
    "        vec = [1]\n",
    "        for i in range(len(vector)):\n",
    "            vec.append(vector[i])\n",
    "        val_vectors.append(vec)\n",
    "    \n",
    "    for vector in augmented_test_data:\n",
    "        # We add a one term as a dummy bias term\n",
    "        vec = [1]\n",
    "        for i in range(len(vector)):\n",
    "            vec.append(vector[i])\n",
    "        test_vectors.append(vec)\n",
    "    for label in range(0,10):\n",
    "        #create new label classes:\n",
    "        augmented_train_labels = [1 if label==x else -1 for x in training_labels]\n",
    "        weights = linearRegression(vectors,augmented_train_labels)\n",
    "        models.append(weights)\n",
    "    \n",
    "    val_predictions = predict(models,val_vectors)\n",
    "    val_accuracy = accuracy(val_predictions,val_labels)\n",
    "    print(f'accuracy for validation set is {val_accuracy}')\n",
    "    \n",
    "    test_predictions = predict(models,test_vectors)\n",
    "    test_accuracy = accuracy(test_predictions, test_labels,'test')\n",
    "    print(f'accuracy for test set is {test_accuracy}')\n",
    "    \n",
    "        \n"
   ]
  },
  {
   "cell_type": "markdown",
   "metadata": {
    "id": "xz7hMCAkyqTw"
   },
   "source": [
    "---\n",
    "## Task 3: k-Nearest Neighbors Classifier [20 points]\n",
    "\n",
    "Your boss is still unhappy with the results (and still ignoring your advice about not using test data accuracy for model decisions).\n",
    "\n",
    "Next, you are to use the k-nearest neighbors approach to build a classifier for our data. Since we have multiple classes, the one that gets selected can be based on a plurality vote of the $k$ closest samples (whichever category is most frequent). If there are ties, select the class based on the sum of the distances from the test point. For example, if $k=5$, and the closest 5 samples have two pictures that are from category \"1\" and two pictures that are from category \"7\", then you choose the output by computing the sum of the distance from the test point and the two \"5\" samples, as well as the sum of distances from the test point to the two \"7\" samples, and then outputting the class with the smaller total distance.\n",
    "\n",
    "### Report Results\n",
    "\n",
    "For each image size, exhaustively explore different values of $k$ up to 50. Report the best test accuracy. Report the average time taken to do a lookup with the model."
   ]
  },
  {
   "cell_type": "code",
   "execution_count": null,
   "metadata": {
    "id": "q7pGs5acyqTw"
   },
   "outputs": [],
   "source": [
    "# Your answer goes here"
   ]
  },
  {
   "cell_type": "markdown",
   "metadata": {
    "id": "pyN1oAczyqTw"
   },
   "source": [
    "---\n",
    "## Task 4: Neural Networks [40 Points]\n",
    "\n",
    "Next, your boss wants you to try neural networks. Rather than using a library for everything, you will **only** use `pytorch` to perform backpropagation and compute gradients. You can write your own neural network class if desired, don't use anything from `pytorch` for that.\n",
    "\n",
    "\n",
    "An example network and how to compute gradients with pytorch is shown below.\n"
   ]
  },
  {
   "cell_type": "code",
   "execution_count": null,
   "metadata": {
    "colab": {
     "base_uri": "https://localhost:8080/"
    },
    "id": "yVYHnm2fyqTx",
    "outputId": "9fbbd6d3-1316-4fcc-b43d-8218569ba8de"
   },
   "outputs": [],
   "source": [
    "# Example of using pytorch to compute gradients and updates weights and biases\n",
    "#\n",
    "# The network consists of:\n",
    "# 1. An input layer with 3 features.\n",
    "# 2. A first hidden layer with 3 neurons. Each neuron in this layer performs a linear transformation\n",
    "#    on the input data using a weight matrix (W1) and a bias vector (b1). This is followed by a sigmoid\n",
    "#    activation function.\n",
    "# 3. A second hidden layer, also with 3 neurons, which processes the output of the first layer. Similar\n",
    "#    to the first layer, it uses a weight matrix (W2) and a bias vector (b2) for linear transformation,\n",
    "#    followed by a softmax activation function. The softmax activation is used here to normalize the\n",
    "#    output of the second layer into a probability distribution over the three classes. This is particularly\n",
    "#    useful for multi-class classification problems.\n",
    "# 4. The network uses cross-entropy as the loss function, which is a common choice for classification tasks\n",
    "#    involving softmax outputs. This loss function compares the predicted probability distribution with the\n",
    "#    true distribution (one-hot encoded) and penalizes the predictions that diverge from the actual labels.\n",
    "#\n",
    "\n",
    "\n",
    "import torch\n",
    "\n",
    "# Initialize input, weights, and biases\n",
    "x = torch.tensor([1.0, 2.0, 3.0])\n",
    "W1 = torch.tensor([[0.1, 0.2, 0.5],\n",
    "                  [-0.1, -0.5, -1.1],\n",
    "                  [0, 7.5, -1.1]], requires_grad=True)\n",
    "b1 = torch.tensor([0.0, 0.0, 0.0], requires_grad=True)\n",
    "\n",
    "W2 = torch.tensor([[0.1, -0.3, 0.4],\n",
    "                  [0.2, 0.4, -0.6],\n",
    "                  [-0.1, 0.5, -0.2]], requires_grad=True)\n",
    "b2 = torch.tensor([0.0, 0.0, 0.0], requires_grad=True)\n",
    "\n",
    "# Target output\n",
    "y_true = torch.tensor([1.0, 0.0, 0.0])\n",
    "\n",
    "# Forward pass through first layer\n",
    "z1 = torch.matmul(W1, x) + b1\n",
    "a1 = torch.sigmoid(z1)  # Sigmoid activation\n",
    "\n",
    "# Forward pass through second layer\n",
    "z2 = torch.matmul(W2, a1) + b2\n",
    "a2 = torch.softmax(z2, dim=0)  # Softmax activation\n",
    "\n",
    "print(\"Initial Output:\", a2)\n",
    "print(\"Desired Output:\", y_true)\n",
    "\n",
    "# Compute loss (Cross-entropy): https://en.wikipedia.org/wiki/Cross-entropy\n",
    "loss = -torch.sum(y_true * torch.log(a2))\n",
    "print(\"Initial loss:\", loss.item())\n",
    "\n",
    "# Backpropagation\n",
    "loss.backward()\n",
    "\n",
    "# you can print out gradient for each element now\n",
    "print(\"Gradient for weights matrix W1:\", W1.grad)\n",
    "\n",
    "# Update weights and biases based on gradient (should reduce loss)\n",
    "learning_rate = 0.02\n",
    "\n",
    "# the no_grad() environment is needed to indicate that the computation should not\n",
    "# be part of the gradient computation\n",
    "with torch.no_grad():\n",
    "    W1 -= learning_rate * W1.grad\n",
    "    b1 -= learning_rate * b1.grad\n",
    "    W2 -= learning_rate * W2.grad\n",
    "    b2 -= learning_rate * b2.grad\n",
    "\n",
    "# After the update, clear the gradients (in case we want to compute them again later)\n",
    "W1.grad.zero_()\n",
    "b1.grad.zero_()\n",
    "W2.grad.zero_()\n",
    "b2.grad.zero_()\n",
    "\n",
    "# Forward pass with updated weights and biases\n",
    "z1 = torch.matmul(W1, x) + b1\n",
    "a1 = torch.sigmoid(z1)  # Sigmoid activation\n",
    "z2 = torch.matmul(W2, a1) + b2\n",
    "a2 = torch.softmax(z2, dim=0)  # Softmax activation\n",
    "\n",
    "# Compute new loss\n",
    "new_loss = -torch.sum(y_true * torch.log(a2))\n",
    "print(\"New loss after updating weights and biases:\", new_loss.item())\n"
   ]
  },
  {
   "cell_type": "markdown",
   "metadata": {
    "id": "hddWtjp7bHvD"
   },
   "source": [
    "The code above updates the parameters based on a single piece of data, but often multiple inputs are used and their gradient is averaged when updating a model.\n",
    "\n",
    "Your task is to write the training code for the different neural network architectures proposed and report accuracy. Start with all random parameters between -1 and 1. Training should stop when the accuracy, as measured on the validation data, no longer appears to be improving. You can plot the validation data accuracy over time to ensure this looks correct. If this takes too long but it appears the model is still improving in accuracy, consider increasing the learning rate (start with 0.02 as in the example).\n",
    "\n",
    "For the gradient, you are to compute the gradient over the full set of training data, and then average them together before you update. Then, repeat with mini-batches of size 100, with 10 random samples from each class. This should update the model weights faster, but may require more updates to get the accuracy down.\n",
    "\n",
    "### Report Results\n",
    "\n",
    "Provide at least one plot of your validation data accuracy going down over time as training progresses. What was the condition you decided to use to detect if training should stop? How many updates were needed in the case of your plot?\n",
    "\n",
    "\n",
    "Create a table where each row corresponds to one model and training method (mini-batch or full). Use the 7x7 version of the data (49-dimensional inputs). You are to explore the following models: the number of hidden layers can be varied between 2 and 4. Each layer's size can be 16, 32, or 64 neurons (all hidden layers have the same number of neurons). Explore three different activation functions for the network, ReLU (`torch.relu`), arctan (`torch.atan`), and sigmoid (`torch.sigmoid`). After the final layer, use a softmax rather than the normal network activation function, to ensure all outputs are between 0 and 1. There should be 10 outputs, one for each class in the MNIST data.\n",
    "\n",
    "In the table, report the architecture, training time, number of model updates and test accuracy. What is the best architecture? Did mini-batches help with anything? Report any other interesting observations.\n",
    "\n"
   ]
  },
  {
   "cell_type": "code",
   "execution_count": null,
   "metadata": {
    "id": "GxJf4LR8f54p"
   },
   "outputs": [],
   "source": [
    "# Write your code here"
   ]
  }
 ],
 "metadata": {
  "colab": {
   "provenance": []
  },
  "kernelspec": {
   "display_name": "Python 3 (ipykernel)",
   "language": "python",
   "name": "python3"
  },
  "language_info": {
   "codemirror_mode": {
    "name": "ipython",
    "version": 3
   },
   "file_extension": ".py",
   "mimetype": "text/x-python",
   "name": "python",
   "nbconvert_exporter": "python",
   "pygments_lexer": "ipython3",
   "version": "3.11.5"
  }
 },
 "nbformat": 4,
 "nbformat_minor": 1
}
