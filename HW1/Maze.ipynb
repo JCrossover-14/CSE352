{
 "cells": [
  {
   "cell_type": "markdown",
   "metadata": {
    "id": "vEDxGYC_yqTq"
   },
   "source": [
    "# SBU CSE 352 - HW 1.2 - Search: Solving a Maze Using a Goal-based Agent\n",
    "\n",
    "\n",
    "All student names in group: Safwan Kader, Dylan Lai, Jerry Xiao\n",
    "\n",
    "I understand that my submission needs to be my own group's work: SK, DL, JX\n",
    "\n",
    "I understand that ChatGPT / Copilot / other AI tools are not allowed: SK, DL, JX\n",
    "\n",
    "---\n",
    "\n",
    "## Instructions\n",
    "\n",
    "Total Points: 100\n",
    "\n",
    "Complete this notebook. Use the provided notebook cells and insert additional code and markdown cells as needed. Only use standard packages (numpy, scipy, and built-in packages like random). Submit the completely rendered notebook as a HTML file.\n",
    "\n",
    "\n",
    "## Introduction\n",
    "\n",
    "The agent has a map of the maze it is in and the environment is assumed to be **deterministic, discrete, and known.** The agent must use the map to plan a path through the maze from the starting location $S$ to the goal location $G$.  This is a planing exercise for a goal-based agent, so you do not need to implement an environment, just use the map to search for a path. Once the plan is made, the agent in a deterministic environment (i.e., the transition function is deterministic with the outcome of each state/action pair fixed and no randomness) can just follow the path and does not need to care about the percepts.\n",
    "This is also called an **[open-loop system](https://en.wikipedia.org/wiki/Open-loop_controller).**\n",
    "The execution phase is trivial and we do not implement it in this exercise.\n",
    "\n",
    "Tree search algorithm implementations that you find online and used in general algorithms courses have often a different aim. These algorithms assume that you already have a tree in memory. We are interested in dynamically creating a search tree with the aim of finding a good/the best path from the root noteto the goal state. Follow the pseudo code presented in the text book (and replicated in the slides) closely. Ideally, we would like to search only a small part of the maze, i.e., create a search tree with as few nodes as possible.\n",
    "\n",
    "Several mazes for this exercise are stored as text files. Here is the small example maze:"
   ]
  },
  {
   "cell_type": "code",
   "execution_count": 4,
   "metadata": {
    "colab": {
     "base_uri": "https://localhost:8080/"
    },
    "id": "dTw87RlBzTOi",
    "outputId": "9b8306e6-6bca-47ea-9b6e-3df2e206e03a"
   },
   "outputs": [
    {
     "name": "stdout",
     "output_type": "stream",
     "text": [
      "Cloning into 'CS7320-AI'...\n",
      "remote: Enumerating objects: 2637, done.\u001b[K\n",
      "remote: Counting objects: 100% (754/754), done.\u001b[K\n",
      "remote: Compressing objects: 100% (313/313), done.\u001b[K\n",
      "remote: Total 2637 (delta 466), reused 712 (delta 436), pack-reused 1883\u001b[K\n",
      "Receiving objects: 100% (2637/2637), 283.93 MiB | 7.09 MiB/s, done.\n",
      "Resolving deltas: 100% (1634/1634), done.\n",
      "/Users/safkader/Classes/CSE352/Homeworks/HW1/CS7320-AI/Search\n",
      "Explore_heuristics.ipynb          empty_maze.txt\n",
      "L_maze.txt                        large_maze.txt\n",
      "Maze.ipynb                        loops_maze.txt\n",
      "Maze_BFS_vs_A_Star.ipynb          maze_helper.py\n",
      "Maze_Example-Animation.ipynb      medium_maze.txt\n",
      "Maze_Example-Animation_full.ipynb open_maze.txt\n",
      "Maze_Example.ipynb                small_maze.txt\n",
      "README.md                         wall_maze.txt\n",
      "empty_2_maze.txt\n"
     ]
    }
   ],
   "source": [
    "# First download the repo and change the directory to be the one where the dependencies are.\n",
    "# You should only need to do this once per session. If you want to reset, do Runtime -> Disconnect and Delete Runtime\n",
    "# You can always do !pwd to see the current working directory and !ls to list current files.\n",
    "!git clone https://github.com/stanleybak/CS7320-AI.git\n",
    "%cd CS7320-AI/Search\n",
    "!ls"
   ]
  },
  {
   "cell_type": "code",
   "execution_count": 5,
   "metadata": {},
   "outputs": [],
   "source": [
    "# First download the repo and change the directory to be the one where the dependencies are.\n",
    "# You should only need to do this once per session. If you want to reset, do Runtime -> Disconnect and Delete Runtime\n",
    "# You can always do !pwd to see the current working directory and !ls to list current files.\n",
    "#!git clone https://github.com/stanleybak/CS7320-AI.git"
   ]
  },
  {
   "cell_type": "code",
   "execution_count": 6,
   "metadata": {
    "colab": {
     "base_uri": "https://localhost:8080/"
    },
    "id": "ny3IAxVAyqTs",
    "outputId": "6d7758c9-2b45-4894-edc0-fcef2fba2ea2"
   },
   "outputs": [
    {
     "name": "stdout",
     "output_type": "stream",
     "text": [
      "XXXXXXXXXXXXXXXXXXXXXX\n",
      "X XX        X X      X\n",
      "X    XXXXXX X XXXXXX X\n",
      "XXXXXX     S  X      X\n",
      "X    X XXXXXX XX XXXXX\n",
      "X XXXX X         X   X\n",
      "X        XXX XXX   X X\n",
      "XXXXXXXXXX    XXXXXX X\n",
      "XG         XX        X\n",
      "XXXXXXXXXXXXXXXXXXXXXX\n",
      "\n"
     ]
    }
   ],
   "source": [
    "# if the below fails to open, then small_maze.txt is not in the current working directory (see above code block)\n",
    "with open(\"small_maze.txt\", \"r\") as f:\n",
    "    maze_str = f.read()\n",
    "print(maze_str)"
   ]
  },
  {
   "cell_type": "markdown",
   "metadata": {
    "id": "Hdqjt6WfyqTs"
   },
   "source": [
    "__Note:__ The mazes above contains cycles and therefore the state space may not form proper trees unless cycles are prevented. Therfore, you will need to deal with cycle detection in your code."
   ]
  },
  {
   "cell_type": "markdown",
   "metadata": {
    "id": "Kzts6NT5yqTt"
   },
   "source": [
    "## Parsing and pretty printing the maze\n",
    "\n",
    "The maze can also be displayed in color using code in the module [maze_helper.py](maze_helper.py). The code parses the string representing the maze and converts it into a `numpy` 2d array which you can use in your implementation. Position are represented as a 2-tuple of the form `(row, col)`."
   ]
  },
  {
   "cell_type": "code",
   "execution_count": 7,
   "metadata": {
    "colab": {
     "base_uri": "https://localhost:8080/"
    },
    "id": "2wTIXhvGyqTt",
    "outputId": "601bf4c2-54da-433f-eb4e-90d724e1ef4b",
    "tags": []
   },
   "outputs": [
    {
     "name": "stdout",
     "output_type": "stream",
     "text": [
      "Position(0,0): X\n",
      "Position(8,1): G\n"
     ]
    }
   ],
   "source": [
    "import maze_helper as mh\n",
    "\n",
    "maze = mh.parse_maze(maze_str)\n",
    "\n",
    "# look at a position in the maze by subsetting the 2d array\n",
    "print(\"Position(0,0):\", maze[0, 0])\n",
    "\n",
    "# there is also a helper function called `look(maze, pos)` available\n",
    "# which uses a 2-tuple for the position.\n",
    "print(\"Position(8,1):\", mh.look(maze, (8, 1)))"
   ]
  },
  {
   "cell_type": "markdown",
   "metadata": {
    "id": "rG4RYBXOyqTt"
   },
   "source": [
    "A helper function to visualize the maze is also available."
   ]
  },
  {
   "cell_type": "code",
   "execution_count": 8,
   "metadata": {
    "colab": {
     "base_uri": "https://localhost:8080/",
     "height": 286
    },
    "id": "pXcoB6ULyqTu",
    "outputId": "479806d9-ef0f-4acf-e854-71ec68a00c1a"
   },
   "outputs": [
    {
     "data": {
      "image/png": "[encoded data removed]",
      "text/plain": [
       "<Figure size 640x480 with 1 Axes>"
      ]
     },
     "metadata": {
      "image/png": {
       "height": 269,
       "width": 534
      }
     },
     "output_type": "display_data"
    }
   ],
   "source": [
    "%matplotlib inline\n",
    "%config InlineBackend.figure_format = 'retina'\n",
    "# use higher resolution images in notebook\n",
    "\n",
    "mh.show_maze(maze)"
   ]
  },
  {
   "cell_type": "markdown",
   "metadata": {
    "id": "QiX0kd6NyqTu"
   },
   "source": [
    "Find the position of the start and the goal using the helper function `find_pos()`"
   ]
  },
  {
   "cell_type": "code",
   "execution_count": 9,
   "metadata": {
    "colab": {
     "base_uri": "https://localhost:8080/"
    },
    "id": "Z1ZiNESOyqTu",
    "outputId": "f2028ec2-479b-4195-af5b-aa17b51f109e"
   },
   "outputs": [
    {
     "name": "stdout",
     "output_type": "stream",
     "text": [
      "Start location: (3, 11)\n",
      "Goal location: (8, 1)\n"
     ]
    }
   ],
   "source": [
    "print(\"Start location:\", mh.find_pos(maze, what = \"S\"))\n",
    "print(\"Goal location:\", mh.find_pos(maze, what = \"G\"))"
   ]
  },
  {
   "cell_type": "markdown",
   "metadata": {
    "id": "z8t19iQlyqTv"
   },
   "source": [
    "Helper function documentation."
   ]
  },
  {
   "cell_type": "code",
   "execution_count": 10,
   "metadata": {
    "colab": {
     "base_uri": "https://localhost:8080/"
    },
    "id": "cTN8wMExyqTv",
    "outputId": "ccbe41f5-c935-4074-c892-bd605401ca30"
   },
   "outputs": [
    {
     "name": "stdout",
     "output_type": "stream",
     "text": [
      "Help on module maze_helper:\n",
      "\n",
      "NAME\n",
      "    maze_helper\n",
      "\n",
      "DESCRIPTION\n",
      "    Code for the Maze Assignment by Michael Hahsler\n",
      "    Usage: \n",
      "        import maze_helper as mh\n",
      "        mh.show_some_mazes()\n",
      "\n",
      "FUNCTIONS\n",
      "    find_pos(maze, what='S')\n",
      "        Find start/goal in a maze and returns the first one. \n",
      "        Caution: there is no error checking!\n",
      "        \n",
      "        Parameters:\n",
      "        maze: a array with characters prodced by parse_maze()\n",
      "        what: the letter to be found ('S' for start and 'G' for goal)\n",
      "        \n",
      "        Returns:\n",
      "        a tupple (x, y) for the found position.\n",
      "    \n",
      "    look(maze, pos)\n",
      "        Look at the label of a square with the position as an array of the form (x, y).\n",
      "    \n",
      "    parse_maze(maze_str)\n",
      "        Convert a maze as a string into a 2d numpy array\n",
      "    \n",
      "    show_maze(maze, fontsize=10)\n",
      "        Display a (parsed) maze as an image.\n",
      "    \n",
      "    welcome()\n",
      "        Welcome message.\n",
      "\n",
      "FILE\n",
      "    /Users/safkader/Classes/CSE352/Homeworks/HW1/CS7320-AI/Search/maze_helper.py\n",
      "\n",
      "\n"
     ]
    }
   ],
   "source": [
    "help(mh)"
   ]
  },
  {
   "cell_type": "markdown",
   "metadata": {
    "id": "E7mVM97byqTv"
   },
   "source": [
    "## Tree structure\n",
    "\n",
    "Here is an implementation of the basic node structure for the search algorithms (see Fig 3.7 on page 73). I have added a method that extracts the path from the root node to the current node. It can be used to get the path when the search is completed."
   ]
  },
  {
   "cell_type": "code",
   "execution_count": 11,
   "metadata": {
    "id": "--QcXcbLyqTw"
   },
   "outputs": [],
   "source": [
    "class Node:\n",
    "    def __init__(self, pos, parent, action, cost):\n",
    "        self.pos = tuple(pos)    # the state; positions are (row,col)\n",
    "        self.parent = parent     # reference to parent node. None means root node.\n",
    "        self.action = action     # action used in the transition function (root node has None)\n",
    "        self.cost = cost         # for uniform cost this is the depth. It is also g(n) for A* search\n",
    "\n",
    "    def __str__(self):\n",
    "        return f\"Node - pos = {self.pos}; action = {self.action}; cost = {self.cost}\"\n",
    "\n",
    "    def get_path_from_root(self):\n",
    "        \"\"\"returns nodes on the path from the root to the current node.\"\"\"\n",
    "        node = self\n",
    "        path = [node]\n",
    "\n",
    "        while not node.parent is None:\n",
    "            node = node.parent\n",
    "            path.append(node)\n",
    "\n",
    "        path.reverse()\n",
    "\n",
    "        return(path)"
   ]
  },
  {
   "cell_type": "code",
   "execution_count": null,
   "metadata": {
    "id": "yVYHnm2fyqTx"
   },
   "outputs": [],
   "source": [
    "from collections import deque \n",
    "\n",
    "# DFS Implementation\n",
    "\n",
    "def dfs_maze_search(maze):\n",
    "    root = Node(mh.find_pos(maze,what = 'S'), None, None, 0)\n",
    "    goal_node = mh.find_pos(maze, what = 'G')\n",
    "    \n",
    "    if root.pos == goal_node:\n",
    "        return root.get_path_from_root()\n",
    "    \n",
    "    # initialize frontier stack\n",
    "    frontier = [root]\n",
    "    \n",
    "    while frontier:\n",
    "        # pop the last node\n",
    "        cur_node = frontier.pop()\n",
    "        \n",
    "        children = get_surrounding_positions(maze,cur_node.pos)\n",
    "        \n",
    "        for child in children:\n",
    "            # create a child node\n",
    "            s = Node(child, cur_node, None, cur_node.cost + 1)\n",
    "            # return if goal found\n",
    "            if child == goal_node:\n",
    "                return s.get_path_from_root()\n",
    "            frontier.append(s)\n",
    "        \n",
    "    return None\n",
    "\n",
    "# BFS Implementation\n",
    "\n",
    "def bfs_maze_search(maze):\n",
    "    # use maze helper to get start position\n",
    "    root = Node(mh.find_pos(maze,what = 'S'), None, None, 0)\n",
    "    goal_node = mh.find_pos(maze, what = 'G')\n",
    "    \n",
    "    if root.pos == goal_node:\n",
    "        return root.get_path_from_root()\n",
    "    \n",
    "    # initialize frontier queue and reached\n",
    "    frontier = deque([root])\n",
    "    reached = set([root])\n",
    "    \n",
    "    while frontier:\n",
    "        # pop from front of queue\n",
    "        cur_node = frontier.popleft()\n",
    "        # children are all surrounding nodes\n",
    "        children = get_surrounding_positions(maze, cur_node.pos)\n",
    "        for child in children:\n",
    "            # create a child node\n",
    "            if child not in reached:\n",
    "                s = Node(child, cur_node, None, cur_node.cost + 1)\n",
    "                # return if goal found\n",
    "                if child == goal_node:\n",
    "                    return s.get_path_from_root()\n",
    "            \n",
    "                # add to reached and frontier otherwise\n",
    "                reached.add(s.pos)\n",
    "                frontier.append(s)\n",
    "    return None\n",
    "\n",
    "def get_surrounding_positions(maze, position):\n",
    "    x, y = position\n",
    "    surrounding_positions = []\n",
    "\n",
    "    if x - 1 >= 0 and maze[x-1][y] != \"X\":\n",
    "        surrounding_positions.append((x - 1, y))\n",
    "\n",
    "    if y - 1 >= 0 and maze[x][y - 1] != \"X\":\n",
    "        surrounding_positions.append((x, y - 1))\n",
    "\n",
    "    if y + 1 < len(maze[0]) and maze[x][y + 1] != \"X\":\n",
    "        surrounding_positions.append((x, y + 1))\n",
    "\n",
    "    if x + 1 < len(maze) and maze[x + 1][y] != \"X\":\n",
    "        surrounding_positions.append((x + 1, y))\n",
    "\n",
    "    return surrounding_positions\n",
    "\n",
    "\n",
    "print(\"\\nBreadth-first Search\\n\")\n",
    "for node in (bfs_maze_search(maze)):\n",
    "    print(node)\n",
    "\n",
    "print(\"\\nDepth-first Search\\n\")\n",
    "for node in (dfs_maze_search(maze)):\n",
    "    print(node)"
   ]
  },
  {
   "cell_type": "markdown",
   "metadata": {
    "id": "o9qSfdNFyqTw"
   },
   "source": [
    "If needed, then you can add more fields to the class like the heuristic value $h(n)$ or $f(n)$.\n",
    "\n",
    "Examples for how to create and use a tree and information on memory management can be found [here](../HOWTOs/trees.ipynb)."
   ]
  },
  {
   "cell_type": "markdown",
   "metadata": {
    "id": "YePL7s9NyqTw"
   },
   "source": [
    "# Tasks\n",
    "\n",
    "The goal is to:\n",
    "\n",
    "1. Implement the following search algorithms for solving different mazes:\n",
    "\n",
    "    - Breadth-first search (BFS)\n",
    "    - Depth-first search (DFS)\n",
    "    - Greedy best-first search (GBFS)\n",
    "    - A* search\n",
    "\n",
    "2. Run each of the above algorithms on the\n",
    "    - [small maze](small_maze.txt),\n",
    "    - [medium maze](medium_maze.txt),\n",
    "    - [large maze](large_maze.txt),\n",
    "    - [open maze](open_maze.txt),\n",
    "    - [wall maze](wall_maze.txt),\n",
    "    - [loops maze](loops_maze.txt),\n",
    "    - [empty maze](empty_maze.txt), and\n",
    "    - [empty 2_maze](empty_2_maze.txt).\n",
    "    \n",
    "3. For each problem instance and each search algorithm, report the following in a table:\n",
    "\n",
    "    - The solution and its path cost\n",
    "    - Total number of nodes expanded\n",
    "    - Maximum tree depth\n",
    "    - Maximum size of the frontier\n",
    "\n",
    "4. Display each solution by marking every maze square (or state) visited and the squares on the final path.\n",
    "\n",
    "## General [10 Points]\n",
    "\n",
    "1. Your implementation can use libraries like math, numpy, scipy, but not libraries that implement inteligent agents or complete search algorithms. Try to keep the code simple! In this course, we want to learn about the algorithms and we often do not need to use object-oriented design.\n",
    "2. You notebook needs to be formated professionally.\n",
    "    - Add additional markdown blocks for your description, comments in the code, add tables and use mathplotlib to produce charts where appropriate\n",
    "    - Do not show debugging output or include an excessive amount of output.\n",
    "    - Check that your PDF file is readable. For example, long lines are cut off in the PDF file. You don't have control over page breaks, so do not worry about these.\n",
    "3. Document your code. Add a short discussion of how your implementation works and your design choices."
   ]
  },
  {
   "cell_type": "markdown",
   "metadata": {
    "id": "p_6z07BdyqTw"
   },
   "source": [
    "## Task 1: Defining the search problem and determining the problem size [10 Points]\n",
    "\n",
    "Define the components of the search problem:\n",
    "\n",
    "* Initial state\n",
    "* Actions\n",
    "* Transition model\n",
    "* Goal state\n",
    "* Path cost\n",
    "\n",
    "Use verbal descriptions, variables and equations as appropriate.\n",
    "\n",
    "*Note:* You can swich the next block from code to Markdown and use formating."
   ]
  },
  {
   "cell_type": "markdown",
   "metadata": {
    "id": "jCvHIrBwyqTw"
   },
   "source": [
    "- **Initial State (S₀):** \n",
    "  - The initial state is the starting position of the agent in the maze.\n",
    "\n",
    "- **Actions (A):** \n",
    "  - The actions are the possible movements the agent can take in the maze, such as moving one step in any of the four directions (up, down, left, right).\n",
    "\n",
    "- **Transition Model (Result function):** \n",
    "  - The result function defines the outcome of taking a specific action in a given state. It determines the next state based on the current state and the action taken.\n",
    "\n",
    "- **Goal State (G):** \n",
    "  - The goal state is the configuration of the maze where the agent has reached the destination.\n",
    "\n",
    "- **Path Cost (Cost function):** \n",
    "  - The cost function assigns a cost to each step or action in the maze, influencing the search algorithms to find the path with the lowest cumulative cost."
   ]
  },
  {
   "cell_type": "markdown",
   "metadata": {
    "id": "xz7hMCAkyqTw"
   },
   "source": [
    "Give some estimates for the problem size:\n",
    "\n",
    "* $n$: state space size\n",
    "* $d$: depth of the optimal solution\n",
    "* $m$: maximum depth of tree\n",
    "* $b$: maximum branching factor\n",
    "\n",
    "Describe how you would determine these values for a given maze."
   ]
  },
  {
   "cell_type": "markdown",
   "metadata": {
    "id": "q7pGs5acyqTw"
   },
   "source": [
    "- **State Space Size ($n$):** \n",
    "  - Count the number of cells or squares in the maze.\n",
    "\n",
    "- **Depth of Optimal Solution ($d$):** \n",
    "  - Find the shortest path from the start to the goal in the maze.\n",
    "\n",
    "- **Maximum Depth of Tree ($m$):** \n",
    "  - This can be determined by exploring the entire search tree until the goal is found.\n",
    "\n",
    "- **Maximum Branching Factor ($b$):** \n",
    "  - Count the maximum number of accessible neighboring cells for any given cell in the maze."
   ]
  },
  {
   "cell_type": "markdown",
   "metadata": {
    "id": "pyN1oAczyqTw"
   },
   "source": [
    "## Task 2: Uninformed search: Breadth-first and depth-first [40 Points]\n",
    "\n",
    "Implement these search strategies. Follow the pseudocode in the textbook/slides. You can use the tree structure shown above to extract the final path from your solution.\n",
    "\n",
    "__Notes:__\n",
    "* You can find maze solving implementations online that use the map to store information. While this is an effective idea for this two-dimensional navigation problem, it typically cannot be used for other search problems. Therefore, follow the textbook and only store information in the tree created during search, and use the `reached` and `frontier` data structures.\n",
    "* DFS can be implemented using the BFS tree search algorithm and simply changing the order in which the frontier is expanded (this is equivalent to best-first search with path length as the criterion to expand the next node). However, to take advantage of the significantly smaller memory footprint of DFS, you need to implement DFS in a different way without a `reached` data structure and by releasing the memory for nodes that are not needed anymore.\n",
    "* If DFS does not use a `reached` data structure, then its cycle checking abilities are limited. Remember, that DFS is incomplete if cycles cannot be prevented. You will see in your experiments that open spaces are a problem."
   ]
  },
  {
   "cell_type": "markdown",
   "metadata": {
    "id": "69oQe0UByqTx"
   },
   "source": [
    "How does BFS and DFS deal with loops (cycles)?"
   ]
  },
  {
   "cell_type": "code",
   "execution_count": null,
   "metadata": {},
   "outputs": [],
   "source": []
  },
  {
   "cell_type": "code",
   "execution_count": 22,
   "metadata": {
    "id": "YyjDZGuuyqTx"
   },
   "outputs": [],
   "source": [
    "# Discussion"
   ]
  },
  {
   "cell_type": "markdown",
   "metadata": {
    "id": "x4dtf7i7yqTx"
   },
   "source": [
    "Are your implementations complete and optimal? Explain why. What is the time and space complexity of each of **your** implementations?"
   ]
  },
  {
   "cell_type": "code",
   "execution_count": 23,
   "metadata": {
    "id": "O_IWPUSqyqTx"
   },
   "outputs": [],
   "source": [
    "# Discussion"
   ]
  },
  {
   "cell_type": "markdown",
   "metadata": {
    "id": "1ASjahCxyqTx"
   },
   "source": [
    "## Task 3: Informed search: Implement greedy best-first search and A* search  [20 Points]\n",
    "\n",
    "You can use the map to estimate the distance from your current position to the goal using the Manhattan distance (see https://en.wikipedia.org/wiki/Taxicab_geometry) as a heuristic function. Both algorithms are based on Best-First search which requires only a small change from the BFS algorithm you have already implemented (see textbook/slides)."
   ]
  },
  {
   "cell_type": "code",
   "execution_count": null,
   "metadata": {
    "id": "DLXpnC6vyqTx"
   },
   "outputs": [],
   "source": [
    "# Your code goes here"
   ]
  },
  {
   "cell_type": "markdown",
   "metadata": {
    "id": "-3umD-OKyqTy"
   },
   "source": [
    "Are your implementations complete and optimal? What is the time and space complexity?"
   ]
  },
  {
   "cell_type": "code",
   "execution_count": null,
   "metadata": {
    "id": "4GBCeCtbyqTy"
   },
   "outputs": [],
   "source": [
    "# Discussion"
   ]
  },
  {
   "cell_type": "markdown",
   "metadata": {
    "id": "tCT-Ms86yqTy"
   },
   "source": [
    "## Task 4: Comparison and discussion [20 Points]\n",
    "\n",
    "Run experiments to compare the implemented algorithms.\n",
    "\n",
    "How to deal with issues:\n",
    "\n",
    "* Your implementation returns unexpected results: Try to debug and fix the code. Visualizing the maze, the current path and the frontier after every step is very helpful. If the code still does not work, then mark the result with an asterisk (*) and describe the issue below the table.\n",
    "\n",
    "* Your implementation cannot consistently solve a specific maze and ends up in an infinite loop:\n",
    "    Debug. If it is a shortcoming of the algorithm/implementation, then put \"N/A*\" in the results table and describe why this is happening."
   ]
  },
  {
   "cell_type": "code",
   "execution_count": null,
   "metadata": {
    "id": "9MF4fT2xyqTy"
   },
   "outputs": [],
   "source": [
    "# Add code"
   ]
  },
  {
   "cell_type": "markdown",
   "metadata": {
    "id": "ayBZs63ZyqTy"
   },
   "source": [
    "Complete the following table for each maze.\n",
    "\n",
    "__Small maze__\n",
    "\n",
    "| algorithm | path cost | # of nodes expanded | max tree depth | max # of nodes in memory | max frontier size |\n",
    "|-----------|-----------|----------------|----------------|---------------|-------------------|\n",
    "| BFS       |           |                |                |               |                   |\n",
    "| DFS       |           |                |                |               |                   |\n",
    "| GBS       |           |                |                |               |                   |\n",
    "| A*        |           |                |                |               |                   |\n",
    "\n",
    "__Medium Maze__\n",
    "\n",
    "..."
   ]
  },
  {
   "cell_type": "markdown",
   "metadata": {
    "id": "EaE1X8CiyqTy"
   },
   "source": [
    "Present the results as using charts (see [Python Code Examples/charts and tables](../HOWTOs/charts_and_tables.ipynb))."
   ]
  },
  {
   "cell_type": "code",
   "execution_count": null,
   "metadata": {
    "id": "Ow5J_4FKyqT2"
   },
   "outputs": [],
   "source": [
    "# Add charts"
   ]
  },
  {
   "cell_type": "markdown",
   "metadata": {
    "id": "dxLjIqCPyqT2"
   },
   "source": [
    "Discuss the most important lessons you have learned from implementing the different search strategies."
   ]
  },
  {
   "cell_type": "markdown",
   "metadata": {
    "id": "KYNjPu4iy_v6"
   },
   "source": []
  },
  {
   "cell_type": "code",
   "execution_count": null,
   "metadata": {
    "id": "n_UU9wW-yqT2"
   },
   "outputs": [],
   "source": [
    "# Add discussion"
   ]
  },
  {
   "cell_type": "markdown",
   "metadata": {
    "id": "fxLwRFFwy-bS"
   },
   "source": [
    "---\n",
    "Assignment adapted from [Michael Hahsler](https://github.com/mhahsler/CS7320-AI) under [CC BY-SA](https://creativecommons.org/licenses/by-sa/4.0/deed.en) license."
   ]
  }
 ],
 "metadata": {
  "colab": {
   "provenance": []
  },
  "kernelspec": {
   "display_name": "Python 3 (ipykernel)",
   "language": "python",
   "name": "python3"
  },
  "language_info": {
   "codemirror_mode": {
    "name": "ipython",
    "version": 3
   },
   "file_extension": ".py",
   "mimetype": "text/x-python",
   "name": "python",
   "nbconvert_exporter": "python",
   "pygments_lexer": "ipython3",
   "version": "3.11.5"
  }
 },
 "nbformat": 4,
 "nbformat_minor": 1
}
