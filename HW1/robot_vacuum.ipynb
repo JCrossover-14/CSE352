{
 "cells": [
  {
   "cell_type": "markdown",
   "metadata": {
    "id": "0FyddoM3jF_d"
   },
   "source": [
    "# SBU CSE 352 - HW 1 -  Intelligent Agents: Reflex-Based Agents for the Vacuum-cleaner World\n",
    "\n",
    "---\n",
    "\n",
    "All student names in group: Jerry Xiao   Dylan Lai[Add your name]\n",
    "\n",
    "I understand that my submission needs to be my own group's work: JX DL\n",
    "\n",
    "\n",
    "\n",
    "\n",
    "\n",
    "\n",
    "\n",
    "\n",
    "[all group member's initials]\n",
    "\n",
    "I understand that ChatGPT / Copilot / other AI tools are not allowed: DL[all group member's initials]\n",
    "\n",
    "## Instructions\n",
    "\n",
    "Total Points: 100\n",
    "\n",
    "Complete this notebook. Use the provided notebook cells and insert additional code and markdown cells as needed. Only use standard packages (numpy, scipy, and built-in packages like random). Submit the completely rendered notebook as a HTML file.\n",
    "\n",
    "## Introduction\n",
    "\n",
    "In this assignment you will implement a simulator environment for an automatic vacuum cleaner robot, a set of different reflex-based agent programs, and perform a comparison study for cleaning a single room. Focus on the __cleaning phase__ which starts when the robot is activated and ends when the last dirty square in the room has been cleaned. Someone else will take care of the agent program needed to navigate back to the charging station after the room is clean.\n",
    "\n",
    "## PEAS description of the cleaning phase\n",
    "\n",
    "__Performance Measure:__ Each action costs 1 energy unit. The performance is measured as the sum of the energy units used to clean the whole room.\n",
    "\n",
    "__Environment:__ A room with $n \\times n$ squares where $n = 5$. Dirt is randomly placed on each square with probability $p = 0.2$. For simplicity, you can assume that the agent knows the size and the layout of the room (i.e., it knows $n$). To start, the agent is placed on a random square.\n",
    "\n",
    "__Actuators:__ The agent can clean the current square (action `suck`) or move to an adjacent square by going `north`, `east`, `south`, or `west`.\n",
    "\n",
    "__Sensors:__ Four bumper sensors, one for north, east, south, and west; a dirt sensor reporting dirt in the current square.  \n",
    "\n",
    "\n",
    "## The agent program for a simple randomized agent\n",
    "\n",
    "The agent program is a function that gets sensor information (the current percepts) as the arguments. The arguments are:\n",
    "\n",
    "* A dictionary with boolean entries for the for bumper sensors `north`, `east`, `west`, `south`. E.g., if the agent is on the north-west corner, `bumpers` will be `{\"north\" : True, \"east\" : False, \"south\" : False, \"west\" : True}`.\n",
    "* The dirt sensor produces a boolean.\n",
    "\n",
    "The agent returns the chosen action as a string.\n",
    "\n",
    "Here is an example implementation for the agent program of a simple randomized agent:  "
   ]
  },
  {
   "cell_type": "code",
   "execution_count": 156,
   "metadata": {
    "id": "2fDxkbCajF_f"
   },
   "outputs": [],
   "source": [
    "import numpy as np\n",
    "import random\n",
    "\n",
    "actions = [\"north\", \"east\", \"west\", \"south\", \"suck\"]\n",
    "environment = []\n",
    "def simple_randomized_agent(bumpers, dirty):\n",
    "    return np.random.choice(actions)"
   ]
  },
  {
   "cell_type": "code",
   "execution_count": 157,
   "metadata": {
    "id": "QrLrE1XPjF_g",
    "outputId": "9db12e5d-760c-44ce-e620-6be9b8877f20"
   },
   "outputs": [
    {
     "data": {
      "text/plain": [
       "'south'"
      ]
     },
     "execution_count": 157,
     "metadata": {},
     "output_type": "execute_result"
    }
   ],
   "source": [
    "# define percepts (current location is NW corner and it is dirty)\n",
    "bumpers = {\"north\" : True, \"east\" : False, \"south\" : False, \"west\" : True}\n",
    "dirty = True\n",
    "\n",
    "# call agent program function with percepts and it returns an action\n",
    "simple_randomized_agent(bumpers, dirty)"
   ]
  },
  {
   "cell_type": "markdown",
   "metadata": {
    "id": "GB5AWgpmjF_g"
   },
   "source": [
    "__Note:__ This is not a rational intelligent agent. It ignores its sensors and may bump into a wall repeatedly or not clean a dirty square. You will be asked to implement rational agents below."
   ]
  },
  {
   "cell_type": "markdown",
   "metadata": {
    "id": "I_r7AxrIjF_g"
   },
   "source": [
    "## Simple environment example\n",
    "\n",
    "We implement a simple simulation environment that supplies the agent with its percepts.\n",
    "The simple environment is infinite in size (bumpers are always `False`) and every square is always dirty, even if the agent cleans it. The environment function returns a performance measure which is here the number of cleaned squares (since the room is infinite and all squares are constantly dirty, the agent can never clean the whole room as required in the PEAS description above). The energy budget of the agent is specified as `max_steps`."
   ]
  },
  {
   "cell_type": "code",
   "execution_count": 158,
   "metadata": {
    "id": "OdiZBgUqjF_h"
   },
   "outputs": [],
   "source": [
    "def simple_environment(agent, max_steps, verbose = True):\n",
    "    num_cleaned = 0\n",
    "\n",
    "    for i in range(max_steps):\n",
    "        dirty = True\n",
    "        bumpers = {\"north\" : False, \"south\" : False, \"west\" : False, \"east\" : False}\n",
    "\n",
    "        action = agent(bumpers, dirty)\n",
    "        if (verbose): print(\"step\", i , \"- action:\", action)\n",
    "\n",
    "        if (action == \"suck\"):\n",
    "            num_cleaned = num_cleaned + 1\n",
    "\n",
    "    return num_cleaned\n",
    "\n"
   ]
  },
  {
   "cell_type": "markdown",
   "metadata": {
    "id": "Tdt7xvQkjF_h"
   },
   "source": [
    "Do one simulation run with a simple randomized agent that has enough energy for 20 steps."
   ]
  },
  {
   "cell_type": "code",
   "execution_count": 159,
   "metadata": {
    "id": "YBwp8uTEjF_h",
    "outputId": "f037190c-c7aa-4ff9-a0ed-cc5278e359ec"
   },
   "outputs": [
    {
     "name": "stdout",
     "output_type": "stream",
     "text": [
      "step 0 - action: east\n",
      "step 1 - action: south\n",
      "step 2 - action: east\n",
      "step 3 - action: west\n",
      "step 4 - action: east\n",
      "step 5 - action: west\n",
      "step 6 - action: north\n",
      "step 7 - action: west\n",
      "step 8 - action: north\n",
      "step 9 - action: suck\n",
      "step 10 - action: south\n",
      "step 11 - action: east\n",
      "step 12 - action: south\n",
      "step 13 - action: east\n",
      "step 14 - action: north\n",
      "step 15 - action: north\n",
      "step 16 - action: south\n",
      "step 17 - action: south\n",
      "step 18 - action: west\n",
      "step 19 - action: north\n"
     ]
    },
    {
     "data": {
      "text/plain": [
       "1"
      ]
     },
     "execution_count": 159,
     "metadata": {},
     "output_type": "execute_result"
    }
   ],
   "source": [
    "simple_environment(simple_randomized_agent, max_steps = 20)"
   ]
  },
  {
   "cell_type": "markdown",
   "metadata": {
    "id": "G_qQj5brjF_i"
   },
   "source": [
    "# Tasks\n",
    "\n",
    "## General [10 Points]\n",
    "\n",
    "1. Make sure that you use the latest version of this notebook. Sync your forked repository and pull the latest revision.\n",
    "2. Your implementation can use libraries like math, numpy, scipy, but not libraries that implement intelligent agents or complete search algorithms. Try to keep the code simple! In this course, we want to learn about the algorithms and we often do not need to use object-oriented design.\n",
    "3. You notebook needs to be formatted professionally.\n",
    "    - Add additional markdown blocks for your description, comments in the code, add tables and use mathplotlib to produce charts where appropriate\n",
    "    - Do not show debugging output or include an excessive amount of output.\n",
    "    - Check that your PDF file is readable. For example, long lines are cut off in the PDF file. You don't have control over page breaks, so do not worry about these.\n",
    "4. Document your code. Add a short discussion of how your implementation works and your design choices.\n",
    "\n",
    "\n",
    "## Task 1: Implement a simulation environment [20 Points]\n",
    "\n",
    "The simple environment above is not very realistic. Your environment simulator needs to follow the PEAS description from above. It needs to:\n",
    "\n",
    "* Initialize the environment by storing the state of each square (clean/dirty) and making some dirty. ([Help with random numbers and arrays in Python](https://github.com/mhahsler/CS7320-AI/blob/master/HOWTOs/random_numbers_and_arrays.ipynb))\n",
    "* Keep track of the agent's position.\n",
    "* Call the agent function repeatedly and provide the agent function with the sensor inputs.  \n",
    "* React to the agent's actions. E.g, by removing dirt from a square or moving the agent around unless there is a wall in the way.\n",
    "* Keep track of the performance measure. That is, track the agent's actions until all dirty squares are clean and count the number of actions it takes the agent to complete the task.\n",
    "\n",
    "The easiest implementation for the environment is to hold an 2-dimensional array to represent if squares are clean or dirty and to call the agent function in a loop until all squares are clean or a predefined number of steps have been reached (i.e., the robot runs out of energy).\n",
    "\n",
    "The simulation environment should be a function like the `simple_environment()` and needs to work with the simple randomized agent program from above. **Use the same environment for all your agent implementations in the tasks below.**\n",
    "\n",
    "*Note on debugging:* Debugging is difficult. Make sure your environment prints enough information when you use `verbose = True`. Also, implementing a function that the environment can use to displays the room with dirt and the current position of the robot at every step is very useful.  "
   ]
  },
  {
   "cell_type": "code",
   "execution_count": 246,
   "metadata": {
    "id": "f_a8GJKYjF_i"
   },
   "outputs": [
    {
     "name": "stdout",
     "output_type": "stream",
     "text": [
      "step 1 - action: north\n",
      "current location row: 0 , column: 4\n",
      "['Clean', 'Clean', 'Clean', 'Clean', 'Clean']\n",
      "['Clean', 'Clean', 'Clean', 'Clean', 'Clean']\n",
      "['Clean', 'Clean', 'Clean', 'Clean', 'Clean']\n",
      "['Clean', 'Clean', 'Clean', 'Clean', 'Clean']\n",
      "['Clean', 'Clean', 'Clean', 'Clean', 'Clean']\n",
      "All Cleaned\n",
      "Dirty spots:  0\n"
     ]
    }
   ],
   "source": [
    "# Your code and description goes here\n",
    "\n",
    "def print_environment(environment):\n",
    "    for row in environment:\n",
    "        print(row)\n",
    "\n",
    "def check_clean(environment,action,step,x,y,n,verbose):\n",
    "    for i in range(n):\n",
    "        for j in range(n):\n",
    "            if environment[i][j]!=\"Clean\":\n",
    "                if verbose:\n",
    "                    print(\"step\", step+1 , \"- action:\", action)\n",
    "                    print(\"current location row:\",x,\", column:\",y)\n",
    "                    print_environment(environment)\n",
    "                return False\n",
    "    return True\n",
    "def check_dirty(environment,n):\n",
    "    numDirty = 0\n",
    "    for i in range(n):\n",
    "        for j in range(n):\n",
    "            if environment[i][j]==\"Dirty\":\n",
    "                numDirty += 1\n",
    "    return numDirty\n",
    "def make_environment(n):\n",
    "    environment = [[\".\"]*n for _ in range(n)]\n",
    "    for i in range(n):\n",
    "        for j in range(n):\n",
    "            rand = random.random()\n",
    "            if rand<0.2:\n",
    "                environment[i][j]=\"Dirty\"\n",
    "            else:\n",
    "                environment[i][j]=\"Clean\"\n",
    "    x = random.randint(0,n-1)\n",
    "    y = random.randint(0,n-1)\n",
    "    return (environment,x,y)\n",
    "def simulation_environment(agent, environment, max_steps, x, y, n, verbose = True):\n",
    "    for i in range(max_steps):\n",
    "        if x==0:\n",
    "            bumpers[\"north\"]=True\n",
    "        else:\n",
    "            bumpers[\"north\"]=False\n",
    "        if x>=n-1:\n",
    "            bumpers[\"south\"]=True\n",
    "        else:\n",
    "            bumpers[\"south\"]=False\n",
    "        if y==0:\n",
    "            bumpers[\"west\"]=True\n",
    "        else:\n",
    "            bumpers[\"west\"]=False\n",
    "        if y==n-1:\n",
    "            bumpers[\"east\"]=True\n",
    "        else:\n",
    "            bumpers[\"east\"]=False\n",
    "        if environment[x][y]==\"Dirty\":\n",
    "            dirty = True\n",
    "        elif environment[x][y]==\"Clean\":\n",
    "            dirty = False\n",
    "        action = str(agent(bumpers,dirty))\n",
    "        if action==\"north\":\n",
    "            if bumpers[\"north\"]!=True:\n",
    "                x-=1\n",
    "        elif action==\"south\":\n",
    "            if bumpers[\"south\"]!=True:\n",
    "                x+=1\n",
    "        elif action==\"west\":\n",
    "            if bumpers[\"west\"]!=True:\n",
    "                y-=1\n",
    "        elif action==\"east\":\n",
    "            if bumpers[\"east\"]!=True:\n",
    "                y+=1\n",
    "        else:\n",
    "            environment[x][y]=\"Clean\"\n",
    "        is_clean = check_clean(environment,action,i,x,y,n, verbose)\n",
    "        if is_clean:\n",
    "            print(\"step\", i+1 , \"- action:\", action)\n",
    "            print(\"current location row:\",x,\", column:\",y)\n",
    "            if verbose:\n",
    "                print_environment(environment)\n",
    "            print(\"All Cleaned\")\n",
    "            return 0\n",
    "    return check_dirty(environment,n)\n",
    "                    \n",
    "(environment,x,y) = make_environment(5)\n",
    "numDirty = simulation_environment(simple_randomized_agent,environment,20,x,y,5)\n",
    "print(\"Dirty spots: \", numDirty)"
   ]
  },
  {
   "cell_type": "markdown",
   "metadata": {
    "id": "gXsl-EjMjF_j"
   },
   "source": [
    "## Task 2:  Implement a simple reflex agent [10 Points]\n",
    "\n",
    "The simple reflex agent randomly walks around but reacts to the bumper sensor by not bumping into the wall and to dirt with sucking. Implement the agent program as a function.\n",
    "\n",
    "_Note:_ Agents cannot directly use variable in the environment. They only gets the percepts as the arguments to the agent function."
   ]
  },
  {
   "cell_type": "code",
   "execution_count": 53,
   "metadata": {
    "id": "Q0ddGaBNjF_j"
   },
   "outputs": [
    {
     "name": "stdout",
     "output_type": "stream",
     "text": [
      "step 1 - action: south\n",
      "current location  2   3\n",
      "['Clean', 'Clean', 'Clean', 'Clean', 'Clean']\n",
      "['Clean', 'Clean', 'Clean', 'Clean', 'Clean']\n",
      "['Dirty', 'Clean', 'Clean', 'Clean', 'Clean']\n",
      "['Clean', 'Clean', 'Clean', 'Clean', 'Clean']\n",
      "['Clean', 'Clean', 'Clean', 'Clean', 'Clean']\n",
      "step 2 - action: north\n",
      "current location  1   3\n",
      "['Clean', 'Clean', 'Clean', 'Clean', 'Clean']\n",
      "['Clean', 'Clean', 'Clean', 'Clean', 'Clean']\n",
      "['Dirty', 'Clean', 'Clean', 'Clean', 'Clean']\n",
      "['Clean', 'Clean', 'Clean', 'Clean', 'Clean']\n",
      "['Clean', 'Clean', 'Clean', 'Clean', 'Clean']\n",
      "step 3 - action: south\n",
      "current location  2   3\n",
      "['Clean', 'Clean', 'Clean', 'Clean', 'Clean']\n",
      "['Clean', 'Clean', 'Clean', 'Clean', 'Clean']\n",
      "['Dirty', 'Clean', 'Clean', 'Clean', 'Clean']\n",
      "['Clean', 'Clean', 'Clean', 'Clean', 'Clean']\n",
      "['Clean', 'Clean', 'Clean', 'Clean', 'Clean']\n",
      "step 4 - action: east\n",
      "current location  2   4\n",
      "['Clean', 'Clean', 'Clean', 'Clean', 'Clean']\n",
      "['Clean', 'Clean', 'Clean', 'Clean', 'Clean']\n",
      "['Dirty', 'Clean', 'Clean', 'Clean', 'Clean']\n",
      "['Clean', 'Clean', 'Clean', 'Clean', 'Clean']\n",
      "['Clean', 'Clean', 'Clean', 'Clean', 'Clean']\n",
      "step 5 - action: west\n",
      "current location  2   3\n",
      "['Clean', 'Clean', 'Clean', 'Clean', 'Clean']\n",
      "['Clean', 'Clean', 'Clean', 'Clean', 'Clean']\n",
      "['Dirty', 'Clean', 'Clean', 'Clean', 'Clean']\n",
      "['Clean', 'Clean', 'Clean', 'Clean', 'Clean']\n",
      "['Clean', 'Clean', 'Clean', 'Clean', 'Clean']\n",
      "step 6 - action: east\n",
      "current location  2   4\n",
      "['Clean', 'Clean', 'Clean', 'Clean', 'Clean']\n",
      "['Clean', 'Clean', 'Clean', 'Clean', 'Clean']\n",
      "['Dirty', 'Clean', 'Clean', 'Clean', 'Clean']\n",
      "['Clean', 'Clean', 'Clean', 'Clean', 'Clean']\n",
      "['Clean', 'Clean', 'Clean', 'Clean', 'Clean']\n",
      "step 7 - action: north\n",
      "current location  1   4\n",
      "['Clean', 'Clean', 'Clean', 'Clean', 'Clean']\n",
      "['Clean', 'Clean', 'Clean', 'Clean', 'Clean']\n",
      "['Dirty', 'Clean', 'Clean', 'Clean', 'Clean']\n",
      "['Clean', 'Clean', 'Clean', 'Clean', 'Clean']\n",
      "['Clean', 'Clean', 'Clean', 'Clean', 'Clean']\n",
      "step 8 - action: west\n",
      "current location  1   3\n",
      "['Clean', 'Clean', 'Clean', 'Clean', 'Clean']\n",
      "['Clean', 'Clean', 'Clean', 'Clean', 'Clean']\n",
      "['Dirty', 'Clean', 'Clean', 'Clean', 'Clean']\n",
      "['Clean', 'Clean', 'Clean', 'Clean', 'Clean']\n",
      "['Clean', 'Clean', 'Clean', 'Clean', 'Clean']\n",
      "step 9 - action: west\n",
      "current location  1   2\n",
      "['Clean', 'Clean', 'Clean', 'Clean', 'Clean']\n",
      "['Clean', 'Clean', 'Clean', 'Clean', 'Clean']\n",
      "['Dirty', 'Clean', 'Clean', 'Clean', 'Clean']\n",
      "['Clean', 'Clean', 'Clean', 'Clean', 'Clean']\n",
      "['Clean', 'Clean', 'Clean', 'Clean', 'Clean']\n",
      "step 10 - action: east\n",
      "current location  1   3\n",
      "['Clean', 'Clean', 'Clean', 'Clean', 'Clean']\n",
      "['Clean', 'Clean', 'Clean', 'Clean', 'Clean']\n",
      "['Dirty', 'Clean', 'Clean', 'Clean', 'Clean']\n",
      "['Clean', 'Clean', 'Clean', 'Clean', 'Clean']\n",
      "['Clean', 'Clean', 'Clean', 'Clean', 'Clean']\n",
      "step 11 - action: north\n",
      "current location  0   3\n",
      "['Clean', 'Clean', 'Clean', 'Clean', 'Clean']\n",
      "['Clean', 'Clean', 'Clean', 'Clean', 'Clean']\n",
      "['Dirty', 'Clean', 'Clean', 'Clean', 'Clean']\n",
      "['Clean', 'Clean', 'Clean', 'Clean', 'Clean']\n",
      "['Clean', 'Clean', 'Clean', 'Clean', 'Clean']\n",
      "step 12 - action: south\n",
      "current location  1   3\n",
      "['Clean', 'Clean', 'Clean', 'Clean', 'Clean']\n",
      "['Clean', 'Clean', 'Clean', 'Clean', 'Clean']\n",
      "['Dirty', 'Clean', 'Clean', 'Clean', 'Clean']\n",
      "['Clean', 'Clean', 'Clean', 'Clean', 'Clean']\n",
      "['Clean', 'Clean', 'Clean', 'Clean', 'Clean']\n",
      "step 13 - action: east\n",
      "current location  1   4\n",
      "['Clean', 'Clean', 'Clean', 'Clean', 'Clean']\n",
      "['Clean', 'Clean', 'Clean', 'Clean', 'Clean']\n",
      "['Dirty', 'Clean', 'Clean', 'Clean', 'Clean']\n",
      "['Clean', 'Clean', 'Clean', 'Clean', 'Clean']\n",
      "['Clean', 'Clean', 'Clean', 'Clean', 'Clean']\n",
      "step 14 - action: west\n",
      "current location  1   3\n",
      "['Clean', 'Clean', 'Clean', 'Clean', 'Clean']\n",
      "['Clean', 'Clean', 'Clean', 'Clean', 'Clean']\n",
      "['Dirty', 'Clean', 'Clean', 'Clean', 'Clean']\n",
      "['Clean', 'Clean', 'Clean', 'Clean', 'Clean']\n",
      "['Clean', 'Clean', 'Clean', 'Clean', 'Clean']\n",
      "step 15 - action: north\n",
      "current location  0   3\n",
      "['Clean', 'Clean', 'Clean', 'Clean', 'Clean']\n",
      "['Clean', 'Clean', 'Clean', 'Clean', 'Clean']\n",
      "['Dirty', 'Clean', 'Clean', 'Clean', 'Clean']\n",
      "['Clean', 'Clean', 'Clean', 'Clean', 'Clean']\n",
      "['Clean', 'Clean', 'Clean', 'Clean', 'Clean']\n",
      "step 16 - action: east\n",
      "current location  0   4\n",
      "['Clean', 'Clean', 'Clean', 'Clean', 'Clean']\n",
      "['Clean', 'Clean', 'Clean', 'Clean', 'Clean']\n",
      "['Dirty', 'Clean', 'Clean', 'Clean', 'Clean']\n",
      "['Clean', 'Clean', 'Clean', 'Clean', 'Clean']\n",
      "['Clean', 'Clean', 'Clean', 'Clean', 'Clean']\n",
      "step 17 - action: west\n",
      "current location  0   3\n",
      "['Clean', 'Clean', 'Clean', 'Clean', 'Clean']\n",
      "['Clean', 'Clean', 'Clean', 'Clean', 'Clean']\n",
      "['Dirty', 'Clean', 'Clean', 'Clean', 'Clean']\n",
      "['Clean', 'Clean', 'Clean', 'Clean', 'Clean']\n",
      "['Clean', 'Clean', 'Clean', 'Clean', 'Clean']\n",
      "step 18 - action: south\n",
      "current location  1   3\n",
      "['Clean', 'Clean', 'Clean', 'Clean', 'Clean']\n",
      "['Clean', 'Clean', 'Clean', 'Clean', 'Clean']\n",
      "['Dirty', 'Clean', 'Clean', 'Clean', 'Clean']\n",
      "['Clean', 'Clean', 'Clean', 'Clean', 'Clean']\n",
      "['Clean', 'Clean', 'Clean', 'Clean', 'Clean']\n",
      "step 19 - action: south\n",
      "current location  2   3\n",
      "['Clean', 'Clean', 'Clean', 'Clean', 'Clean']\n",
      "['Clean', 'Clean', 'Clean', 'Clean', 'Clean']\n",
      "['Dirty', 'Clean', 'Clean', 'Clean', 'Clean']\n",
      "['Clean', 'Clean', 'Clean', 'Clean', 'Clean']\n",
      "['Clean', 'Clean', 'Clean', 'Clean', 'Clean']\n",
      "step 20 - action: east\n",
      "current location  2   4\n",
      "['Clean', 'Clean', 'Clean', 'Clean', 'Clean']\n",
      "['Clean', 'Clean', 'Clean', 'Clean', 'Clean']\n",
      "['Dirty', 'Clean', 'Clean', 'Clean', 'Clean']\n",
      "['Clean', 'Clean', 'Clean', 'Clean', 'Clean']\n",
      "['Clean', 'Clean', 'Clean', 'Clean', 'Clean']\n"
     ]
    }
   ],
   "source": [
    "# Your code and description goes here\n",
    "\n",
    "def reflex_agent(bumpers,dirty):\n",
    "    if dirty:\n",
    "        return \"suck\"\n",
    "    valid_actions =[]\n",
    "    if not bumpers[\"west\"]:\n",
    "        valid_actions.append(\"west\")\n",
    "    if not bumpers[\"east\"]:\n",
    "        valid_actions.append(\"east\")\n",
    "    if not bumpers[\"north\"]:\n",
    "        valid_actions.append(\"north\")\n",
    "    if not bumpers[\"south\"]:\n",
    "        valid_actions.append(\"south\")\n",
    "    return np.random.choice(valid_actions)\n",
    "\n",
    "(environment,x,y) = make_environment(5)\n",
    "simulation_environment(reflex_agent,environment,20,x,y,5)"
   ]
  },
  {
   "cell_type": "markdown",
   "metadata": {
    "id": "M1q8qmwvjF_j"
   },
   "source": [
    "## Task 3: Implement a model-based reflex agent [20 Points]\n",
    "\n",
    "Model-based agents use a state to keep track of what they have done and perceived so far. Your agent needs to find out where it is located and then keep track of its current location. You also need a set of rules based on the state and the percepts to make sure that the agent will clean the whole room. For example, the agent can move to a corner to determine its location and then it can navigate through the whole room and clean dirty squares.\n",
    "\n",
    "Describe how you define the __agent state__ and how your agent works before implementing it. ([Help with implementing state information on Python](https://github.com/mhahsler/CS7320-AI/blob/master/HOWTOs/store_agent_state_information.ipynb))"
   ]
  },
  {
   "cell_type": "code",
   "execution_count": 40,
   "metadata": {
    "id": "daAwOtmTjF_j"
   },
   "outputs": [],
   "source": [
    "# Your short description of the state and your implementation goes here\n",
    "# The agent state is described as its current location in the environment, and will have x and y variables to represent it.\n",
    "\n",
    "\n",
    "\n"
   ]
  },
  {
   "cell_type": "code",
   "execution_count": 181,
   "metadata": {
    "id": "wZqL8CCAjF_j",
    "scrolled": false
   },
   "outputs": [
    {
     "name": "stdout",
     "output_type": "stream",
     "text": [
      "step 1 - action: west\n",
      "current location row: 1 , column: 3\n",
      "['Clean', 'Clean', 'Clean', 'Clean', 'Clean']\n",
      "['Clean', 'Clean', 'Clean', 'Clean', 'Clean']\n",
      "['Clean', 'Clean', 'Clean', 'Clean', 'Clean']\n",
      "['Dirty', 'Clean', 'Clean', 'Clean', 'Clean']\n",
      "['Clean', 'Dirty', 'Clean', 'Clean', 'Clean']\n",
      "step 2 - action: west\n",
      "current location row: 1 , column: 2\n",
      "['Clean', 'Clean', 'Clean', 'Clean', 'Clean']\n",
      "['Clean', 'Clean', 'Clean', 'Clean', 'Clean']\n",
      "['Clean', 'Clean', 'Clean', 'Clean', 'Clean']\n",
      "['Dirty', 'Clean', 'Clean', 'Clean', 'Clean']\n",
      "['Clean', 'Dirty', 'Clean', 'Clean', 'Clean']\n",
      "step 3 - action: west\n",
      "current location row: 1 , column: 1\n",
      "['Clean', 'Clean', 'Clean', 'Clean', 'Clean']\n",
      "['Clean', 'Clean', 'Clean', 'Clean', 'Clean']\n",
      "['Clean', 'Clean', 'Clean', 'Clean', 'Clean']\n",
      "['Dirty', 'Clean', 'Clean', 'Clean', 'Clean']\n",
      "['Clean', 'Dirty', 'Clean', 'Clean', 'Clean']\n",
      "step 4 - action: west\n",
      "current location row: 1 , column: 0\n",
      "['Clean', 'Clean', 'Clean', 'Clean', 'Clean']\n",
      "['Clean', 'Clean', 'Clean', 'Clean', 'Clean']\n",
      "['Clean', 'Clean', 'Clean', 'Clean', 'Clean']\n",
      "['Dirty', 'Clean', 'Clean', 'Clean', 'Clean']\n",
      "['Clean', 'Dirty', 'Clean', 'Clean', 'Clean']\n",
      "step 5 - action: north\n",
      "current location row: 0 , column: 0\n",
      "['Clean', 'Clean', 'Clean', 'Clean', 'Clean']\n",
      "['Clean', 'Clean', 'Clean', 'Clean', 'Clean']\n",
      "['Clean', 'Clean', 'Clean', 'Clean', 'Clean']\n",
      "['Dirty', 'Clean', 'Clean', 'Clean', 'Clean']\n",
      "['Clean', 'Dirty', 'Clean', 'Clean', 'Clean']\n",
      "step 6 - action: east\n",
      "current location row: 0 , column: 1\n",
      "['Clean', 'Clean', 'Clean', 'Clean', 'Clean']\n",
      "['Clean', 'Clean', 'Clean', 'Clean', 'Clean']\n",
      "['Clean', 'Clean', 'Clean', 'Clean', 'Clean']\n",
      "['Dirty', 'Clean', 'Clean', 'Clean', 'Clean']\n",
      "['Clean', 'Dirty', 'Clean', 'Clean', 'Clean']\n",
      "step 7 - action: east\n",
      "current location row: 0 , column: 2\n",
      "['Clean', 'Clean', 'Clean', 'Clean', 'Clean']\n",
      "['Clean', 'Clean', 'Clean', 'Clean', 'Clean']\n",
      "['Clean', 'Clean', 'Clean', 'Clean', 'Clean']\n",
      "['Dirty', 'Clean', 'Clean', 'Clean', 'Clean']\n",
      "['Clean', 'Dirty', 'Clean', 'Clean', 'Clean']\n",
      "step 8 - action: east\n",
      "current location row: 0 , column: 3\n",
      "['Clean', 'Clean', 'Clean', 'Clean', 'Clean']\n",
      "['Clean', 'Clean', 'Clean', 'Clean', 'Clean']\n",
      "['Clean', 'Clean', 'Clean', 'Clean', 'Clean']\n",
      "['Dirty', 'Clean', 'Clean', 'Clean', 'Clean']\n",
      "['Clean', 'Dirty', 'Clean', 'Clean', 'Clean']\n",
      "step 9 - action: east\n",
      "current location row: 0 , column: 4\n",
      "['Clean', 'Clean', 'Clean', 'Clean', 'Clean']\n",
      "['Clean', 'Clean', 'Clean', 'Clean', 'Clean']\n",
      "['Clean', 'Clean', 'Clean', 'Clean', 'Clean']\n",
      "['Dirty', 'Clean', 'Clean', 'Clean', 'Clean']\n",
      "['Clean', 'Dirty', 'Clean', 'Clean', 'Clean']\n",
      "step 10 - action: south\n",
      "current location row: 1 , column: 4\n",
      "['Clean', 'Clean', 'Clean', 'Clean', 'Clean']\n",
      "['Clean', 'Clean', 'Clean', 'Clean', 'Clean']\n",
      "['Clean', 'Clean', 'Clean', 'Clean', 'Clean']\n",
      "['Dirty', 'Clean', 'Clean', 'Clean', 'Clean']\n",
      "['Clean', 'Dirty', 'Clean', 'Clean', 'Clean']\n",
      "step 11 - action: south\n",
      "current location row: 2 , column: 4\n",
      "['Clean', 'Clean', 'Clean', 'Clean', 'Clean']\n",
      "['Clean', 'Clean', 'Clean', 'Clean', 'Clean']\n",
      "['Clean', 'Clean', 'Clean', 'Clean', 'Clean']\n",
      "['Dirty', 'Clean', 'Clean', 'Clean', 'Clean']\n",
      "['Clean', 'Dirty', 'Clean', 'Clean', 'Clean']\n",
      "step 12 - action: south\n",
      "current location row: 3 , column: 4\n",
      "['Clean', 'Clean', 'Clean', 'Clean', 'Clean']\n",
      "['Clean', 'Clean', 'Clean', 'Clean', 'Clean']\n",
      "['Clean', 'Clean', 'Clean', 'Clean', 'Clean']\n",
      "['Dirty', 'Clean', 'Clean', 'Clean', 'Clean']\n",
      "['Clean', 'Dirty', 'Clean', 'Clean', 'Clean']\n",
      "step 13 - action: south\n",
      "current location row: 4 , column: 4\n",
      "['Clean', 'Clean', 'Clean', 'Clean', 'Clean']\n",
      "['Clean', 'Clean', 'Clean', 'Clean', 'Clean']\n",
      "['Clean', 'Clean', 'Clean', 'Clean', 'Clean']\n",
      "['Dirty', 'Clean', 'Clean', 'Clean', 'Clean']\n",
      "['Clean', 'Dirty', 'Clean', 'Clean', 'Clean']\n",
      "step 14 - action: west\n",
      "current location row: 4 , column: 3\n",
      "['Clean', 'Clean', 'Clean', 'Clean', 'Clean']\n",
      "['Clean', 'Clean', 'Clean', 'Clean', 'Clean']\n",
      "['Clean', 'Clean', 'Clean', 'Clean', 'Clean']\n",
      "['Dirty', 'Clean', 'Clean', 'Clean', 'Clean']\n",
      "['Clean', 'Dirty', 'Clean', 'Clean', 'Clean']\n",
      "step 15 - action: west\n",
      "current location row: 4 , column: 2\n",
      "['Clean', 'Clean', 'Clean', 'Clean', 'Clean']\n",
      "['Clean', 'Clean', 'Clean', 'Clean', 'Clean']\n",
      "['Clean', 'Clean', 'Clean', 'Clean', 'Clean']\n",
      "['Dirty', 'Clean', 'Clean', 'Clean', 'Clean']\n",
      "['Clean', 'Dirty', 'Clean', 'Clean', 'Clean']\n",
      "step 16 - action: west\n",
      "current location row: 4 , column: 1\n",
      "['Clean', 'Clean', 'Clean', 'Clean', 'Clean']\n",
      "['Clean', 'Clean', 'Clean', 'Clean', 'Clean']\n",
      "['Clean', 'Clean', 'Clean', 'Clean', 'Clean']\n",
      "['Dirty', 'Clean', 'Clean', 'Clean', 'Clean']\n",
      "['Clean', 'Dirty', 'Clean', 'Clean', 'Clean']\n",
      "step 17 - action: suck\n",
      "current location row: 4 , column: 1\n",
      "['Clean', 'Clean', 'Clean', 'Clean', 'Clean']\n",
      "['Clean', 'Clean', 'Clean', 'Clean', 'Clean']\n",
      "['Clean', 'Clean', 'Clean', 'Clean', 'Clean']\n",
      "['Dirty', 'Clean', 'Clean', 'Clean', 'Clean']\n",
      "['Clean', 'Clean', 'Clean', 'Clean', 'Clean']\n",
      "step 18 - action: west\n",
      "current location row: 4 , column: 0\n",
      "['Clean', 'Clean', 'Clean', 'Clean', 'Clean']\n",
      "['Clean', 'Clean', 'Clean', 'Clean', 'Clean']\n",
      "['Clean', 'Clean', 'Clean', 'Clean', 'Clean']\n",
      "['Dirty', 'Clean', 'Clean', 'Clean', 'Clean']\n",
      "['Clean', 'Clean', 'Clean', 'Clean', 'Clean']\n",
      "step 19 - action: north\n",
      "current location row: 3 , column: 0\n",
      "['Clean', 'Clean', 'Clean', 'Clean', 'Clean']\n",
      "['Clean', 'Clean', 'Clean', 'Clean', 'Clean']\n",
      "['Clean', 'Clean', 'Clean', 'Clean', 'Clean']\n",
      "['Dirty', 'Clean', 'Clean', 'Clean', 'Clean']\n",
      "['Clean', 'Clean', 'Clean', 'Clean', 'Clean']\n",
      "step 20 - action: suck\n",
      "current location row: 3 , column: 0\n",
      "['Clean', 'Clean', 'Clean', 'Clean', 'Clean']\n",
      "['Clean', 'Clean', 'Clean', 'Clean', 'Clean']\n",
      "['Clean', 'Clean', 'Clean', 'Clean', 'Clean']\n",
      "['Clean', 'Clean', 'Clean', 'Clean', 'Clean']\n",
      "['Clean', 'Clean', 'Clean', 'Clean', 'Clean']\n",
      "All Cleaned\n"
     ]
    },
    {
     "data": {
      "text/plain": [
       "[['Clean', 'Clean', 'Clean', 'Clean', 'Clean'],\n",
       " ['Clean', 'Clean', 'Clean', 'Clean', 'Clean'],\n",
       " ['Clean', 'Clean', 'Clean', 'Clean', 'Clean'],\n",
       " ['Clean', 'Clean', 'Clean', 'Clean', 'Clean'],\n",
       " ['Clean', 'Clean', 'Clean', 'Clean', 'Clean']]"
      ]
     },
     "execution_count": 181,
     "metadata": {},
     "output_type": "execute_result"
    }
   ],
   "source": [
    "# Your code goes here\n",
    "class model_based_reflex_agent:\n",
    "    def __init__(self,x,y,n):\n",
    "        self.x = x\n",
    "        self.y=y\n",
    "        self.visited=[[False]*n for _ in range(n)]\n",
    "        self.prev = \"east\"\n",
    "    def action(self,bumpers,dirty):\n",
    "        if dirty: \n",
    "            return \"suck\"\n",
    "        if self.x == 0 and self.y == 0:\n",
    "            self.visited[0][0] = True\n",
    "            self.prev = \"north\"\n",
    "        if not self.visited[0][0]:\n",
    "            if not bumpers[\"west\"]:\n",
    "                coord = self.coords(self.x,self.y,\"west\")\n",
    "                self.x = coord[0]\n",
    "                self.y = coord[1]\n",
    "                return \"west\"\n",
    "            else :\n",
    "                coord = self.coords(self.x,self.y,\"north\")\n",
    "                self.x = coord[0]\n",
    "                self.y = coord[1]\n",
    "                return \"north\"\n",
    "        self.visited[self.x][self.y] = True\n",
    "        coord = self.coords(self.x,self.y,self.prev) #checking next\n",
    "        if bumpers[self.prev] or self.visited[coord[0]][coord[1]]:\n",
    "            if self.prev==\"east\":\n",
    "                self.prev=\"south\"\n",
    "            elif self.prev==\"south\":\n",
    "                self.prev=\"west\"\n",
    "            elif self.prev == \"west\":\n",
    "                self.prev=\"north\"\n",
    "            elif self.prev == \"north\":\n",
    "                self.prev=\"east\"\n",
    "        coord = self.coords(self.x,self.y,self.prev) #setting movement\n",
    "        self.x = coord[0]\n",
    "        self.y = coord[1]\n",
    "        return self.prev\n",
    "            \n",
    "    def coords (self,x,y,action):\n",
    "        if action==\"north\":\n",
    "            return [x-1,y]\n",
    "        elif action==\"south\":\n",
    "            return [x+1,y]\n",
    "        elif action==\"east\":\n",
    "            return [x,y+1]\n",
    "        elif action ==\"west\":\n",
    "            return [x,y-1]\n",
    "        \n",
    "        \n",
    "(environment,x,y) = make_environment(5)\n",
    "mbra = model_based_reflex_agent(x,y,5)\n",
    "simulation_environment(mbra.action,environment,50,x,y,5)"
   ]
  },
  {
   "cell_type": "markdown",
   "metadata": {
    "id": "Qi3JK-9hjF_k"
   },
   "source": [
    "## Task 4: Simulation study [30 Points]\n",
    "\n",
    "Compare the performance (the performance measure is defined in the PEAS description above) of the agents using  environments of different size. E.g., $5 \\times 5$, $10 \\times 10$ and\n",
    "$100 \\times 100$. Use 100 random runs for each. Present the results using tables and graphs. Discuss the differences between the agents.\n",
    "([Help with charts and tables in Python](https://github.com/mhahsler/CS7320-AI/blob/master/HOWTOs/charts_and_tables.ipynb))"
   ]
  },
  {
   "cell_type": "code",
   "execution_count": 287,
   "metadata": {
    "id": "ccpkRw9VjF_k",
    "scrolled": true
   },
   "outputs": [
    {
     "name": "stdout",
     "output_type": "stream",
     "text": [
      "randomized\n",
      "end result:  2\n",
      "\n",
      "reflex\n",
      "step 83 - action: suck\n",
      "current location row: 0 , column: 2\n",
      "All Cleaned\n",
      "end result:  0\n",
      "\n",
      "model based reflex\n",
      "step 17 - action: suck\n",
      "current location row: 4 , column: 4\n",
      "All Cleaned\n",
      "end result:  0\n"
     ]
    }
   ],
   "source": [
    "# Your code goes here\n",
    "from copy import deepcopy\n",
    "(environment,x,y) = make_environment(5)\n",
    "randenv = deepcopy(environment)\n",
    "refenv = deepcopy(environment)\n",
    "modenv = deepcopy(environment)\n",
    "print(\"randomized\")\n",
    "env = simulation_environment(simple_randomized_agent,randenv,100,x,y,5,verbose=False)\n",
    "print(\"end result: \", env)\n",
    "#(environment,x,y) = make_environment(5)\n",
    "print(\"\\nreflex\")\n",
    "env = simulation_environment(reflex_agent,refenv,100,x,y,5,verbose=False)\n",
    "print(\"end result: \", env)\n",
    "print(\"\\nmodel based reflex\")\n",
    "#(environment,x,y) = make_environment(5)\n",
    "mbra = model_based_reflex_agent(x,y,5)\n",
    "env = simulation_environment(mbra.action,modenv,100,x,y,5,verbose=False)\n",
    "print(\"end result: \", env)\n",
    "#print_environment(env)"
   ]
  },
  {
   "cell_type": "code",
   "execution_count": 288,
   "metadata": {
    "id": "ccpkRw9VjF_k"
   },
   "outputs": [
    {
     "name": "stdout",
     "output_type": "stream",
     "text": [
      "randomized\n",
      "end result:  16\n",
      "\n",
      "reflex\n",
      "end result:  10\n",
      "\n",
      "model based reflex\n",
      "end result:  5\n"
     ]
    }
   ],
   "source": [
    "# Your code goes here\n",
    "(environment,x,y) = make_environment(10)\n",
    "randenv = deepcopy(environment)\n",
    "refenv = deepcopy(environment)\n",
    "modenv = deepcopy(environment)\n",
    "print(\"randomized\")\n",
    "env = simulation_environment(simple_randomized_agent,randenv,100,x,y,10,verbose=False)\n",
    "print(\"end result: \", env)\n",
    "#(environment,x,y) = make_environment(10)\n",
    "print(\"\\nreflex\")\n",
    "env = simulation_environment(reflex_agent,refenv,100,x,y,10,verbose=False)\n",
    "print(\"end result: \", env)\n",
    "print(\"\\nmodel based reflex\")\n",
    "#(environment,x,y) = make_environment(10)\n",
    "mbra = model_based_reflex_agent(x,y,10)\n",
    "env = simulation_environment(mbra.action,modenv,100,x,y,10,verbose=False)\n",
    "print(\"end result: \", env)"
   ]
  },
  {
   "cell_type": "code",
   "execution_count": 283,
   "metadata": {
    "id": "ccpkRw9VjF_k",
    "scrolled": true
   },
   "outputs": [
    {
     "name": "stdout",
     "output_type": "stream",
     "text": [
      "randomized\n",
      "dirty spots:  2007\n",
      "\n",
      "reflex\n",
      "dirty spots:  2005\n",
      "\n",
      "model based reflex\n",
      "dirty spots:  1997\n"
     ]
    }
   ],
   "source": [
    "# Your code goes here\n",
    "(environment,x,y) = make_environment(100)\n",
    "randenv = deepcopy(environment)\n",
    "refenv = deepcopy(environment)\n",
    "modenv = deepcopy(environment)\n",
    "print(\"randomized\")\n",
    "env = simulation_environment(simple_randomized_agent,randenv,100,x,y,100,verbose=False)\n",
    "print(\"dirty spots: \", env)\n",
    "#(environment,x,y) = make_environment(100)\n",
    "print(\"\\nreflex\")\n",
    "env = simulation_environment(reflex_agent,refenv,100,x,y,100,verbose=False)\n",
    "print(\"dirty spots: \", env)\n",
    "print(\"\\nmodel based reflex\")\n",
    "#(environment,x,y) = make_environment(100)\n",
    "mbra = model_based_reflex_agent(x,y,100)\n",
    "env = simulation_environment(mbra.action,modenv,100,x,y,100,verbose=False)\n",
    "print(\"dirty spots: \", env)"
   ]
  },
  {
   "cell_type": "markdown",
   "metadata": {
    "id": "tlAtLmp6jF_k"
   },
   "source": [
    "Fill out the following table with the average performance measure for 100 random runs (you may also create this table with code):\n",
    "\n",
    "| Size     | Randomized Agent | Simple Reflex Agent | Model-based Reflex Agent |\n",
    "|----------|------------------|---------------------|--------------------------|\n",
    "| 5x5     |-102 |-83 | -17|\n",
    "| 10x10   |-116 |-110 | -105|\n",
    "| 100x100 |-2107 |-2105 |-2097 |\n",
    "\n",
    "Add charts to compare the performance of the different agents."
   ]
  },
  {
   "cell_type": "code",
   "execution_count": 292,
   "metadata": {
    "id": "J361sF6yjF_k"
   },
   "outputs": [
    {
     "data": {
      "image/png": "[encoded data removed]",
      "text/plain": [
       "<Figure size 640x480 with 1 Axes>"
      ]
     },
     "metadata": {},
     "output_type": "display_data"
    },
    {
     "data": {
      "image/png": "[encoded data removed]",
      "text/plain": [
       "<Figure size 640x480 with 1 Axes>"
      ]
     },
     "metadata": {},
     "output_type": "display_data"
    },
    {
     "data": {
      "image/png": "[encoded data removed]",
      "text/plain": [
       "<Figure size 640x480 with 1 Axes>"
      ]
     },
     "metadata": {},
     "output_type": "display_data"
    }
   ],
   "source": [
    "# Your graphs and discussion of the results goes here\n",
    "import matplotlib.pyplot as plt\n",
    "xpoints = np.array(['randomized', 'simple reflex', 'Model-based reflex'])\n",
    "ypoints = np.array([-102,-83,-17])\n",
    "plt.plot(xpoints, ypoints)\n",
    "plt.show()\n",
    "xpoints = np.array(['randomized', 'simple reflex', 'Model-based reflex'])\n",
    "ypoints = np.array([-116,-110,-105])\n",
    "plt.plot(xpoints, ypoints)\n",
    "plt.show()\n",
    "xpoints = np.array(['randomized', 'simple reflex', 'Model-based reflex'])\n",
    "ypoints = np.array([-2107,-2105,-2097])\n",
    "plt.plot(xpoints, ypoints)\n",
    "plt.show()"
   ]
  },
  {
   "cell_type": "markdown",
   "metadata": {
    "id": "LVOWQhVOjF_k"
   },
   "source": [
    "## Task 5: Robustness of the agent implementations [10 Points]\n",
    "\n",
    "Describe how **your agent implementations** will perform\n",
    "\n",
    "* if it is put into a rectangular room with unknown size,\n",
    "* if the cleaning area can have an irregular shape (e.g., a hallway connecting two rooms), or\n",
    "* if the room contains obstacles (i.e., squares that it cannot pass through and trigger the bumper sensors)."
   ]
  },
  {
   "cell_type": "code",
   "execution_count": 298,
   "metadata": {
    "id": "1d1TRkpcjF_l"
   },
   "outputs": [
    {
     "data": {
      "text/plain": [
       "'The model based reflex agent does not work properly if the room has an irregular shape, or obstacles.\\nIt works by assuming the shape of the area is a rectangle\\nThe simple reflex agent is not affected by the siz'"
      ]
     },
     "execution_count": 298,
     "metadata": {},
     "output_type": "execute_result"
    }
   ],
   "source": [
    "# Answer goes here\n",
    "'''The model based reflex agent does not work properly if the room has an irregular shape, or obstacles.\n",
    "It works by assuming the shape of the area is a rectangle and that the only things stopping the vacuum are the walls.\n",
    "If it hits an obstacle it may miss sections of the area, if the shape is irregular it will also miss sections of the area.\n",
    "The model does not require size to function properly.\n",
    "The simple reflex agent is not affected by the size, shape, or obstacle'''"
   ]
  },
  {
   "cell_type": "markdown",
   "metadata": {
    "id": "w9DyCkSckcFB"
   },
   "source": [
    "\n",
    "\n",
    "---\n",
    "Assignment adapted from [Michael Hahsler](https://github.com/mhahsler/CS7320-AI) under [CC BY-SA](https://creativecommons.org/licenses/by-sa/4.0/deed.en) license.\n"
   ]
  }
 ],
 "metadata": {
  "colab": {
   "provenance": []
  },
  "kernelspec": {
   "display_name": "Python 3 (ipykernel)",
   "language": "python",
   "name": "python3"
  },
  "language_info": {
   "codemirror_mode": {
    "name": "ipython",
    "version": 3
   },
   "file_extension": ".py",
   "mimetype": "text/x-python",
   "name": "python",
   "nbconvert_exporter": "python",
   "pygments_lexer": "ipython3",
   "version": "3.11.5"
  },
  "toc-autonumbering": false
 },
 "nbformat": 4,
 "nbformat_minor": 1
}
