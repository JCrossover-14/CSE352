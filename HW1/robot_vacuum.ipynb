{
 "cells": [
  {
   "cell_type": "markdown",
   "metadata": {
    "id": "0FyddoM3jF_d"
   },
   "source": [
    "# SBU CSE 352 - HW 1 -  Intelligent Agents: Reflex-Based Agents for the Vacuum-cleaner World\n",
    "\n",
    "---\n",
    "\n",
    "All student names in group: Jerry Xiao   Dylan Lai[Add your name]\n",
    "\n",
    "I understand that my submission needs to be my own group's work: JX DL\n",
    "\n",
    "\n",
    "\n",
    "\n",
    "\n",
    "\n",
    "\n",
    "\n",
    "[all group member's initials]\n",
    "\n",
    "I understand that ChatGPT / Copilot / other AI tools are not allowed: [all group member's initials]\n",
    "\n",
    "## Instructions\n",
    "\n",
    "Total Points: 100\n",
    "\n",
    "Complete this notebook. Use the provided notebook cells and insert additional code and markdown cells as needed. Only use standard packages (numpy, scipy, and built-in packages like random). Submit the completely rendered notebook as a HTML file.\n",
    "\n",
    "## Introduction\n",
    "\n",
    "In this assignment you will implement a simulator environment for an automatic vacuum cleaner robot, a set of different reflex-based agent programs, and perform a comparison study for cleaning a single room. Focus on the __cleaning phase__ which starts when the robot is activated and ends when the last dirty square in the room has been cleaned. Someone else will take care of the agent program needed to navigate back to the charging station after the room is clean.\n",
    "\n",
    "## PEAS description of the cleaning phase\n",
    "\n",
    "__Performance Measure:__ Each action costs 1 energy unit. The performance is measured as the sum of the energy units used to clean the whole room.\n",
    "\n",
    "__Environment:__ A room with $n \\times n$ squares where $n = 5$. Dirt is randomly placed on each square with probability $p = 0.2$. For simplicity, you can assume that the agent knows the size and the layout of the room (i.e., it knows $n$). To start, the agent is placed on a random square.\n",
    "\n",
    "__Actuators:__ The agent can clean the current square (action `suck`) or move to an adjacent square by going `north`, `east`, `south`, or `west`.\n",
    "\n",
    "__Sensors:__ Four bumper sensors, one for north, east, south, and west; a dirt sensor reporting dirt in the current square.  \n",
    "\n",
    "\n",
    "## The agent program for a simple randomized agent\n",
    "\n",
    "The agent program is a function that gets sensor information (the current percepts) as the arguments. The arguments are:\n",
    "\n",
    "* A dictionary with boolean entries for the for bumper sensors `north`, `east`, `west`, `south`. E.g., if the agent is on the north-west corner, `bumpers` will be `{\"north\" : True, \"east\" : False, \"south\" : False, \"west\" : True}`.\n",
    "* The dirt sensor produces a boolean.\n",
    "\n",
    "The agent returns the chosen action as a string.\n",
    "\n",
    "Here is an example implementation for the agent program of a simple randomized agent:  "
   ]
  },
  {
   "cell_type": "code",
   "execution_count": 2,
   "metadata": {
    "id": "2fDxkbCajF_f"
   },
   "outputs": [],
   "source": [
    "import numpy as np\n",
    "import random\n",
    "\n",
    "actions = [\"north\", \"east\", \"west\", \"south\", \"suck\"]\n",
    "environment = []\n",
    "def simple_randomized_agent(bumpers, dirty):\n",
    "    return np.random.choice(actions)"
   ]
  },
  {
   "cell_type": "code",
   "execution_count": 3,
   "metadata": {
    "id": "QrLrE1XPjF_g",
    "outputId": "9db12e5d-760c-44ce-e620-6be9b8877f20"
   },
   "outputs": [
    {
     "data": {
      "text/plain": [
       "'west'"
      ]
     },
     "execution_count": 3,
     "metadata": {},
     "output_type": "execute_result"
    }
   ],
   "source": [
    "# define percepts (current location is NW corner and it is dirty)\n",
    "bumpers = {\"north\" : True, \"east\" : False, \"south\" : False, \"west\" : True}\n",
    "dirty = True\n",
    "\n",
    "# call agent program function with percepts and it returns an action\n",
    "simple_randomized_agent(bumpers, dirty)"
   ]
  },
  {
   "cell_type": "markdown",
   "metadata": {
    "id": "GB5AWgpmjF_g"
   },
   "source": [
    "__Note:__ This is not a rational intelligent agent. It ignores its sensors and may bump into a wall repeatedly or not clean a dirty square. You will be asked to implement rational agents below."
   ]
  },
  {
   "cell_type": "markdown",
   "metadata": {
    "id": "I_r7AxrIjF_g"
   },
   "source": [
    "## Simple environment example\n",
    "\n",
    "We implement a simple simulation environment that supplies the agent with its percepts.\n",
    "The simple environment is infinite in size (bumpers are always `False`) and every square is always dirty, even if the agent cleans it. The environment function returns a performance measure which is here the number of cleaned squares (since the room is infinite and all squares are constantly dirty, the agent can never clean the whole room as required in the PEAS description above). The energy budget of the agent is specified as `max_steps`."
   ]
  },
  {
   "cell_type": "code",
   "execution_count": 4,
   "metadata": {
    "id": "OdiZBgUqjF_h"
   },
   "outputs": [],
   "source": [
    "def simple_environment(agent, max_steps, verbose = True):\n",
    "    num_cleaned = 0\n",
    "\n",
    "    for i in range(max_steps):\n",
    "        dirty = True\n",
    "        bumpers = {\"north\" : False, \"south\" : False, \"west\" : False, \"east\" : False}\n",
    "\n",
    "        action = agent(bumpers, dirty)\n",
    "        if (verbose): print(\"step\", i , \"- action:\", action)\n",
    "\n",
    "        if (action == \"suck\"):\n",
    "            num_cleaned = num_cleaned + 1\n",
    "\n",
    "    return num_cleaned\n",
    "\n"
   ]
  },
  {
   "cell_type": "markdown",
   "metadata": {
    "id": "Tdt7xvQkjF_h"
   },
   "source": [
    "Do one simulation run with a simple randomized agent that has enough energy for 20 steps."
   ]
  },
  {
   "cell_type": "code",
   "execution_count": 5,
   "metadata": {
    "id": "YBwp8uTEjF_h",
    "outputId": "f037190c-c7aa-4ff9-a0ed-cc5278e359ec"
   },
   "outputs": [
    {
     "name": "stdout",
     "output_type": "stream",
     "text": [
      "step 0 - action: suck\n",
      "step 1 - action: west\n",
      "step 2 - action: north\n",
      "step 3 - action: north\n",
      "step 4 - action: suck\n",
      "step 5 - action: north\n",
      "step 6 - action: west\n",
      "step 7 - action: west\n",
      "step 8 - action: east\n",
      "step 9 - action: south\n",
      "step 10 - action: east\n",
      "step 11 - action: north\n",
      "step 12 - action: north\n",
      "step 13 - action: south\n",
      "step 14 - action: east\n",
      "step 15 - action: west\n",
      "step 16 - action: west\n",
      "step 17 - action: west\n",
      "step 18 - action: east\n",
      "step 19 - action: suck\n"
     ]
    },
    {
     "data": {
      "text/plain": [
       "3"
      ]
     },
     "execution_count": 5,
     "metadata": {},
     "output_type": "execute_result"
    }
   ],
   "source": [
    "simple_environment(simple_randomized_agent, max_steps = 20)"
   ]
  },
  {
   "cell_type": "markdown",
   "metadata": {
    "id": "G_qQj5brjF_i"
   },
   "source": [
    "# Tasks\n",
    "\n",
    "## General [10 Points]\n",
    "\n",
    "1. Make sure that you use the latest version of this notebook. Sync your forked repository and pull the latest revision.\n",
    "2. Your implementation can use libraries like math, numpy, scipy, but not libraries that implement intelligent agents or complete search algorithms. Try to keep the code simple! In this course, we want to learn about the algorithms and we often do not need to use object-oriented design.\n",
    "3. You notebook needs to be formatted professionally.\n",
    "    - Add additional markdown blocks for your description, comments in the code, add tables and use mathplotlib to produce charts where appropriate\n",
    "    - Do not show debugging output or include an excessive amount of output.\n",
    "    - Check that your PDF file is readable. For example, long lines are cut off in the PDF file. You don't have control over page breaks, so do not worry about these.\n",
    "4. Document your code. Add a short discussion of how your implementation works and your design choices.\n",
    "\n",
    "\n",
    "## Task 1: Implement a simulation environment [20 Points]\n",
    "\n",
    "The simple environment above is not very realistic. Your environment simulator needs to follow the PEAS description from above. It needs to:\n",
    "\n",
    "* Initialize the environment by storing the state of each square (clean/dirty) and making some dirty. ([Help with random numbers and arrays in Python](https://github.com/mhahsler/CS7320-AI/blob/master/HOWTOs/random_numbers_and_arrays.ipynb))\n",
    "* Keep track of the agent's position.\n",
    "* Call the agent function repeatedly and provide the agent function with the sensor inputs.  \n",
    "* React to the agent's actions. E.g, by removing dirt from a square or moving the agent around unless there is a wall in the way.\n",
    "* Keep track of the performance measure. That is, track the agent's actions until all dirty squares are clean and count the number of actions it takes the agent to complete the task.\n",
    "\n",
    "The easiest implementation for the environment is to hold an 2-dimensional array to represent if squares are clean or dirty and to call the agent function in a loop until all squares are clean or a predefined number of steps have been reached (i.e., the robot runs out of energy).\n",
    "\n",
    "The simulation environment should be a function like the `simple_environment()` and needs to work with the simple randomized agent program from above. **Use the same environment for all your agent implementations in the tasks below.**\n",
    "\n",
    "*Note on debugging:* Debugging is difficult. Make sure your environment prints enough information when you use `verbose = True`. Also, implementing a function that the environment can use to displays the room with dirt and the current position of the robot at every step is very useful.  "
   ]
  },
  {
   "cell_type": "code",
   "execution_count": 52,
   "metadata": {
    "id": "f_a8GJKYjF_i"
   },
   "outputs": [
    {
     "name": "stdout",
     "output_type": "stream",
     "text": [
      "['Dirty', 'Clean', 'Clean', 'Clean', 'Clean']\n",
      "['Clean', 'Clean', 'Dirty', 'Dirty', 'Clean']\n",
      "['Clean', 'Clean', 'Clean', 'Clean', 'Clean']\n",
      "['Dirty', 'Clean', 'Clean', 'Clean', 'Dirty']\n",
      "['Clean', 'Clean', 'Clean', 'Clean', 'Clean']\n",
      "step 1 - action: west\n",
      "current location  0   0\n",
      "['Dirty', 'Clean', 'Clean', 'Clean', 'Clean']\n",
      "['Clean', 'Clean', 'Dirty', 'Dirty', 'Clean']\n",
      "['Clean', 'Clean', 'Clean', 'Clean', 'Clean']\n",
      "['Dirty', 'Clean', 'Clean', 'Clean', 'Dirty']\n",
      "['Clean', 'Clean', 'Clean', 'Clean', 'Clean']\n",
      "step 2 - action: south\n",
      "current location  1   0\n",
      "['Dirty', 'Clean', 'Clean', 'Clean', 'Clean']\n",
      "['Clean', 'Clean', 'Dirty', 'Dirty', 'Clean']\n",
      "['Clean', 'Clean', 'Clean', 'Clean', 'Clean']\n",
      "['Dirty', 'Clean', 'Clean', 'Clean', 'Dirty']\n",
      "['Clean', 'Clean', 'Clean', 'Clean', 'Clean']\n",
      "step 3 - action: north\n",
      "current location  0   0\n",
      "['Dirty', 'Clean', 'Clean', 'Clean', 'Clean']\n",
      "['Clean', 'Clean', 'Dirty', 'Dirty', 'Clean']\n",
      "['Clean', 'Clean', 'Clean', 'Clean', 'Clean']\n",
      "['Dirty', 'Clean', 'Clean', 'Clean', 'Dirty']\n",
      "['Clean', 'Clean', 'Clean', 'Clean', 'Clean']\n",
      "step 4 - action: east\n",
      "current location  0   1\n",
      "['Dirty', 'Clean', 'Clean', 'Clean', 'Clean']\n",
      "['Clean', 'Clean', 'Dirty', 'Dirty', 'Clean']\n",
      "['Clean', 'Clean', 'Clean', 'Clean', 'Clean']\n",
      "['Dirty', 'Clean', 'Clean', 'Clean', 'Dirty']\n",
      "['Clean', 'Clean', 'Clean', 'Clean', 'Clean']\n",
      "step 5 - action: south\n",
      "current location  1   1\n",
      "['Dirty', 'Clean', 'Clean', 'Clean', 'Clean']\n",
      "['Clean', 'Clean', 'Dirty', 'Dirty', 'Clean']\n",
      "['Clean', 'Clean', 'Clean', 'Clean', 'Clean']\n",
      "['Dirty', 'Clean', 'Clean', 'Clean', 'Dirty']\n",
      "['Clean', 'Clean', 'Clean', 'Clean', 'Clean']\n",
      "step 6 - action: west\n",
      "current location  1   0\n",
      "['Dirty', 'Clean', 'Clean', 'Clean', 'Clean']\n",
      "['Clean', 'Clean', 'Dirty', 'Dirty', 'Clean']\n",
      "['Clean', 'Clean', 'Clean', 'Clean', 'Clean']\n",
      "['Dirty', 'Clean', 'Clean', 'Clean', 'Dirty']\n",
      "['Clean', 'Clean', 'Clean', 'Clean', 'Clean']\n",
      "step 7 - action: north\n",
      "current location  0   0\n",
      "['Dirty', 'Clean', 'Clean', 'Clean', 'Clean']\n",
      "['Clean', 'Clean', 'Dirty', 'Dirty', 'Clean']\n",
      "['Clean', 'Clean', 'Clean', 'Clean', 'Clean']\n",
      "['Dirty', 'Clean', 'Clean', 'Clean', 'Dirty']\n",
      "['Clean', 'Clean', 'Clean', 'Clean', 'Clean']\n",
      "step 8 - action: west\n",
      "current location  0   0\n",
      "['Dirty', 'Clean', 'Clean', 'Clean', 'Clean']\n",
      "['Clean', 'Clean', 'Dirty', 'Dirty', 'Clean']\n",
      "['Clean', 'Clean', 'Clean', 'Clean', 'Clean']\n",
      "['Dirty', 'Clean', 'Clean', 'Clean', 'Dirty']\n",
      "['Clean', 'Clean', 'Clean', 'Clean', 'Clean']\n",
      "step 9 - action: east\n",
      "current location  0   1\n",
      "['Dirty', 'Clean', 'Clean', 'Clean', 'Clean']\n",
      "['Clean', 'Clean', 'Dirty', 'Dirty', 'Clean']\n",
      "['Clean', 'Clean', 'Clean', 'Clean', 'Clean']\n",
      "['Dirty', 'Clean', 'Clean', 'Clean', 'Dirty']\n",
      "['Clean', 'Clean', 'Clean', 'Clean', 'Clean']\n",
      "step 10 - action: south\n",
      "current location  1   1\n",
      "['Dirty', 'Clean', 'Clean', 'Clean', 'Clean']\n",
      "['Clean', 'Clean', 'Dirty', 'Dirty', 'Clean']\n",
      "['Clean', 'Clean', 'Clean', 'Clean', 'Clean']\n",
      "['Dirty', 'Clean', 'Clean', 'Clean', 'Dirty']\n",
      "['Clean', 'Clean', 'Clean', 'Clean', 'Clean']\n",
      "step 11 - action: south\n",
      "current location  2   1\n",
      "['Dirty', 'Clean', 'Clean', 'Clean', 'Clean']\n",
      "['Clean', 'Clean', 'Dirty', 'Dirty', 'Clean']\n",
      "['Clean', 'Clean', 'Clean', 'Clean', 'Clean']\n",
      "['Dirty', 'Clean', 'Clean', 'Clean', 'Dirty']\n",
      "['Clean', 'Clean', 'Clean', 'Clean', 'Clean']\n",
      "step 12 - action: south\n",
      "current location  3   1\n",
      "['Dirty', 'Clean', 'Clean', 'Clean', 'Clean']\n",
      "['Clean', 'Clean', 'Dirty', 'Dirty', 'Clean']\n",
      "['Clean', 'Clean', 'Clean', 'Clean', 'Clean']\n",
      "['Dirty', 'Clean', 'Clean', 'Clean', 'Dirty']\n",
      "['Clean', 'Clean', 'Clean', 'Clean', 'Clean']\n",
      "step 13 - action: west\n",
      "current location  3   0\n",
      "['Dirty', 'Clean', 'Clean', 'Clean', 'Clean']\n",
      "['Clean', 'Clean', 'Dirty', 'Dirty', 'Clean']\n",
      "['Clean', 'Clean', 'Clean', 'Clean', 'Clean']\n",
      "['Dirty', 'Clean', 'Clean', 'Clean', 'Dirty']\n",
      "['Clean', 'Clean', 'Clean', 'Clean', 'Clean']\n",
      "step 14 - action: suck\n",
      "current location  3   0\n",
      "['Dirty', 'Clean', 'Clean', 'Clean', 'Clean']\n",
      "['Clean', 'Clean', 'Dirty', 'Dirty', 'Clean']\n",
      "['Clean', 'Clean', 'Clean', 'Clean', 'Clean']\n",
      "['Clean', 'Clean', 'Clean', 'Clean', 'Dirty']\n",
      "['Clean', 'Clean', 'Clean', 'Clean', 'Clean']\n",
      "step 15 - action: west\n",
      "current location  3   0\n",
      "['Dirty', 'Clean', 'Clean', 'Clean', 'Clean']\n",
      "['Clean', 'Clean', 'Dirty', 'Dirty', 'Clean']\n",
      "['Clean', 'Clean', 'Clean', 'Clean', 'Clean']\n",
      "['Clean', 'Clean', 'Clean', 'Clean', 'Dirty']\n",
      "['Clean', 'Clean', 'Clean', 'Clean', 'Clean']\n",
      "step 16 - action: west\n",
      "current location  3   0\n",
      "['Dirty', 'Clean', 'Clean', 'Clean', 'Clean']\n",
      "['Clean', 'Clean', 'Dirty', 'Dirty', 'Clean']\n",
      "['Clean', 'Clean', 'Clean', 'Clean', 'Clean']\n",
      "['Clean', 'Clean', 'Clean', 'Clean', 'Dirty']\n",
      "['Clean', 'Clean', 'Clean', 'Clean', 'Clean']\n",
      "step 17 - action: east\n",
      "current location  3   1\n",
      "['Dirty', 'Clean', 'Clean', 'Clean', 'Clean']\n",
      "['Clean', 'Clean', 'Dirty', 'Dirty', 'Clean']\n",
      "['Clean', 'Clean', 'Clean', 'Clean', 'Clean']\n",
      "['Clean', 'Clean', 'Clean', 'Clean', 'Dirty']\n",
      "['Clean', 'Clean', 'Clean', 'Clean', 'Clean']\n",
      "step 18 - action: west\n",
      "current location  3   0\n",
      "['Dirty', 'Clean', 'Clean', 'Clean', 'Clean']\n",
      "['Clean', 'Clean', 'Dirty', 'Dirty', 'Clean']\n",
      "['Clean', 'Clean', 'Clean', 'Clean', 'Clean']\n",
      "['Clean', 'Clean', 'Clean', 'Clean', 'Dirty']\n",
      "['Clean', 'Clean', 'Clean', 'Clean', 'Clean']\n",
      "step 19 - action: east\n",
      "current location  3   1\n",
      "['Dirty', 'Clean', 'Clean', 'Clean', 'Clean']\n",
      "['Clean', 'Clean', 'Dirty', 'Dirty', 'Clean']\n",
      "['Clean', 'Clean', 'Clean', 'Clean', 'Clean']\n",
      "['Clean', 'Clean', 'Clean', 'Clean', 'Dirty']\n",
      "['Clean', 'Clean', 'Clean', 'Clean', 'Clean']\n",
      "step 20 - action: east\n",
      "current location  3   2\n",
      "['Dirty', 'Clean', 'Clean', 'Clean', 'Clean']\n",
      "['Clean', 'Clean', 'Dirty', 'Dirty', 'Clean']\n",
      "['Clean', 'Clean', 'Clean', 'Clean', 'Clean']\n",
      "['Clean', 'Clean', 'Clean', 'Clean', 'Dirty']\n",
      "['Clean', 'Clean', 'Clean', 'Clean', 'Clean']\n"
     ]
    }
   ],
   "source": [
    "# Your code and description goes here\n",
    "\n",
    "def print_environment(environment):\n",
    "    for row in environment:\n",
    "        print(row)\n",
    "\n",
    "def simulation_environment(agent, max_steps, n, verbose = True):\n",
    "    environment = [[\".\"]*n for _ in range(n)]\n",
    "    for i in range(n):\n",
    "        for j in range(n):\n",
    "            rand = random.random()\n",
    "            if rand<0.2:\n",
    "                environment[i][j]=\"Dirty\"\n",
    "            else:\n",
    "                environment[i][j]=\"Clean\"\n",
    "    print_environment(environment)\n",
    "    x = 0\n",
    "    y = 0\n",
    "    for i in range(max_steps):\n",
    "        if x==0:\n",
    "            bumpers[\"north\"]=True\n",
    "        else:\n",
    "            bumpers[\"north\"]=False\n",
    "        if x==4:\n",
    "            bumpers[\"south\"]=True\n",
    "        else:\n",
    "            bumpers[\"south\"]=False\n",
    "        if y==0:\n",
    "            bumpers[\"west\"]=True\n",
    "        else:\n",
    "            bumpers[\"west\"]=False\n",
    "        if y==4:\n",
    "            bumpers[\"east\"]=True\n",
    "        else:\n",
    "            bumpers[\"east\"]=False\n",
    "        if environment[x][y]==\"Dirty\":\n",
    "            dirty = True\n",
    "        elif environment[x][y]==\"Clean\":\n",
    "            dirty = False\n",
    "        action = str(agent(bumpers,dirty))\n",
    "        if action==\"north\":\n",
    "            if bumpers[\"north\"]!=True:\n",
    "                x-=1\n",
    "        elif action==\"south\":\n",
    "            if bumpers[\"south\"]!=True:\n",
    "                x+=1\n",
    "        elif action==\"west\":\n",
    "            if bumpers[\"west\"]!=True:\n",
    "                y-=1\n",
    "        elif action==\"east\":\n",
    "            if bumpers[\"east\"]!=True:\n",
    "                y+=1\n",
    "        else:\n",
    "            environment[x][y]=\"Clean\"\n",
    "        if (verbose): \n",
    "            print(\"step\", i+1 , \"- action:\", action)\n",
    "            print(\"current location \",x,\" \",y)\n",
    "            print_environment(environment)\n",
    "    \n",
    "simulation_environment(simple_randomized_agent,20,5)\n"
   ]
  },
  {
   "cell_type": "markdown",
   "metadata": {
    "id": "gXsl-EjMjF_j"
   },
   "source": [
    "## Task 2:  Implement a simple reflex agent [10 Points]\n",
    "\n",
    "The simple reflex agent randomly walks around but reacts to the bumper sensor by not bumping into the wall and to dirt with sucking. Implement the agent program as a function.\n",
    "\n",
    "_Note:_ Agents cannot directly use variable in the environment. They only gets the percepts as the arguments to the agent function."
   ]
  },
  {
   "cell_type": "code",
   "execution_count": 53,
   "metadata": {
    "id": "Q0ddGaBNjF_j"
   },
   "outputs": [
    {
     "ename": "SyntaxError",
     "evalue": "invalid syntax (1414817366.py, line 15)",
     "output_type": "error",
     "traceback": [
      "\u001b[1;36m  Cell \u001b[1;32mIn[53], line 15\u001b[1;36m\u001b[0m\n\u001b[1;33m    return (str)np.random.choice(valid_actions)\u001b[0m\n\u001b[1;37m                ^\u001b[0m\n\u001b[1;31mSyntaxError\u001b[0m\u001b[1;31m:\u001b[0m invalid syntax\n"
     ]
    }
   ],
   "source": [
    "# Your code and description goes here\n",
    "\n",
    "def reflex_agent(bumpers,dirty):\n",
    "    if dirty:\n",
    "        return \"suck\"\n",
    "    valid_actions =[]\n",
    "    if not bumpers[\"west\"]:\n",
    "        valid_actions.append(\"west\")\n",
    "    if not bumpers[\"east\"]:\n",
    "        valid_actions.append(\"east\")\n",
    "    if not bumpers[\"north\"]:\n",
    "        valid_actions.append(\"north\")\n",
    "    if not bumpers[\"south\"]:\n",
    "        valid_actions.append(\"south\")\n",
    "    return np.random.choice(valid_actions)\n",
    "\n",
    "simulation_environment(simple_randomized_agent,20,5)"
   ]
  },
  {
   "cell_type": "markdown",
   "metadata": {
    "id": "M1q8qmwvjF_j"
   },
   "source": [
    "## Task 3: Implement a model-based reflex agent [20 Points]\n",
    "\n",
    "Model-based agents use a state to keep track of what they have done and perceived so far. Your agent needs to find out where it is located and then keep track of its current location. You also need a set of rules based on the state and the percepts to make sure that the agent will clean the whole room. For example, the agent can move to a corner to determine its location and then it can navigate through the whole room and clean dirty squares.\n",
    "\n",
    "Describe how you define the __agent state__ and how your agent works before implementing it. ([Help with implementing state information on Python](https://github.com/mhahsler/CS7320-AI/blob/master/HOWTOs/store_agent_state_information.ipynb))"
   ]
  },
  {
   "cell_type": "code",
   "execution_count": 40,
   "metadata": {
    "id": "daAwOtmTjF_j"
   },
   "outputs": [],
   "source": [
    "# Your short description of the state and your implementation goes here\n",
    "# The agent state is described as its current location in the environment, and will have x and y variables to represent it.\n",
    "\n",
    "\n",
    "\n"
   ]
  },
  {
   "cell_type": "code",
   "execution_count": 7,
   "metadata": {
    "id": "wZqL8CCAjF_j"
   },
   "outputs": [],
   "source": [
    "# Your code goes here\n",
    "class model_based_reflex_agent:\n",
    "    def __init__(self,x,y,n):\n",
    "        self.x = x\n",
    "        self.y=y\n",
    "        self.visited=[[False]*n for _ in range(n)]\n",
    "        self.prev = \"east\"\n",
    "    def action(bumpers,dirty):\n",
    "        self.visited[self.x][self.y]=True\n",
    "        if not self.visited[0][0]:\n",
    "            if not bumpers[\"west\"]:\n",
    "                return \"west\"\n",
    "            else :\n",
    "                return \"north\"\n",
    "        coord = coords(self.x,self.y,action)\n",
    "        \n",
    "        if dirty: \n",
    "            return \"suck\"\n",
    "        \n",
    "        if bumpers[self.prev] or visited[coord[0]][coord[1]]:\n",
    "            if self.prev==\"east\":\n",
    "                self.prev=\"south\"\n",
    "                return \"south\"\n",
    "            elif self.prev==\"south\":\n",
    "                self.prev=\"west\"\n",
    "                return \"west\"\n",
    "            elif self.pref == \"west\":\n",
    "                self.prev=\"north\"\n",
    "                return \"north\"\n",
    "            elif self.pref == \"north\":\n",
    "                self.prev=\"east\"\n",
    "                return \"east\"\n",
    "            \n",
    "    def coords (x,y,action):\n",
    "        if action==\"north\":\n",
    "            return [x-1,y]\n",
    "        elif action==\"south\":\n",
    "            return [x+1,y]\n",
    "        elif action==\"east\":\n",
    "            return [x,y+1]\n",
    "        elif action ==\"west\":\n",
    "            return [x,y-1]\n",
    "        \n",
    "    \n",
    "    \n"
   ]
  },
  {
   "cell_type": "markdown",
   "metadata": {
    "id": "Qi3JK-9hjF_k"
   },
   "source": [
    "## Task 4: Simulation study [30 Points]\n",
    "\n",
    "Compare the performance (the performance measure is defined in the PEAS description above) of the agents using  environments of different size. E.g., $5 \\times 5$, $10 \\times 10$ and\n",
    "$100 \\times 100$. Use 100 random runs for each. Present the results using tables and graphs. Discuss the differences between the agents.\n",
    "([Help with charts and tables in Python](https://github.com/mhahsler/CS7320-AI/blob/master/HOWTOs/charts_and_tables.ipynb))"
   ]
  },
  {
   "cell_type": "code",
   "execution_count": 42,
   "metadata": {
    "id": "ccpkRw9VjF_k"
   },
   "outputs": [],
   "source": [
    "# Your code goes here"
   ]
  },
  {
   "cell_type": "markdown",
   "metadata": {
    "id": "tlAtLmp6jF_k"
   },
   "source": [
    "Fill out the following table with the average performance measure for 100 random runs (you may also create this table with code):\n",
    "\n",
    "| Size     | Randomized Agent | Simple Reflex Agent | Model-based Reflex Agent |\n",
    "|----------|------------------|---------------------|--------------------------|\n",
    "| 5x5     | | | |\n",
    "| 10x10   | | | |\n",
    "| 100x100 | | | |\n",
    "\n",
    "Add charts to compare the performance of the different agents."
   ]
  },
  {
   "cell_type": "code",
   "execution_count": 43,
   "metadata": {
    "id": "J361sF6yjF_k"
   },
   "outputs": [],
   "source": [
    "# Your graphs and discussion of the results goes here"
   ]
  },
  {
   "cell_type": "markdown",
   "metadata": {
    "id": "LVOWQhVOjF_k"
   },
   "source": [
    "## Task 5: Robustness of the agent implementations [10 Points]\n",
    "\n",
    "Describe how **your agent implementations** will perform\n",
    "\n",
    "* if it is put into a rectangular room with unknown size,\n",
    "* if the cleaning area can have an irregular shape (e.g., a hallway connecting two rooms), or\n",
    "* if the room contains obstacles (i.e., squares that it cannot pass through and trigger the bumper sensors)."
   ]
  },
  {
   "cell_type": "code",
   "execution_count": null,
   "metadata": {
    "id": "1d1TRkpcjF_l"
   },
   "outputs": [],
   "source": [
    "# Answer goes here"
   ]
  },
  {
   "cell_type": "markdown",
   "metadata": {
    "id": "w9DyCkSckcFB"
   },
   "source": [
    "\n",
    "\n",
    "---\n",
    "Assignment adapted from [Michael Hahsler](https://github.com/mhahsler/CS7320-AI) under [CC BY-SA](https://creativecommons.org/licenses/by-sa/4.0/deed.en) license.\n"
   ]
  }
 ],
 "metadata": {
  "colab": {
   "provenance": []
  },
  "kernelspec": {
   "display_name": "Python 3 (ipykernel)",
   "language": "python",
   "name": "python3"
  },
  "language_info": {
   "codemirror_mode": {
    "name": "ipython",
    "version": 3
   },
   "file_extension": ".py",
   "mimetype": "text/x-python",
   "name": "python",
   "nbconvert_exporter": "python",
   "pygments_lexer": "ipython3",
   "version": "3.11.5"
  },
  "toc-autonumbering": false
 },
 "nbformat": 4,
 "nbformat_minor": 1
}
